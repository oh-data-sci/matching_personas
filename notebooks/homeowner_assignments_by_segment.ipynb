{
 "cells": [
  {
   "cell_type": "markdown",
   "id": "0d601215-e268-476d-8ae8-b6d7a997ff30",
   "metadata": {},
   "source": [
    "homeowner segments and assignment rates \n",
    "===\n",
    "# introduction\n",
    "now we look at homeowner segments identified in a previous notebook, and consider the application rates and assignment counts for each segment compare. which segments receive a high number of applications? which struggle to attract applicants? which segments have an easier time finding sitters, which harder?\n",
    "\n",
    "- applications (requests by a sitter to a sit, and invites of homeowneres to sitters)\n",
    "- assignments (sitter + sits connections)\n"
   ]
  },
  {
   "cell_type": "code",
   "execution_count": null,
   "id": "d3ec525a-7f52-4503-b9ba-cc72ce9ff80b",
   "metadata": {},
   "outputs": [],
   "source": []
  }
 ],
 "metadata": {
  "kernelspec": {
   "display_name": "Python 3 (ipykernel)",
   "language": "python",
   "name": "python3"
  },
  "language_info": {
   "codemirror_mode": {
    "name": "ipython",
    "version": 3
   },
   "file_extension": ".py",
   "mimetype": "text/x-python",
   "name": "python",
   "nbconvert_exporter": "python",
   "pygments_lexer": "ipython3",
   "version": "3.8.18"
  }
 },
 "nbformat": 4,
 "nbformat_minor": 5
}
