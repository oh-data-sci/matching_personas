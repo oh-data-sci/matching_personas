{
 "cells": [
  {
   "cell_type": "markdown",
   "id": "10e9cce8-778a-4768-b782-241e14f4d092",
   "metadata": {},
   "source": [
    "homeowner customer segments\n",
    "===\n",
    "# introduction\n",
    "now let us look at the pet sitters in isolation. we know lots of properties of those:\n",
    "\n",
    "pet sitter profiles augmented table has a number of useful fields for clustering\n",
    "\n",
    "considering this highly multidimensional let's explore what groups and grouping are there between them? "
   ]
  },
  {
   "cell_type": "code",
   "execution_count": 1,
   "id": "c47f8c71-27b8-48da-b951-36d123c55df1",
   "metadata": {},
   "outputs": [],
   "source": [
    "import duckdb\n",
    "import gower\n",
    "import matplotlib.pyplot as plt\n",
    "import numpy as np\n",
    "import pandas as pd\n",
    "import pickle\n",
    "import seaborn as sns\n",
    "from   sklearn.decomposition  import PCA\n",
    "from   sklearn.metrics        import DistanceMetric\n",
    "from   sklearn.metrics        import silhouette_score\n",
    "from   sklearn.preprocessing  import LabelEncoder\n",
    "from   sklearn_extra.cluster  import KMedoids\n",
    "import umap\n",
    "DATABASEFILE='../data/sits.ddb'  # path to persistent duckdb database file\n",
    "INPROGRESS='../data/inprogress/' # path to folder for caching intermediate data products"
   ]
  },
  {
   "cell_type": "code",
   "execution_count": 70,
   "id": "5672830b-4e74-44bb-9d83-96d417b8a618",
   "metadata": {},
   "outputs": [],
   "source": [
    "sample_no = 3"
   ]
  },
  {
   "cell_type": "markdown",
   "id": "809ee119-8d7a-48b1-b37e-26bfb111b60f",
   "metadata": {},
   "source": [
    "# fetch data"
   ]
  },
  {
   "cell_type": "markdown",
   "id": "c9f10b71-0a2e-4302-9f0b-8c72597fdb23",
   "metadata": {},
   "source": [
    "# reduce size by sampling\n",
    "calculating the distance matrix of 60k homeowners give 360 million interconncetions. a lot of clarity is lost at a full set. so we sample a random subset of 10k homeowners and cluster the sampler instead. we then repeat the whole process to gauge robustness."
   ]
  },
  {
   "cell_type": "code",
   "execution_count": 71,
   "id": "1fc40ed4-49ab-459a-a756-357c6121a6f2",
   "metadata": {},
   "outputs": [],
   "source": [
    "listings_df= pd.read_parquet('../data/listings_prep.parquet').sample(10_000)\n",
    "# listings_df.info()"
   ]
  },
  {
   "cell_type": "code",
   "execution_count": 72,
   "id": "c785d34b-bac7-46fa-ad10-99b9bcdacef2",
   "metadata": {},
   "outputs": [
    {
     "data": {
      "text/plain": [
       "(Index(['accessible_by_public_transport', 'avg_nb_apps_per_assg',\n",
       "        'car_included', 'car_required', 'disabled_access', 'family_friendly',\n",
       "        'home_type', 'id', 'minutes_pet_can_be_left_alone',\n",
       "        'nb_assignments_filled', 'nb_assignments_published', 'nb_distinct_pets',\n",
       "        'nb_domestic_sitters', 'nb_invites', 'nb_of_pets', 'nb_of_photos',\n",
       "        'nb_repeat_sitters', 'nb_unique_sitters', 'pets_welcome',\n",
       "        'wish_to_meet_in_person', 'wish_to_video_call', 'other_animals',\n",
       "        'days_since_modified', 'year_approved', 'attraction_city',\n",
       "        'attraction_beach', 'attraction_mountain', 'attraction_countryside',\n",
       "        'pet_dog', 'pet_cat', 'pet_bird', 'pet_fish', 'pet_reptile',\n",
       "        'pet_poultry', 'pet_farm_animal', 'photo_interior', 'photo_exterior',\n",
       "        'photo_attraction', 'photo_garden', 'photo_pool', 'photo_view',\n",
       "        'welcomes_single', 'welcomes_couple', 'welcomes_family',\n",
       "        'welcomes_any_age', 'welcomes_baby', 'welcomes_toddler',\n",
       "        'welcomes_child', 'welcomes_teen', 'welcomes_young'],\n",
       "       dtype='object'),\n",
       " 50)"
      ]
     },
     "execution_count": 72,
     "metadata": {},
     "output_type": "execute_result"
    }
   ],
   "source": [
    "# with duckdb.connect(DATABASEFILE) as con:\n",
    "    # listings_df = con.sql(\"SELECT * FROM listings_prep\").fetchdf()\n",
    "listings_df.columns, len(listings_df.columns)"
   ]
  },
  {
   "cell_type": "markdown",
   "id": "a2ae8fa2-95e3-4c03-b58b-4783ed2cee40",
   "metadata": {},
   "source": [
    "# data preparation"
   ]
  },
  {
   "cell_type": "code",
   "execution_count": null,
   "id": "af42283e-eb83-470c-a1f2-99266d5bbc36",
   "metadata": {},
   "outputs": [],
   "source": []
  },
  {
   "cell_type": "code",
   "execution_count": 73,
   "id": "70710b50-c071-4e21-902a-5cbdb1dae352",
   "metadata": {},
   "outputs": [
    {
     "data": {
      "text/plain": [
       "bool        34\n",
       "int32       10\n",
       "Int16        2\n",
       "int8         1\n",
       "category     1\n",
       "int16        1\n",
       "category     1\n",
       "Name: count, dtype: int64"
      ]
     },
     "execution_count": 73,
     "metadata": {},
     "output_type": "execute_result"
    }
   ],
   "source": [
    "listings_df.dtypes.value_counts()"
   ]
  },
  {
   "cell_type": "code",
   "execution_count": 74,
   "id": "5d08297f-ab25-476d-bfb6-0cbfa8a9b0fe",
   "metadata": {},
   "outputs": [],
   "source": [
    "categorical_features = list(listings_df.select_dtypes(include=['bool', 'category']).columns)\n",
    "numerical_features   = list(listings_df.select_dtypes(include=['int8','int16', 'int32',]).columns) \n",
    "numerical_features.remove('id') # not using the id as a clustering/segmentation feature"
   ]
  },
  {
   "cell_type": "code",
   "execution_count": null,
   "id": "0e405179-7681-4cc5-86ce-b4572b838ac1",
   "metadata": {},
   "outputs": [],
   "source": []
  },
  {
   "cell_type": "code",
   "execution_count": 75,
   "id": "43b250a0-a422-4fe7-ab01-658487ee6e48",
   "metadata": {},
   "outputs": [],
   "source": [
    "# encoders for categorical variables\n",
    "encoders = {}\n",
    "for cat_col in categorical_features:\n",
    "    if cat_col in listings_df.columns:\n",
    "        encoders[cat_col] = LabelEncoder()\n",
    "        listings_df[cat_col] = encoders[cat_col].fit_transform(listings_df[cat_col])\n"
   ]
  },
  {
   "cell_type": "code",
   "execution_count": 76,
   "id": "578ec3cb-f5bb-4da7-9b7f-bc259a46ad07",
   "metadata": {},
   "outputs": [],
   "source": [
    "# collect feature columns\n",
    "feature_columns = []\n",
    "feature_columns.extend(categorical_features)\n",
    "feature_columns.extend(numerical_features)\n",
    "# ensure all features are included in the DataFrame\n",
    "feature_columns = [col for col in feature_columns if col in listings_df.columns]\n",
    "# feature type array (1 for categorical, 0 for numeric)\n",
    "feature_types = [1 if col in categorical_features else 0 for col in feature_columns]\n"
   ]
  },
  {
   "cell_type": "markdown",
   "id": "1ca958b0-e2c9-4a3e-89d4-53a7a210d2b8",
   "metadata": {},
   "source": [
    "# gower distance matrix calculations"
   ]
  },
  {
   "cell_type": "code",
   "execution_count": 77,
   "id": "db3dbc29-6160-43d3-b7fb-c378560e6e88",
   "metadata": {},
   "outputs": [
    {
     "name": "stdout",
     "output_type": "stream",
     "text": [
      "CPU times: user 3min 57s, sys: 28.6 s, total: 4min 26s\n",
      "Wall time: 4min 26s\n"
     ]
    }
   ],
   "source": [
    "%%time\n",
    "gower_dist = gower.gower_matrix(listings_df[feature_columns], cat_features=feature_types)"
   ]
  },
  {
   "cell_type": "code",
   "execution_count": 78,
   "id": "bfed4d3b-e56d-4f8b-9d14-d776bf86cf72",
   "metadata": {},
   "outputs": [
    {
     "data": {
      "text/plain": [
       "(10000, 10000)"
      ]
     },
     "execution_count": 78,
     "metadata": {},
     "output_type": "execute_result"
    }
   ],
   "source": [
    "gower_dist.shape"
   ]
  },
  {
   "cell_type": "code",
   "execution_count": 79,
   "id": "130368f6-0a23-4512-90d1-145334cfe314",
   "metadata": {},
   "outputs": [],
   "source": [
    "# save a copy of the distance matrix\n",
    "with open(INPROGRESS+'gower_distance_listings.pickle', 'wb+') as fh:\n",
    "    pickle.dump(gower_dist, fh, protocol=pickle.HIGHEST_PROTOCOL)\n",
    "# fetch anew \n",
    "# with open(NPROGRESS+'gower_distance_listings.pickle', 'rb') as fh:\n",
    "#     gower_dist=pickle.load(fh)"
   ]
  },
  {
   "cell_type": "code",
   "execution_count": 80,
   "id": "feaff55b-e8a6-43c8-bcd7-55f9211107ab",
   "metadata": {},
   "outputs": [
    {
     "name": "stdout",
     "output_type": "stream",
     "text": [
      "for k = 2, the kmedoids silhouette score is 0.6801153421401978\n",
      "for k = 3, the kmedoids silhouette score is 0.892041027545929\n",
      "for k = 4, the kmedoids silhouette score is 0.9031365513801575\n",
      "for k = 5, the kmedoids silhouette score is 0.7150496244430542\n",
      "for k = 6, the kmedoids silhouette score is 0.5552074909210205\n",
      "for k = 7, the kmedoids silhouette score is 0.5351259112358093\n",
      "for k = 8, the kmedoids silhouette score is 0.5025179982185364\n",
      "CPU times: user 3min 51s, sys: 837 ms, total: 3min 52s\n",
      "Wall time: 3min 52s\n"
     ]
    }
   ],
   "source": [
    "%%time\n",
    "# use k-medoids clustering with mixed feature types. optimise the silhouette score to choose k, the number of clusters\n",
    "sil_scores = []\n",
    "range_n_clusters = range(2, 9)  # somewhere between 2 and 8 clusters\n",
    "\n",
    "for n_clusters in range_n_clusters:\n",
    "    # initialize kmedoids\n",
    "    kmedoids = KMedoids(n_clusters=n_clusters, metric='precomputed', method='pam', init='k-medoids++', random_state=42)\n",
    "    \n",
    "    # fit kmedoids to the distance matrix\n",
    "    kmedoids.fit(gower_dist)\n",
    "    \n",
    "    # collect the cluster labels\n",
    "    cluster_labels = kmedoids.labels_\n",
    "    \n",
    "    # silhouette score\n",
    "    silhouette_avg = silhouette_score(gower_dist, cluster_labels, metric='precomputed')\n",
    "    sil_scores.append(silhouette_avg)\n",
    "    print(f\"for k = {n_clusters}, the kmedoids silhouette score is {silhouette_avg}\")\n"
   ]
  },
  {
   "cell_type": "code",
   "execution_count": 81,
   "id": "406f5683-7b40-406a-b117-4191c8806731",
   "metadata": {},
   "outputs": [],
   "source": [
    "optimal_n_clusters = range_n_clusters[np.argmax(sil_scores)] # 4 clusters are optimal"
   ]
  },
  {
   "cell_type": "code",
   "execution_count": null,
   "id": "cdf3021d-a2b7-45aa-862c-fd49679a2087",
   "metadata": {},
   "outputs": [],
   "source": []
  },
  {
   "cell_type": "code",
   "execution_count": 82,
   "id": "93c311bd-effa-4d5b-ba75-faf002f966f9",
   "metadata": {},
   "outputs": [
    {
     "name": "stdout",
     "output_type": "stream",
     "text": [
      "optimal number of clusters (by silhouette score): 4\n"
     ]
    },
    {
     "data": {
      "image/png": "[encoded data removed]",
      "text/plain": [
       "<Figure size 1700x600 with 1 Axes>"
      ]
     },
     "metadata": {},
     "output_type": "display_data"
    }
   ],
   "source": [
    "print(f\"optimal number of clusters (by silhouette score): {optimal_n_clusters}\")\n",
    "plt.figure(figsize=(17, 6))\n",
    "plt.plot(range_n_clusters, sil_scores, 'o-')\n",
    "plt.xlabel('k')\n",
    "plt.ylabel(f'silhouette score')\n",
    "plt.ylim((0, 1))\n",
    "plt.savefig(f'../img/listings_silhuette_{sample_no}.png')\n",
    "plt.show()"
   ]
  },
  {
   "cell_type": "code",
   "execution_count": 83,
   "id": "f92fe7ca-b6b0-481a-899c-3c412571b9bb",
   "metadata": {},
   "outputs": [
    {
     "data": {
      "text/html": [
       "<style>#sk-container-id-2 {color: black;}#sk-container-id-2 pre{padding: 0;}#sk-container-id-2 div.sk-toggleable {background-color: white;}#sk-container-id-2 label.sk-toggleable__label {cursor: pointer;display: block;width: 100%;margin-bottom: 0;padding: 0.3em;box-sizing: border-box;text-align: center;}#sk-container-id-2 label.sk-toggleable__label-arrow:before {content: \"▸\";float: left;margin-right: 0.25em;color: #696969;}#sk-container-id-2 label.sk-toggleable__label-arrow:hover:before {color: black;}#sk-container-id-2 div.sk-estimator:hover label.sk-toggleable__label-arrow:before {color: black;}#sk-container-id-2 div.sk-toggleable__content {max-height: 0;max-width: 0;overflow: hidden;text-align: left;background-color: #f0f8ff;}#sk-container-id-2 div.sk-toggleable__content pre {margin: 0.2em;color: black;border-radius: 0.25em;background-color: #f0f8ff;}#sk-container-id-2 input.sk-toggleable__control:checked~div.sk-toggleable__content {max-height: 200px;max-width: 100%;overflow: auto;}#sk-container-id-2 input.sk-toggleable__control:checked~label.sk-toggleable__label-arrow:before {content: \"▾\";}#sk-container-id-2 div.sk-estimator input.sk-toggleable__control:checked~label.sk-toggleable__label {background-color: #d4ebff;}#sk-container-id-2 div.sk-label input.sk-toggleable__control:checked~label.sk-toggleable__label {background-color: #d4ebff;}#sk-container-id-2 input.sk-hidden--visually {border: 0;clip: rect(1px 1px 1px 1px);clip: rect(1px, 1px, 1px, 1px);height: 1px;margin: -1px;overflow: hidden;padding: 0;position: absolute;width: 1px;}#sk-container-id-2 div.sk-estimator {font-family: monospace;background-color: #f0f8ff;border: 1px dotted black;border-radius: 0.25em;box-sizing: border-box;margin-bottom: 0.5em;}#sk-container-id-2 div.sk-estimator:hover {background-color: #d4ebff;}#sk-container-id-2 div.sk-parallel-item::after {content: \"\";width: 100%;border-bottom: 1px solid gray;flex-grow: 1;}#sk-container-id-2 div.sk-label:hover label.sk-toggleable__label {background-color: #d4ebff;}#sk-container-id-2 div.sk-serial::before {content: \"\";position: absolute;border-left: 1px solid gray;box-sizing: border-box;top: 0;bottom: 0;left: 50%;z-index: 0;}#sk-container-id-2 div.sk-serial {display: flex;flex-direction: column;align-items: center;background-color: white;padding-right: 0.2em;padding-left: 0.2em;position: relative;}#sk-container-id-2 div.sk-item {position: relative;z-index: 1;}#sk-container-id-2 div.sk-parallel {display: flex;align-items: stretch;justify-content: center;background-color: white;position: relative;}#sk-container-id-2 div.sk-item::before, #sk-container-id-2 div.sk-parallel-item::before {content: \"\";position: absolute;border-left: 1px solid gray;box-sizing: border-box;top: 0;bottom: 0;left: 50%;z-index: -1;}#sk-container-id-2 div.sk-parallel-item {display: flex;flex-direction: column;z-index: 1;position: relative;background-color: white;}#sk-container-id-2 div.sk-parallel-item:first-child::after {align-self: flex-end;width: 50%;}#sk-container-id-2 div.sk-parallel-item:last-child::after {align-self: flex-start;width: 50%;}#sk-container-id-2 div.sk-parallel-item:only-child::after {width: 0;}#sk-container-id-2 div.sk-dashed-wrapped {border: 1px dashed gray;margin: 0 0.4em 0.5em 0.4em;box-sizing: border-box;padding-bottom: 0.4em;background-color: white;}#sk-container-id-2 div.sk-label label {font-family: monospace;font-weight: bold;display: inline-block;line-height: 1.2em;}#sk-container-id-2 div.sk-label-container {text-align: center;}#sk-container-id-2 div.sk-container {/* jupyter's `normalize.less` sets `[hidden] { display: none; }` but bootstrap.min.css set `[hidden] { display: none !important; }` so we also need the `!important` here to be able to override the default hidden behavior on the sphinx rendered scikit-learn.org. See: https://github.com/scikit-learn/scikit-learn/issues/21755 */display: inline-block !important;position: relative;}#sk-container-id-2 div.sk-text-repr-fallback {display: none;}</style><div id=\"sk-container-id-2\" class=\"sk-top-container\"><div class=\"sk-text-repr-fallback\"><pre>KMedoids(init=&#x27;k-medoids++&#x27;, method=&#x27;pam&#x27;, metric=&#x27;precomputed&#x27;, n_clusters=4,\n",
       "         random_state=42)</pre><b>In a Jupyter environment, please rerun this cell to show the HTML representation or trust the notebook. <br />On GitHub, the HTML representation is unable to render, please try loading this page with nbviewer.org.</b></div><div class=\"sk-container\" hidden><div class=\"sk-item\"><div class=\"sk-estimator sk-toggleable\"><input class=\"sk-toggleable__control sk-hidden--visually\" id=\"sk-estimator-id-2\" type=\"checkbox\" checked><label for=\"sk-estimator-id-2\" class=\"sk-toggleable__label sk-toggleable__label-arrow\">KMedoids</label><div class=\"sk-toggleable__content\"><pre>KMedoids(init=&#x27;k-medoids++&#x27;, method=&#x27;pam&#x27;, metric=&#x27;precomputed&#x27;, n_clusters=4,\n",
       "         random_state=42)</pre></div></div></div></div></div>"
      ],
      "text/plain": [
       "KMedoids(init='k-medoids++', method='pam', metric='precomputed', n_clusters=4,\n",
       "         random_state=42)"
      ]
     },
     "execution_count": 83,
     "metadata": {},
     "output_type": "execute_result"
    }
   ],
   "source": [
    "kmedoids = KMedoids(n_clusters=optimal_n_clusters, metric='precomputed', method='pam', init='k-medoids++', random_state=42)\n",
    "kmedoids.fit(gower_dist)"
   ]
  },
  {
   "cell_type": "code",
   "execution_count": 84,
   "id": "94a78450-85c3-4d2f-be35-cbc8f4b72878",
   "metadata": {},
   "outputs": [],
   "source": [
    "# save a copy of the kmedoids model\n",
    "with open(INPROGRESS+'kmedoids_model_listings.pickle', 'wb+') as fh:\n",
    "    pickle._dump(kmedoids, fh, protocol=pickle.HIGHEST_PROTOCOL)\n",
    "# fetch anew \n",
    "# with open(INPROGRESS+'kmedoids_model_listings.pickle', 'rb') as fh:\n",
    "#     kmedoids=pickle.load(fh)"
   ]
  },
  {
   "cell_type": "code",
   "execution_count": 85,
   "id": "5e22977d-68d4-4c60-95e6-f7ed645ef9d1",
   "metadata": {},
   "outputs": [],
   "source": [
    "# put cluster labels on the sitter profiles\n",
    "listings_df['cluster'] = kmedoids.labels_"
   ]
  },
  {
   "cell_type": "code",
   "execution_count": 86,
   "id": "0eeec1d8-d12a-4404-8fa9-7106351c41df",
   "metadata": {},
   "outputs": [],
   "source": [
    "# visualize the clusters using dimensionality reduction\n",
    "# scaled distance matrix --> similarity matrix\n",
    "similarity_matrix = 1 - gower_dist\n",
    "\n",
    "# principal component analysis to reduce dataset to 2 dimensions for visualization\n",
    "pca = PCA(n_components=2)\n",
    "pca_result = pca.fit_transform(similarity_matrix)\n",
    "\n"
   ]
  },
  {
   "cell_type": "code",
   "execution_count": 87,
   "id": "a6213386-c98c-423a-b696-41eb1a21b5d7",
   "metadata": {},
   "outputs": [],
   "source": [
    "# save a copy of the kmedoids model\n",
    "with open(INPROGRESS+'dim_red_pca.pickle', 'wb+') as fh:\n",
    "    pickle._dump(pca_result, fh, protocol=pickle.HIGHEST_PROTOCOL)\n",
    "\n",
    "# fetch anew \n",
    "# with open(INPROGRESS+'dim_red_pca.pickle', 'rb') as fh:\n",
    "#     pca_result=pickle.load(fh)"
   ]
  },
  {
   "cell_type": "code",
   "execution_count": 67,
   "id": "9e35ecf7-41b8-48e2-a832-d11df913dc78",
   "metadata": {},
   "outputs": [
    {
     "data": {
      "image/png": "[encoded data removed]",
      "text/plain": [
       "<Figure size 1200x800 with 1 Axes>"
      ]
     },
     "metadata": {},
     "output_type": "display_data"
    }
   ],
   "source": [
    "# a dataframe just for plotting\n",
    "plot_df = pd.DataFrame({\n",
    "    'dimension_1': pca_result[:, 0],\n",
    "    'dimension_2': pca_result[:, 1],\n",
    "    'cluster_label': listings_df['cluster']\n",
    "})\n",
    "\n",
    "# Plot the clusters\n",
    "plt.figure(figsize=(12, 8))\n",
    "sns.scatterplot(x='dimension_1', y='dimension_2', hue='cluster_label', data=plot_df, palette='viridis', s=100)\n",
    "# mark the medoids\n",
    "for i, medoid_idx in enumerate(kmedoids.medoid_indices_):\n",
    "    plt.scatter(pca_result[medoid_idx, 0], pca_result[medoid_idx, 1], \n",
    "                s=300, linewidth=2, \n",
    "                facecolors='none', edgecolors='red',\n",
    "                label='medoid' if i == 0 else \"\")\n",
    "plt.legend()\n",
    "plt.title('PCA visualization of clusters')\n",
    "\n",
    "plt.savefig(f'../img/listings_cluster_separation_{sample_no}.png')\n",
    "\n",
    "plt.show()"
   ]
  },
  {
   "cell_type": "markdown",
   "id": "9c2daa3d-01a5-4ecd-87a2-252dcd11fcee",
   "metadata": {},
   "source": [
    "- very clean separation of clusters. "
   ]
  },
  {
   "cell_type": "code",
   "execution_count": 89,
   "id": "d8c6003d-ca85-40a6-868e-b9ede72e32cd",
   "metadata": {},
   "outputs": [
    {
     "data": {
      "text/plain": [
       "cluster\n",
       "2    4816\n",
       "0    4194\n",
       "1     499\n",
       "3     491\n",
       "Name: count, dtype: int64"
      ]
     },
     "metadata": {},
     "output_type": "display_data"
    },
    {
     "name": "stdout",
     "output_type": "stream",
     "text": [
      "-----------------------------------\n",
      "cluster 0 characteristics:\n",
      "cluster contains 4194 homeowner listings\n",
      "accessible_by_public_transport distribution:\n"
     ]
    },
    {
     "data": {
      "text/plain": [
       "False    1.0\n",
       "Name: proportion, dtype: float64"
      ]
     },
     "metadata": {},
     "output_type": "display_data"
    },
    {
     "name": "stdout",
     "output_type": "stream",
     "text": [
      "car_included distribution:\n"
     ]
    },
    {
     "data": {
      "text/plain": [
       "False    1.0\n",
       "Name: proportion, dtype: float64"
      ]
     },
     "metadata": {},
     "output_type": "display_data"
    },
    {
     "name": "stdout",
     "output_type": "stream",
     "text": [
      "car_required distribution:\n"
     ]
    },
    {
     "data": {
      "text/plain": [
       "True     0.927515\n",
       "False    0.072485\n",
       "Name: proportion, dtype: float64"
      ]
     },
     "metadata": {},
     "output_type": "display_data"
    },
    {
     "name": "stdout",
     "output_type": "stream",
     "text": [
      "disabled_access distribution:\n"
     ]
    },
    {
     "data": {
      "text/plain": [
       "False    0.8598\n",
       "True     0.1402\n",
       "Name: proportion, dtype: float64"
      ]
     },
     "metadata": {},
     "output_type": "display_data"
    },
    {
     "name": "stdout",
     "output_type": "stream",
     "text": [
      "family_friendly distribution:\n"
     ]
    },
    {
     "data": {
      "text/plain": [
       "False    0.718646\n",
       "True     0.281354\n",
       "Name: proportion, dtype: float64"
      ]
     },
     "metadata": {},
     "output_type": "display_data"
    },
    {
     "name": "stdout",
     "output_type": "stream",
     "text": [
      "home_type distribution:\n"
     ]
    },
    {
     "data": {
      "text/plain": [
       "house        0.935861\n",
       "apartment    0.055556\n",
       "unknown      0.008584\n",
       "Name: proportion, dtype: float64"
      ]
     },
     "metadata": {},
     "output_type": "display_data"
    },
    {
     "name": "stdout",
     "output_type": "stream",
     "text": [
      "pets_welcome distribution:\n"
     ]
    },
    {
     "data": {
      "text/plain": [
       "True     0.811397\n",
       "False    0.188603\n",
       "Name: proportion, dtype: float64"
      ]
     },
     "metadata": {},
     "output_type": "display_data"
    },
    {
     "name": "stdout",
     "output_type": "stream",
     "text": [
      "wish_to_meet_in_person distribution:\n"
     ]
    },
    {
     "data": {
      "text/plain": [
       "True     0.981879\n",
       "False    0.018121\n",
       "Name: proportion, dtype: float64"
      ]
     },
     "metadata": {},
     "output_type": "display_data"
    },
    {
     "name": "stdout",
     "output_type": "stream",
     "text": [
      "wish_to_video_call distribution:\n"
     ]
    },
    {
     "data": {
      "text/plain": [
       "True     0.993801\n",
       "False    0.006199\n",
       "Name: proportion, dtype: float64"
      ]
     },
     "metadata": {},
     "output_type": "display_data"
    },
    {
     "name": "stdout",
     "output_type": "stream",
     "text": [
      "other_animals distribution:\n"
     ]
    },
    {
     "data": {
      "text/plain": [
       "None                                                 0.994278\n",
       "mallards and reisdent moorhens                       0.000238\n",
       "doves                                                0.000238\n",
       "alpacas                                              0.000238\n",
       "geese & chickens                                     0.000238\n",
       "guinea pigs                                          0.000238\n",
       "axolotyl                                             0.000238\n",
       "steers                                               0.000238\n",
       "bees                                                 0.000238\n",
       "must be available for the entire two week period.    0.000238\n",
       "rabbits                                              0.000238\n",
       "the kittens are most likely to still be here         0.000238\n",
       "horses are mini horses. dogs are mini, too           0.000238\n",
       "mini donkeys                                         0.000238\n",
       "2 donkeys, 2 head of cattle                          0.000238\n",
       "4 alpacas                                            0.000238\n",
       "tortoise                                             0.000238\n",
       "donkey 1                                             0.000238\n",
       "rabit, turtoise                                      0.000238\n",
       "birds - cockatiels and a galah                       0.000238\n",
       "garden birds                                         0.000238\n",
       "hamster                                              0.000238\n",
       "maybe feed garden birds                              0.000238\n",
       "hedgehog                                             0.000238\n",
       "2 small goats                                        0.000238\n",
       "Name: proportion, dtype: float64"
      ]
     },
     "metadata": {},
     "output_type": "display_data"
    },
    {
     "name": "stdout",
     "output_type": "stream",
     "text": [
      "attraction_city distribution:\n"
     ]
    },
    {
     "data": {
      "text/plain": [
       "False    0.650215\n",
       "True     0.349785\n",
       "Name: proportion, dtype: float64"
      ]
     },
     "metadata": {},
     "output_type": "display_data"
    },
    {
     "name": "stdout",
     "output_type": "stream",
     "text": [
      "attraction_beach distribution:\n"
     ]
    },
    {
     "data": {
      "text/plain": [
       "False    0.761803\n",
       "True     0.238197\n",
       "Name: proportion, dtype: float64"
      ]
     },
     "metadata": {},
     "output_type": "display_data"
    },
    {
     "name": "stdout",
     "output_type": "stream",
     "text": [
      "attraction_mountain distribution:\n"
     ]
    },
    {
     "data": {
      "text/plain": [
       "False    0.757034\n",
       "True     0.242966\n",
       "Name: proportion, dtype: float64"
      ]
     },
     "metadata": {},
     "output_type": "display_data"
    },
    {
     "name": "stdout",
     "output_type": "stream",
     "text": [
      "attraction_countryside distribution:\n"
     ]
    },
    {
     "data": {
      "text/plain": [
       "True     0.637339\n",
       "False    0.362661\n",
       "Name: proportion, dtype: float64"
      ]
     },
     "metadata": {},
     "output_type": "display_data"
    },
    {
     "name": "stdout",
     "output_type": "stream",
     "text": [
      "pet_dog distribution:\n"
     ]
    },
    {
     "data": {
      "text/plain": [
       "True     0.785646\n",
       "False    0.214354\n",
       "Name: proportion, dtype: float64"
      ]
     },
     "metadata": {},
     "output_type": "display_data"
    },
    {
     "name": "stdout",
     "output_type": "stream",
     "text": [
      "pet_cat distribution:\n"
     ]
    },
    {
     "data": {
      "text/plain": [
       "False    0.549595\n",
       "True     0.450405\n",
       "Name: proportion, dtype: float64"
      ]
     },
     "metadata": {},
     "output_type": "display_data"
    },
    {
     "name": "stdout",
     "output_type": "stream",
     "text": [
      "pet_bird distribution:\n"
     ]
    },
    {
     "data": {
      "text/plain": [
       "False    0.982356\n",
       "True     0.017644\n",
       "Name: proportion, dtype: float64"
      ]
     },
     "metadata": {},
     "output_type": "display_data"
    },
    {
     "name": "stdout",
     "output_type": "stream",
     "text": [
      "pet_fish distribution:\n"
     ]
    },
    {
     "data": {
      "text/plain": [
       "False    0.943729\n",
       "True     0.056271\n",
       "Name: proportion, dtype: float64"
      ]
     },
     "metadata": {},
     "output_type": "display_data"
    },
    {
     "name": "stdout",
     "output_type": "stream",
     "text": [
      "pet_reptile distribution:\n"
     ]
    },
    {
     "data": {
      "text/plain": [
       "False    0.98474\n",
       "True     0.01526\n",
       "Name: proportion, dtype: float64"
      ]
     },
     "metadata": {},
     "output_type": "display_data"
    },
    {
     "name": "stdout",
     "output_type": "stream",
     "text": [
      "pet_poultry distribution:\n"
     ]
    },
    {
     "data": {
      "text/plain": [
       "False    0.894611\n",
       "True     0.105389\n",
       "Name: proportion, dtype: float64"
      ]
     },
     "metadata": {},
     "output_type": "display_data"
    },
    {
     "name": "stdout",
     "output_type": "stream",
     "text": [
      "pet_farm_animal distribution:\n"
     ]
    },
    {
     "data": {
      "text/plain": [
       "False    0.970911\n",
       "True     0.029089\n",
       "Name: proportion, dtype: float64"
      ]
     },
     "metadata": {},
     "output_type": "display_data"
    },
    {
     "name": "stdout",
     "output_type": "stream",
     "text": [
      "photo_interior distribution:\n"
     ]
    },
    {
     "data": {
      "text/plain": [
       "False    0.946113\n",
       "True     0.053887\n",
       "Name: proportion, dtype: float64"
      ]
     },
     "metadata": {},
     "output_type": "display_data"
    },
    {
     "name": "stdout",
     "output_type": "stream",
     "text": [
      "photo_exterior distribution:\n"
     ]
    },
    {
     "data": {
      "text/plain": [
       "False    0.934669\n",
       "True     0.065331\n",
       "Name: proportion, dtype: float64"
      ]
     },
     "metadata": {},
     "output_type": "display_data"
    },
    {
     "name": "stdout",
     "output_type": "stream",
     "text": [
      "photo_attraction distribution:\n"
     ]
    },
    {
     "data": {
      "text/plain": [
       "False    0.992847\n",
       "True     0.007153\n",
       "Name: proportion, dtype: float64"
      ]
     },
     "metadata": {},
     "output_type": "display_data"
    },
    {
     "name": "stdout",
     "output_type": "stream",
     "text": [
      "photo_garden distribution:\n"
     ]
    },
    {
     "data": {
      "text/plain": [
       "False    0.934669\n",
       "True     0.065331\n",
       "Name: proportion, dtype: float64"
      ]
     },
     "metadata": {},
     "output_type": "display_data"
    },
    {
     "name": "stdout",
     "output_type": "stream",
     "text": [
      "photo_pool distribution:\n"
     ]
    },
    {
     "data": {
      "text/plain": [
       "False    0.99547\n",
       "True     0.00453\n",
       "Name: proportion, dtype: float64"
      ]
     },
     "metadata": {},
     "output_type": "display_data"
    },
    {
     "name": "stdout",
     "output_type": "stream",
     "text": [
      "photo_view distribution:\n"
     ]
    },
    {
     "data": {
      "text/plain": [
       "False    0.993085\n",
       "True     0.006915\n",
       "Name: proportion, dtype: float64"
      ]
     },
     "metadata": {},
     "output_type": "display_data"
    },
    {
     "name": "stdout",
     "output_type": "stream",
     "text": [
      "welcomes_single distribution:\n"
     ]
    },
    {
     "data": {
      "text/plain": [
       "True     0.979256\n",
       "False    0.020744\n",
       "Name: proportion, dtype: float64"
      ]
     },
     "metadata": {},
     "output_type": "display_data"
    },
    {
     "name": "stdout",
     "output_type": "stream",
     "text": [
      "welcomes_couple distribution:\n"
     ]
    },
    {
     "data": {
      "text/plain": [
       "True     0.991416\n",
       "False    0.008584\n",
       "Name: proportion, dtype: float64"
      ]
     },
     "metadata": {},
     "output_type": "display_data"
    },
    {
     "name": "stdout",
     "output_type": "stream",
     "text": [
      "welcomes_family distribution:\n"
     ]
    },
    {
     "data": {
      "text/plain": [
       "False    0.718646\n",
       "True     0.281354\n",
       "Name: proportion, dtype: float64"
      ]
     },
     "metadata": {},
     "output_type": "display_data"
    },
    {
     "name": "stdout",
     "output_type": "stream",
     "text": [
      "welcomes_any_age distribution:\n"
     ]
    },
    {
     "data": {
      "text/plain": [
       "True     0.928231\n",
       "False    0.071769\n",
       "Name: proportion, dtype: float64"
      ]
     },
     "metadata": {},
     "output_type": "display_data"
    },
    {
     "name": "stdout",
     "output_type": "stream",
     "text": [
      "welcomes_baby distribution:\n"
     ]
    },
    {
     "data": {
      "text/plain": [
       "False    0.963519\n",
       "True     0.036481\n",
       "Name: proportion, dtype: float64"
      ]
     },
     "metadata": {},
     "output_type": "display_data"
    },
    {
     "name": "stdout",
     "output_type": "stream",
     "text": [
      "welcomes_toddler distribution:\n"
     ]
    },
    {
     "data": {
      "text/plain": [
       "False    0.951359\n",
       "True     0.048641\n",
       "Name: proportion, dtype: float64"
      ]
     },
     "metadata": {},
     "output_type": "display_data"
    },
    {
     "name": "stdout",
     "output_type": "stream",
     "text": [
      "welcomes_child distribution:\n"
     ]
    },
    {
     "data": {
      "text/plain": [
       "False    0.935622\n",
       "True     0.064378\n",
       "Name: proportion, dtype: float64"
      ]
     },
     "metadata": {},
     "output_type": "display_data"
    },
    {
     "name": "stdout",
     "output_type": "stream",
     "text": [
      "welcomes_teen distribution:\n"
     ]
    },
    {
     "data": {
      "text/plain": [
       "False    0.937053\n",
       "True     0.062947\n",
       "Name: proportion, dtype: float64"
      ]
     },
     "metadata": {},
     "output_type": "display_data"
    },
    {
     "name": "stdout",
     "output_type": "stream",
     "text": [
      "welcomes_young distribution:\n"
     ]
    },
    {
     "data": {
      "text/plain": [
       "False    0.943014\n",
       "True     0.056986\n",
       "Name: proportion, dtype: float64"
      ]
     },
     "metadata": {},
     "output_type": "display_data"
    },
    {
     "name": "stdout",
     "output_type": "stream",
     "text": [
      "avg_nb_apps_per_assg statistics:\n",
      "count    4194.000000\n",
      "mean        0.304006\n",
      "std         0.460040\n",
      "min         0.000000\n",
      "25%         0.000000\n",
      "50%         0.000000\n",
      "75%         1.000000\n",
      "max         1.000000\n",
      "Name: avg_nb_apps_per_assg, dtype: float64\n",
      "minutes_pet_can_be_left_alone statistics:\n",
      "count    4194.000000\n",
      "mean      165.894134\n",
      "std        98.070944\n",
      "min         0.000000\n",
      "25%       120.000000\n",
      "50%       120.000000\n",
      "75%       120.000000\n",
      "max       480.000000\n",
      "Name: minutes_pet_can_be_left_alone, dtype: float64\n",
      "nb_assignments_filled statistics:\n",
      "count    4194.000000\n",
      "mean        5.144731\n",
      "std         7.288003\n",
      "min         0.000000\n",
      "25%         1.000000\n",
      "50%         3.000000\n",
      "75%         7.000000\n",
      "max       129.000000\n",
      "Name: nb_assignments_filled, dtype: float64\n",
      "nb_assignments_published statistics:\n",
      "count    4194.000000\n",
      "mean        6.259180\n",
      "std         8.078427\n",
      "min         0.000000\n",
      "25%         1.000000\n",
      "50%         3.000000\n",
      "75%         9.000000\n",
      "max       154.000000\n",
      "Name: nb_assignments_published, dtype: float64\n",
      "nb_distinct_pets statistics:\n",
      "count    4194.000000\n",
      "mean        1.508822\n",
      "std         0.810463\n",
      "min         0.000000\n",
      "25%         1.000000\n",
      "50%         1.000000\n",
      "75%         2.000000\n",
      "max         7.000000\n",
      "Name: nb_distinct_pets, dtype: float64\n",
      "nb_domestic_sitters statistics:\n",
      "count    4194.000000\n",
      "mean        3.983786\n",
      "std         6.000296\n",
      "min         0.000000\n",
      "25%         0.000000\n",
      "50%         2.000000\n",
      "75%         5.000000\n",
      "max        98.000000\n",
      "Name: nb_domestic_sitters, dtype: float64\n",
      "nb_invites statistics:\n",
      "count    4194.000000\n",
      "mean        7.888650\n",
      "std        26.276743\n",
      "min         0.000000\n",
      "25%         0.000000\n",
      "50%         1.000000\n",
      "75%         6.000000\n",
      "max       609.000000\n",
      "Name: nb_invites, dtype: float64\n",
      "nb_of_pets statistics:\n",
      "count    4194.000000\n",
      "mean        2.382690\n",
      "std         1.718072\n",
      "min         0.000000\n",
      "25%         1.000000\n",
      "50%         2.000000\n",
      "75%         3.000000\n",
      "max        29.000000\n",
      "Name: nb_of_pets, dtype: float64\n",
      "nb_of_photos statistics:\n",
      "count    4194.000000\n",
      "mean        0.648784\n",
      "std         1.838823\n",
      "min         0.000000\n",
      "25%         0.000000\n",
      "50%         0.000000\n",
      "75%         0.000000\n",
      "max        13.000000\n",
      "Name: nb_of_photos, dtype: float64\n",
      "nb_repeat_sitters statistics:\n",
      "count    4194.000000\n",
      "mean        0.463281\n",
      "std         1.007821\n",
      "min         0.000000\n",
      "25%         0.000000\n",
      "50%         0.000000\n",
      "75%         1.000000\n",
      "max        17.000000\n",
      "Name: nb_repeat_sitters, dtype: float64\n",
      "nb_unique_sitters statistics:\n",
      "count    4194.000000\n",
      "mean        4.408918\n",
      "std         6.084501\n",
      "min         0.000000\n",
      "25%         1.000000\n",
      "50%         2.000000\n",
      "75%         6.000000\n",
      "max       100.000000\n",
      "Name: nb_unique_sitters, dtype: float64\n",
      "days_since_modified statistics:\n",
      "count        4194.0\n",
      "mean     665.290892\n",
      "std      361.802676\n",
      "min            52.0\n",
      "25%           312.0\n",
      "50%           759.0\n",
      "75%           975.0\n",
      "max          2490.0\n",
      "Name: days_since_modified, dtype: Float64\n",
      "year_approved statistics:\n",
      "count         4194.0\n",
      "mean     2021.104912\n",
      "std         1.815601\n",
      "min           2012.0\n",
      "25%           2021.0\n",
      "50%           2022.0\n",
      "75%           2022.0\n",
      "max           2025.0\n",
      "Name: year_approved, dtype: Float64\n",
      "-----------------------------------\n",
      "-----------------------------------\n",
      "cluster 1 characteristics:\n",
      "cluster contains 499 homeowner listings\n",
      "accessible_by_public_transport distribution:\n"
     ]
    },
    {
     "data": {
      "text/plain": [
       "True    1.0\n",
       "Name: proportion, dtype: float64"
      ]
     },
     "metadata": {},
     "output_type": "display_data"
    },
    {
     "name": "stdout",
     "output_type": "stream",
     "text": [
      "car_included distribution:\n"
     ]
    },
    {
     "data": {
      "text/plain": [
       "True    1.0\n",
       "Name: proportion, dtype: float64"
      ]
     },
     "metadata": {},
     "output_type": "display_data"
    },
    {
     "name": "stdout",
     "output_type": "stream",
     "text": [
      "car_required distribution:\n"
     ]
    },
    {
     "data": {
      "text/plain": [
       "False    0.88978\n",
       "True     0.11022\n",
       "Name: proportion, dtype: float64"
      ]
     },
     "metadata": {},
     "output_type": "display_data"
    },
    {
     "name": "stdout",
     "output_type": "stream",
     "text": [
      "disabled_access distribution:\n"
     ]
    },
    {
     "data": {
      "text/plain": [
       "False    0.793587\n",
       "True     0.206413\n",
       "Name: proportion, dtype: float64"
      ]
     },
     "metadata": {},
     "output_type": "display_data"
    },
    {
     "name": "stdout",
     "output_type": "stream",
     "text": [
      "family_friendly distribution:\n"
     ]
    },
    {
     "data": {
      "text/plain": [
       "False    0.639279\n",
       "True     0.360721\n",
       "Name: proportion, dtype: float64"
      ]
     },
     "metadata": {},
     "output_type": "display_data"
    },
    {
     "name": "stdout",
     "output_type": "stream",
     "text": [
      "home_type distribution:\n"
     ]
    },
    {
     "data": {
      "text/plain": [
       "house        0.813627\n",
       "apartment    0.182365\n",
       "unknown      0.004008\n",
       "Name: proportion, dtype: float64"
      ]
     },
     "metadata": {},
     "output_type": "display_data"
    },
    {
     "name": "stdout",
     "output_type": "stream",
     "text": [
      "pets_welcome distribution:\n"
     ]
    },
    {
     "data": {
      "text/plain": [
       "True     0.767535\n",
       "False    0.232465\n",
       "Name: proportion, dtype: float64"
      ]
     },
     "metadata": {},
     "output_type": "display_data"
    },
    {
     "name": "stdout",
     "output_type": "stream",
     "text": [
      "wish_to_meet_in_person distribution:\n"
     ]
    },
    {
     "data": {
      "text/plain": [
       "True     0.971944\n",
       "False    0.028056\n",
       "Name: proportion, dtype: float64"
      ]
     },
     "metadata": {},
     "output_type": "display_data"
    },
    {
     "name": "stdout",
     "output_type": "stream",
     "text": [
      "wish_to_video_call distribution:\n"
     ]
    },
    {
     "data": {
      "text/plain": [
       "True     0.991984\n",
       "False    0.008016\n",
       "Name: proportion, dtype: float64"
      ]
     },
     "metadata": {},
     "output_type": "display_data"
    },
    {
     "name": "stdout",
     "output_type": "stream",
     "text": [
      "other_animals distribution:\n"
     ]
    },
    {
     "data": {
      "text/plain": [
       "None                                                     0.989980\n",
       "rabbits                                                  0.002004\n",
       "guinea pig                                               0.002004\n",
       "native magpies                                           0.002004\n",
       "this is a pet-free home - great if you have allergies    0.002004\n",
       "1 small bee hive                                         0.002004\n",
       "Name: proportion, dtype: float64"
      ]
     },
     "metadata": {},
     "output_type": "display_data"
    },
    {
     "name": "stdout",
     "output_type": "stream",
     "text": [
      "attraction_city distribution:\n"
     ]
    },
    {
     "data": {
      "text/plain": [
       "True     0.631263\n",
       "False    0.368737\n",
       "Name: proportion, dtype: float64"
      ]
     },
     "metadata": {},
     "output_type": "display_data"
    },
    {
     "name": "stdout",
     "output_type": "stream",
     "text": [
      "attraction_beach distribution:\n"
     ]
    },
    {
     "data": {
      "text/plain": [
       "False    0.697395\n",
       "True     0.302605\n",
       "Name: proportion, dtype: float64"
      ]
     },
     "metadata": {},
     "output_type": "display_data"
    },
    {
     "name": "stdout",
     "output_type": "stream",
     "text": [
      "attraction_mountain distribution:\n"
     ]
    },
    {
     "data": {
      "text/plain": [
       "False    0.777555\n",
       "True     0.222445\n",
       "Name: proportion, dtype: float64"
      ]
     },
     "metadata": {},
     "output_type": "display_data"
    },
    {
     "name": "stdout",
     "output_type": "stream",
     "text": [
      "attraction_countryside distribution:\n"
     ]
    },
    {
     "data": {
      "text/plain": [
       "False    0.579158\n",
       "True     0.420842\n",
       "Name: proportion, dtype: float64"
      ]
     },
     "metadata": {},
     "output_type": "display_data"
    },
    {
     "name": "stdout",
     "output_type": "stream",
     "text": [
      "pet_dog distribution:\n"
     ]
    },
    {
     "data": {
      "text/plain": [
       "True     0.791583\n",
       "False    0.208417\n",
       "Name: proportion, dtype: float64"
      ]
     },
     "metadata": {},
     "output_type": "display_data"
    },
    {
     "name": "stdout",
     "output_type": "stream",
     "text": [
      "pet_cat distribution:\n"
     ]
    },
    {
     "data": {
      "text/plain": [
       "False    0.571142\n",
       "True     0.428858\n",
       "Name: proportion, dtype: float64"
      ]
     },
     "metadata": {},
     "output_type": "display_data"
    },
    {
     "name": "stdout",
     "output_type": "stream",
     "text": [
      "pet_bird distribution:\n"
     ]
    },
    {
     "data": {
      "text/plain": [
       "False    0.987976\n",
       "True     0.012024\n",
       "Name: proportion, dtype: float64"
      ]
     },
     "metadata": {},
     "output_type": "display_data"
    },
    {
     "name": "stdout",
     "output_type": "stream",
     "text": [
      "pet_fish distribution:\n"
     ]
    },
    {
     "data": {
      "text/plain": [
       "False    0.957916\n",
       "True     0.042084\n",
       "Name: proportion, dtype: float64"
      ]
     },
     "metadata": {},
     "output_type": "display_data"
    },
    {
     "name": "stdout",
     "output_type": "stream",
     "text": [
      "pet_reptile distribution:\n"
     ]
    },
    {
     "data": {
      "text/plain": [
       "False    0.981964\n",
       "True     0.018036\n",
       "Name: proportion, dtype: float64"
      ]
     },
     "metadata": {},
     "output_type": "display_data"
    },
    {
     "name": "stdout",
     "output_type": "stream",
     "text": [
      "pet_poultry distribution:\n"
     ]
    },
    {
     "data": {
      "text/plain": [
       "False    0.953908\n",
       "True     0.046092\n",
       "Name: proportion, dtype: float64"
      ]
     },
     "metadata": {},
     "output_type": "display_data"
    },
    {
     "name": "stdout",
     "output_type": "stream",
     "text": [
      "pet_farm_animal distribution:\n"
     ]
    },
    {
     "data": {
      "text/plain": [
       "False    0.995992\n",
       "True     0.004008\n",
       "Name: proportion, dtype: float64"
      ]
     },
     "metadata": {},
     "output_type": "display_data"
    },
    {
     "name": "stdout",
     "output_type": "stream",
     "text": [
      "photo_interior distribution:\n"
     ]
    },
    {
     "data": {
      "text/plain": [
       "False    0.92986\n",
       "True     0.07014\n",
       "Name: proportion, dtype: float64"
      ]
     },
     "metadata": {},
     "output_type": "display_data"
    },
    {
     "name": "stdout",
     "output_type": "stream",
     "text": [
      "photo_exterior distribution:\n"
     ]
    },
    {
     "data": {
      "text/plain": [
       "False    0.917836\n",
       "True     0.082164\n",
       "Name: proportion, dtype: float64"
      ]
     },
     "metadata": {},
     "output_type": "display_data"
    },
    {
     "name": "stdout",
     "output_type": "stream",
     "text": [
      "photo_attraction distribution:\n"
     ]
    },
    {
     "data": {
      "text/plain": [
       "False    0.991984\n",
       "True     0.008016\n",
       "Name: proportion, dtype: float64"
      ]
     },
     "metadata": {},
     "output_type": "display_data"
    },
    {
     "name": "stdout",
     "output_type": "stream",
     "text": [
      "photo_garden distribution:\n"
     ]
    },
    {
     "data": {
      "text/plain": [
       "False    0.917836\n",
       "True     0.082164\n",
       "Name: proportion, dtype: float64"
      ]
     },
     "metadata": {},
     "output_type": "display_data"
    },
    {
     "name": "stdout",
     "output_type": "stream",
     "text": [
      "photo_pool distribution:\n"
     ]
    },
    {
     "data": {
      "text/plain": [
       "False    0.991984\n",
       "True     0.008016\n",
       "Name: proportion, dtype: float64"
      ]
     },
     "metadata": {},
     "output_type": "display_data"
    },
    {
     "name": "stdout",
     "output_type": "stream",
     "text": [
      "photo_view distribution:\n"
     ]
    },
    {
     "data": {
      "text/plain": [
       "False    0.991984\n",
       "True     0.008016\n",
       "Name: proportion, dtype: float64"
      ]
     },
     "metadata": {},
     "output_type": "display_data"
    },
    {
     "name": "stdout",
     "output_type": "stream",
     "text": [
      "welcomes_single distribution:\n"
     ]
    },
    {
     "data": {
      "text/plain": [
       "True     0.973948\n",
       "False    0.026052\n",
       "Name: proportion, dtype: float64"
      ]
     },
     "metadata": {},
     "output_type": "display_data"
    },
    {
     "name": "stdout",
     "output_type": "stream",
     "text": [
      "welcomes_couple distribution:\n"
     ]
    },
    {
     "data": {
      "text/plain": [
       "True     0.97996\n",
       "False    0.02004\n",
       "Name: proportion, dtype: float64"
      ]
     },
     "metadata": {},
     "output_type": "display_data"
    },
    {
     "name": "stdout",
     "output_type": "stream",
     "text": [
      "welcomes_family distribution:\n"
     ]
    },
    {
     "data": {
      "text/plain": [
       "False    0.639279\n",
       "True     0.360721\n",
       "Name: proportion, dtype: float64"
      ]
     },
     "metadata": {},
     "output_type": "display_data"
    },
    {
     "name": "stdout",
     "output_type": "stream",
     "text": [
      "welcomes_any_age distribution:\n"
     ]
    },
    {
     "data": {
      "text/plain": [
       "True     0.865731\n",
       "False    0.134269\n",
       "Name: proportion, dtype: float64"
      ]
     },
     "metadata": {},
     "output_type": "display_data"
    },
    {
     "name": "stdout",
     "output_type": "stream",
     "text": [
      "welcomes_baby distribution:\n"
     ]
    },
    {
     "data": {
      "text/plain": [
       "False    0.917836\n",
       "True     0.082164\n",
       "Name: proportion, dtype: float64"
      ]
     },
     "metadata": {},
     "output_type": "display_data"
    },
    {
     "name": "stdout",
     "output_type": "stream",
     "text": [
      "welcomes_toddler distribution:\n"
     ]
    },
    {
     "data": {
      "text/plain": [
       "False    0.897796\n",
       "True     0.102204\n",
       "Name: proportion, dtype: float64"
      ]
     },
     "metadata": {},
     "output_type": "display_data"
    },
    {
     "name": "stdout",
     "output_type": "stream",
     "text": [
      "welcomes_child distribution:\n"
     ]
    },
    {
     "data": {
      "text/plain": [
       "False    0.873747\n",
       "True     0.126253\n",
       "Name: proportion, dtype: float64"
      ]
     },
     "metadata": {},
     "output_type": "display_data"
    },
    {
     "name": "stdout",
     "output_type": "stream",
     "text": [
      "welcomes_teen distribution:\n"
     ]
    },
    {
     "data": {
      "text/plain": [
       "False    0.885772\n",
       "True     0.114228\n",
       "Name: proportion, dtype: float64"
      ]
     },
     "metadata": {},
     "output_type": "display_data"
    },
    {
     "name": "stdout",
     "output_type": "stream",
     "text": [
      "welcomes_young distribution:\n"
     ]
    },
    {
     "data": {
      "text/plain": [
       "False    0.8998\n",
       "True     0.1002\n",
       "Name: proportion, dtype: float64"
      ]
     },
     "metadata": {},
     "output_type": "display_data"
    },
    {
     "name": "stdout",
     "output_type": "stream",
     "text": [
      "avg_nb_apps_per_assg statistics:\n",
      "count    499.000000\n",
      "mean       0.326653\n",
      "std        0.469460\n",
      "min        0.000000\n",
      "25%        0.000000\n",
      "50%        0.000000\n",
      "75%        1.000000\n",
      "max        1.000000\n",
      "Name: avg_nb_apps_per_assg, dtype: float64\n",
      "minutes_pet_can_be_left_alone statistics:\n",
      "count    499.000000\n",
      "mean     194.549098\n",
      "std      120.650625\n",
      "min        0.000000\n",
      "25%      120.000000\n",
      "50%      120.000000\n",
      "75%      240.000000\n",
      "max      480.000000\n",
      "Name: minutes_pet_can_be_left_alone, dtype: float64\n",
      "nb_assignments_filled statistics:\n",
      "count    499.000000\n",
      "mean       5.775551\n",
      "std        7.679167\n",
      "min        0.000000\n",
      "25%        1.000000\n",
      "50%        3.000000\n",
      "75%        8.000000\n",
      "max       67.000000\n",
      "Name: nb_assignments_filled, dtype: float64\n",
      "nb_assignments_published statistics:\n",
      "count    499.000000\n",
      "mean       6.853707\n",
      "std        8.292388\n",
      "min        0.000000\n",
      "25%        1.000000\n",
      "50%        4.000000\n",
      "75%        9.000000\n",
      "max       68.000000\n",
      "Name: nb_assignments_published, dtype: float64\n",
      "nb_distinct_pets statistics:\n",
      "count    499.000000\n",
      "mean       1.388778\n",
      "std        0.700799\n",
      "min        0.000000\n",
      "25%        1.000000\n",
      "50%        1.000000\n",
      "75%        2.000000\n",
      "max        5.000000\n",
      "Name: nb_distinct_pets, dtype: float64\n",
      "nb_domestic_sitters statistics:\n",
      "count    499.000000\n",
      "mean       3.482966\n",
      "std        5.425399\n",
      "min        0.000000\n",
      "25%        0.000000\n",
      "50%        2.000000\n",
      "75%        4.000000\n",
      "max       44.000000\n",
      "Name: nb_domestic_sitters, dtype: float64\n",
      "nb_invites statistics:\n",
      "count    499.000000\n",
      "mean       5.991984\n",
      "std       15.423081\n",
      "min        0.000000\n",
      "25%        0.000000\n",
      "50%        1.000000\n",
      "75%        4.000000\n",
      "max      120.000000\n",
      "Name: nb_invites, dtype: float64\n",
      "nb_of_pets statistics:\n",
      "count    499.000000\n",
      "mean       2.188377\n",
      "std        1.755252\n",
      "min        0.000000\n",
      "25%        1.000000\n",
      "50%        2.000000\n",
      "75%        3.000000\n",
      "max       16.000000\n",
      "Name: nb_of_pets, dtype: float64\n",
      "nb_of_photos statistics:\n",
      "count    499.000000\n",
      "mean       0.787575\n",
      "std        2.005756\n",
      "min        0.000000\n",
      "25%        0.000000\n",
      "50%        0.000000\n",
      "75%        0.000000\n",
      "max       13.000000\n",
      "Name: nb_of_photos, dtype: float64\n",
      "nb_repeat_sitters statistics:\n",
      "count    499.000000\n",
      "mean       0.412826\n",
      "std        0.923758\n",
      "min        0.000000\n",
      "25%        0.000000\n",
      "50%        0.000000\n",
      "75%        1.000000\n",
      "max        9.000000\n",
      "Name: nb_repeat_sitters, dtype: float64\n",
      "nb_unique_sitters statistics:\n",
      "count    499.00000\n",
      "mean       5.11022\n",
      "std        6.68916\n",
      "min        0.00000\n",
      "25%        1.00000\n",
      "50%        3.00000\n",
      "75%        7.00000\n",
      "max       58.00000\n",
      "Name: nb_unique_sitters, dtype: float64\n",
      "days_since_modified statistics:\n",
      "count         499.0\n",
      "mean     587.214429\n",
      "std      366.481814\n",
      "min            52.0\n",
      "25%           241.0\n",
      "50%           598.0\n",
      "75%           918.0\n",
      "max          1835.0\n",
      "Name: days_since_modified, dtype: Float64\n",
      "year_approved statistics:\n",
      "count          499.0\n",
      "mean     2020.835671\n",
      "std         2.087698\n",
      "min           2013.0\n",
      "25%           2020.0\n",
      "50%           2022.0\n",
      "75%           2022.0\n",
      "max           2024.0\n",
      "Name: year_approved, dtype: Float64\n",
      "-----------------------------------\n",
      "-----------------------------------\n",
      "cluster 2 characteristics:\n",
      "cluster contains 4816 homeowner listings\n",
      "accessible_by_public_transport distribution:\n"
     ]
    },
    {
     "data": {
      "text/plain": [
       "True    1.0\n",
       "Name: proportion, dtype: float64"
      ]
     },
     "metadata": {},
     "output_type": "display_data"
    },
    {
     "name": "stdout",
     "output_type": "stream",
     "text": [
      "car_included distribution:\n"
     ]
    },
    {
     "data": {
      "text/plain": [
       "False    1.0\n",
       "Name: proportion, dtype: float64"
      ]
     },
     "metadata": {},
     "output_type": "display_data"
    },
    {
     "name": "stdout",
     "output_type": "stream",
     "text": [
      "car_required distribution:\n"
     ]
    },
    {
     "data": {
      "text/plain": [
       "False    0.912375\n",
       "True     0.087625\n",
       "Name: proportion, dtype: float64"
      ]
     },
     "metadata": {},
     "output_type": "display_data"
    },
    {
     "name": "stdout",
     "output_type": "stream",
     "text": [
      "disabled_access distribution:\n"
     ]
    },
    {
     "data": {
      "text/plain": [
       "False    0.825581\n",
       "True     0.174419\n",
       "Name: proportion, dtype: float64"
      ]
     },
     "metadata": {},
     "output_type": "display_data"
    },
    {
     "name": "stdout",
     "output_type": "stream",
     "text": [
      "family_friendly distribution:\n"
     ]
    },
    {
     "data": {
      "text/plain": [
       "False    0.704734\n",
       "True     0.295266\n",
       "Name: proportion, dtype: float64"
      ]
     },
     "metadata": {},
     "output_type": "display_data"
    },
    {
     "name": "stdout",
     "output_type": "stream",
     "text": [
      "home_type distribution:\n"
     ]
    },
    {
     "data": {
      "text/plain": [
       "house        0.667982\n",
       "apartment    0.324336\n",
       "unknown      0.007683\n",
       "Name: proportion, dtype: float64"
      ]
     },
     "metadata": {},
     "output_type": "display_data"
    },
    {
     "name": "stdout",
     "output_type": "stream",
     "text": [
      "pets_welcome distribution:\n"
     ]
    },
    {
     "data": {
      "text/plain": [
       "True     0.740656\n",
       "False    0.259344\n",
       "Name: proportion, dtype: float64"
      ]
     },
     "metadata": {},
     "output_type": "display_data"
    },
    {
     "name": "stdout",
     "output_type": "stream",
     "text": [
      "wish_to_meet_in_person distribution:\n"
     ]
    },
    {
     "data": {
      "text/plain": [
       "True     0.97799\n",
       "False    0.02201\n",
       "Name: proportion, dtype: float64"
      ]
     },
     "metadata": {},
     "output_type": "display_data"
    },
    {
     "name": "stdout",
     "output_type": "stream",
     "text": [
      "wish_to_video_call distribution:\n"
     ]
    },
    {
     "data": {
      "text/plain": [
       "True     0.993978\n",
       "False    0.006022\n",
       "Name: proportion, dtype: float64"
      ]
     },
     "metadata": {},
     "output_type": "display_data"
    },
    {
     "name": "stdout",
     "output_type": "stream",
     "text": [
      "other_animals distribution:\n"
     ]
    },
    {
     "data": {
      "text/plain": [
       "None                                                                                                                                           0.995640\n",
       "axolotls                                                                                                                                       0.000208\n",
       "axolotl (mexican walking fish)                                                                                                                 0.000208\n",
       "wild birds                                                                                                                                     0.000208\n",
       "parrot                                                                                                                                         0.000208\n",
       "turtoise                                                                                                                                       0.000208\n",
       "one african grey parrot                                                                                                                        0.000208\n",
       "crustacians                                                                                                                                    0.000208\n",
       "tame fox                                                                                                                                       0.000208\n",
       "lots of wild animals live nearby.                                                                                                              0.000208\n",
       "four delightful gerbils                                                                                                                        0.000208\n",
       "donkey 1                                                                                                                                       0.000208\n",
       "presently 9 cats belonging to our family. a changing number of guest cats from around our place coming to the garden house to be fed there.    0.000208\n",
       "plants.                                                                                                                                        0.000208\n",
       "rabbits                                                                                                                                        0.000208\n",
       "no pets at the moment - our two dogs died a couple of years ago.  we could acquire a goldfish if it was important....                          0.000208\n",
       "hamster                                                                                                                                        0.000208\n",
       "sister 1                                                                                                                                       0.000208\n",
       "two tortoises and one fish                                                                                                                     0.000208\n",
       "doves and guinea pigs                                                                                                                          0.000208\n",
       "frog                                                                                                                                           0.000208\n",
       "bees                                                                                                                                           0.000208\n",
       "Name: proportion, dtype: float64"
      ]
     },
     "metadata": {},
     "output_type": "display_data"
    },
    {
     "name": "stdout",
     "output_type": "stream",
     "text": [
      "attraction_city distribution:\n"
     ]
    },
    {
     "data": {
      "text/plain": [
       "True     0.773879\n",
       "False    0.226121\n",
       "Name: proportion, dtype: float64"
      ]
     },
     "metadata": {},
     "output_type": "display_data"
    },
    {
     "name": "stdout",
     "output_type": "stream",
     "text": [
      "attraction_beach distribution:\n"
     ]
    },
    {
     "data": {
      "text/plain": [
       "False    0.77554\n",
       "True     0.22446\n",
       "Name: proportion, dtype: float64"
      ]
     },
     "metadata": {},
     "output_type": "display_data"
    },
    {
     "name": "stdout",
     "output_type": "stream",
     "text": [
      "attraction_mountain distribution:\n"
     ]
    },
    {
     "data": {
      "text/plain": [
       "False    0.889327\n",
       "True     0.110673\n",
       "Name: proportion, dtype: float64"
      ]
     },
     "metadata": {},
     "output_type": "display_data"
    },
    {
     "name": "stdout",
     "output_type": "stream",
     "text": [
      "attraction_countryside distribution:\n"
     ]
    },
    {
     "data": {
      "text/plain": [
       "False    0.682724\n",
       "True     0.317276\n",
       "Name: proportion, dtype: float64"
      ]
     },
     "metadata": {},
     "output_type": "display_data"
    },
    {
     "name": "stdout",
     "output_type": "stream",
     "text": [
      "pet_dog distribution:\n"
     ]
    },
    {
     "data": {
      "text/plain": [
       "True     0.630191\n",
       "False    0.369809\n",
       "Name: proportion, dtype: float64"
      ]
     },
     "metadata": {},
     "output_type": "display_data"
    },
    {
     "name": "stdout",
     "output_type": "stream",
     "text": [
      "pet_cat distribution:\n"
     ]
    },
    {
     "data": {
      "text/plain": [
       "True     0.501869\n",
       "False    0.498131\n",
       "Name: proportion, dtype: float64"
      ]
     },
     "metadata": {},
     "output_type": "display_data"
    },
    {
     "name": "stdout",
     "output_type": "stream",
     "text": [
      "pet_bird distribution:\n"
     ]
    },
    {
     "data": {
      "text/plain": [
       "False    0.989826\n",
       "True     0.010174\n",
       "Name: proportion, dtype: float64"
      ]
     },
     "metadata": {},
     "output_type": "display_data"
    },
    {
     "name": "stdout",
     "output_type": "stream",
     "text": [
      "pet_fish distribution:\n"
     ]
    },
    {
     "data": {
      "text/plain": [
       "False    0.957226\n",
       "True     0.042774\n",
       "Name: proportion, dtype: float64"
      ]
     },
     "metadata": {},
     "output_type": "display_data"
    },
    {
     "name": "stdout",
     "output_type": "stream",
     "text": [
      "pet_reptile distribution:\n"
     ]
    },
    {
     "data": {
      "text/plain": [
       "False    0.985257\n",
       "True     0.014743\n",
       "Name: proportion, dtype: float64"
      ]
     },
     "metadata": {},
     "output_type": "display_data"
    },
    {
     "name": "stdout",
     "output_type": "stream",
     "text": [
      "pet_poultry distribution:\n"
     ]
    },
    {
     "data": {
      "text/plain": [
       "False    0.97363\n",
       "True     0.02637\n",
       "Name: proportion, dtype: float64"
      ]
     },
     "metadata": {},
     "output_type": "display_data"
    },
    {
     "name": "stdout",
     "output_type": "stream",
     "text": [
      "pet_farm_animal distribution:\n"
     ]
    },
    {
     "data": {
      "text/plain": [
       "False    0.996055\n",
       "True     0.003945\n",
       "Name: proportion, dtype: float64"
      ]
     },
     "metadata": {},
     "output_type": "display_data"
    },
    {
     "name": "stdout",
     "output_type": "stream",
     "text": [
      "photo_interior distribution:\n"
     ]
    },
    {
     "data": {
      "text/plain": [
       "False    0.945183\n",
       "True     0.054817\n",
       "Name: proportion, dtype: float64"
      ]
     },
     "metadata": {},
     "output_type": "display_data"
    },
    {
     "name": "stdout",
     "output_type": "stream",
     "text": [
      "photo_exterior distribution:\n"
     ]
    },
    {
     "data": {
      "text/plain": [
       "False    0.953281\n",
       "True     0.046719\n",
       "Name: proportion, dtype: float64"
      ]
     },
     "metadata": {},
     "output_type": "display_data"
    },
    {
     "name": "stdout",
     "output_type": "stream",
     "text": [
      "photo_attraction distribution:\n"
     ]
    },
    {
     "data": {
      "text/plain": [
       "False    0.991071\n",
       "True     0.008929\n",
       "Name: proportion, dtype: float64"
      ]
     },
     "metadata": {},
     "output_type": "display_data"
    },
    {
     "name": "stdout",
     "output_type": "stream",
     "text": [
      "photo_garden distribution:\n"
     ]
    },
    {
     "data": {
      "text/plain": [
       "False    0.953281\n",
       "True     0.046719\n",
       "Name: proportion, dtype: float64"
      ]
     },
     "metadata": {},
     "output_type": "display_data"
    },
    {
     "name": "stdout",
     "output_type": "stream",
     "text": [
      "photo_pool distribution:\n"
     ]
    },
    {
     "data": {
      "text/plain": [
       "False    0.996678\n",
       "True     0.003322\n",
       "Name: proportion, dtype: float64"
      ]
     },
     "metadata": {},
     "output_type": "display_data"
    },
    {
     "name": "stdout",
     "output_type": "stream",
     "text": [
      "photo_view distribution:\n"
     ]
    },
    {
     "data": {
      "text/plain": [
       "False    0.996262\n",
       "True     0.003738\n",
       "Name: proportion, dtype: float64"
      ]
     },
     "metadata": {},
     "output_type": "display_data"
    },
    {
     "name": "stdout",
     "output_type": "stream",
     "text": [
      "welcomes_single distribution:\n"
     ]
    },
    {
     "data": {
      "text/plain": [
       "True     0.986296\n",
       "False    0.013704\n",
       "Name: proportion, dtype: float64"
      ]
     },
     "metadata": {},
     "output_type": "display_data"
    },
    {
     "name": "stdout",
     "output_type": "stream",
     "text": [
      "welcomes_couple distribution:\n"
     ]
    },
    {
     "data": {
      "text/plain": [
       "True     0.971346\n",
       "False    0.028654\n",
       "Name: proportion, dtype: float64"
      ]
     },
     "metadata": {},
     "output_type": "display_data"
    },
    {
     "name": "stdout",
     "output_type": "stream",
     "text": [
      "welcomes_family distribution:\n"
     ]
    },
    {
     "data": {
      "text/plain": [
       "False    0.704734\n",
       "True     0.295266\n",
       "Name: proportion, dtype: float64"
      ]
     },
     "metadata": {},
     "output_type": "display_data"
    },
    {
     "name": "stdout",
     "output_type": "stream",
     "text": [
      "welcomes_any_age distribution:\n"
     ]
    },
    {
     "data": {
      "text/plain": [
       "True     0.903862\n",
       "False    0.096138\n",
       "Name: proportion, dtype: float64"
      ]
     },
     "metadata": {},
     "output_type": "display_data"
    },
    {
     "name": "stdout",
     "output_type": "stream",
     "text": [
      "welcomes_baby distribution:\n"
     ]
    },
    {
     "data": {
      "text/plain": [
       "False    0.948297\n",
       "True     0.051703\n",
       "Name: proportion, dtype: float64"
      ]
     },
     "metadata": {},
     "output_type": "display_data"
    },
    {
     "name": "stdout",
     "output_type": "stream",
     "text": [
      "welcomes_toddler distribution:\n"
     ]
    },
    {
     "data": {
      "text/plain": [
       "False    0.931894\n",
       "True     0.068106\n",
       "Name: proportion, dtype: float64"
      ]
     },
     "metadata": {},
     "output_type": "display_data"
    },
    {
     "name": "stdout",
     "output_type": "stream",
     "text": [
      "welcomes_child distribution:\n"
     ]
    },
    {
     "data": {
      "text/plain": [
       "False    0.91549\n",
       "True     0.08451\n",
       "Name: proportion, dtype: float64"
      ]
     },
     "metadata": {},
     "output_type": "display_data"
    },
    {
     "name": "stdout",
     "output_type": "stream",
     "text": [
      "welcomes_teen distribution:\n"
     ]
    },
    {
     "data": {
      "text/plain": [
       "False    0.91549\n",
       "True     0.08451\n",
       "Name: proportion, dtype: float64"
      ]
     },
     "metadata": {},
     "output_type": "display_data"
    },
    {
     "name": "stdout",
     "output_type": "stream",
     "text": [
      "welcomes_young distribution:\n"
     ]
    },
    {
     "data": {
      "text/plain": [
       "False    0.919435\n",
       "True     0.080565\n",
       "Name: proportion, dtype: float64"
      ]
     },
     "metadata": {},
     "output_type": "display_data"
    },
    {
     "name": "stdout",
     "output_type": "stream",
     "text": [
      "avg_nb_apps_per_assg statistics:\n",
      "count    4816.000000\n",
      "mean        0.323920\n",
      "std         0.468019\n",
      "min         0.000000\n",
      "25%         0.000000\n",
      "50%         0.000000\n",
      "75%         1.000000\n",
      "max         1.000000\n",
      "Name: avg_nb_apps_per_assg, dtype: float64\n",
      "minutes_pet_can_be_left_alone statistics:\n",
      "count    4816.000000\n",
      "mean      188.172757\n",
      "std       118.906685\n",
      "min         0.000000\n",
      "25%       120.000000\n",
      "50%       120.000000\n",
      "75%       240.000000\n",
      "max       480.000000\n",
      "Name: minutes_pet_can_be_left_alone, dtype: float64\n",
      "nb_assignments_filled statistics:\n",
      "count    4816.000000\n",
      "mean        6.539244\n",
      "std         8.210909\n",
      "min         0.000000\n",
      "25%         1.000000\n",
      "50%         4.000000\n",
      "75%         9.000000\n",
      "max       140.000000\n",
      "Name: nb_assignments_filled, dtype: float64\n",
      "nb_assignments_published statistics:\n",
      "count    4816.000000\n",
      "mean        7.612542\n",
      "std         8.805584\n",
      "min         0.000000\n",
      "25%         2.000000\n",
      "50%         5.000000\n",
      "75%        10.000000\n",
      "max       143.000000\n",
      "Name: nb_assignments_published, dtype: float64\n",
      "nb_distinct_pets statistics:\n",
      "count    4816.000000\n",
      "mean        1.259967\n",
      "std         0.577983\n",
      "min         0.000000\n",
      "25%         1.000000\n",
      "50%         1.000000\n",
      "75%         1.000000\n",
      "max         6.000000\n",
      "Name: nb_distinct_pets, dtype: float64\n",
      "nb_domestic_sitters statistics:\n",
      "count    4816.000000\n",
      "mean        4.234635\n",
      "std         5.873977\n",
      "min         0.000000\n",
      "25%         1.000000\n",
      "50%         2.000000\n",
      "75%         6.000000\n",
      "max       117.000000\n",
      "Name: nb_domestic_sitters, dtype: float64\n",
      "nb_invites statistics:\n",
      "count    4816.000000\n",
      "mean        7.172550\n",
      "std        24.101618\n",
      "min         0.000000\n",
      "25%         0.000000\n",
      "50%         1.000000\n",
      "75%         6.000000\n",
      "max       620.000000\n",
      "Name: nb_invites, dtype: float64\n",
      "nb_of_pets statistics:\n",
      "count    4816.000000\n",
      "mean        1.841777\n",
      "std         1.242668\n",
      "min         0.000000\n",
      "25%         1.000000\n",
      "50%         2.000000\n",
      "75%         2.000000\n",
      "max        16.000000\n",
      "Name: nb_of_pets, dtype: float64\n",
      "nb_of_photos statistics:\n",
      "count    4816.000000\n",
      "mean        0.647841\n",
      "std         1.828739\n",
      "min         0.000000\n",
      "25%         0.000000\n",
      "50%         0.000000\n",
      "75%         0.000000\n",
      "max        13.000000\n",
      "Name: nb_of_photos, dtype: float64\n",
      "nb_repeat_sitters statistics:\n",
      "count    4816.000000\n",
      "mean        0.553156\n",
      "std         1.078670\n",
      "min         0.000000\n",
      "25%         0.000000\n",
      "50%         0.000000\n",
      "75%         1.000000\n",
      "max        18.000000\n",
      "Name: nb_repeat_sitters, dtype: float64\n",
      "nb_unique_sitters statistics:\n",
      "count    4816.000000\n",
      "mean        5.671927\n",
      "std         6.847389\n",
      "min         0.000000\n",
      "25%         1.000000\n",
      "50%         4.000000\n",
      "75%         8.000000\n",
      "max        96.000000\n",
      "Name: nb_unique_sitters, dtype: float64\n",
      "days_since_modified statistics:\n",
      "count        4816.0\n",
      "mean     590.854651\n",
      "std      357.968946\n",
      "min            52.0\n",
      "25%           249.0\n",
      "50%           598.0\n",
      "75%          933.25\n",
      "max          2259.0\n",
      "Name: days_since_modified, dtype: Float64\n",
      "year_approved statistics:\n",
      "count         4816.0\n",
      "mean     2021.092193\n",
      "std         1.819878\n",
      "min           2012.0\n",
      "25%           2021.0\n",
      "50%           2022.0\n",
      "75%           2022.0\n",
      "max           2025.0\n",
      "Name: year_approved, dtype: Float64\n",
      "-----------------------------------\n",
      "-----------------------------------\n",
      "cluster 3 characteristics:\n",
      "cluster contains 491 homeowner listings\n",
      "accessible_by_public_transport distribution:\n"
     ]
    },
    {
     "data": {
      "text/plain": [
       "False    1.0\n",
       "Name: proportion, dtype: float64"
      ]
     },
     "metadata": {},
     "output_type": "display_data"
    },
    {
     "name": "stdout",
     "output_type": "stream",
     "text": [
      "car_included distribution:\n"
     ]
    },
    {
     "data": {
      "text/plain": [
       "True    1.0\n",
       "Name: proportion, dtype: float64"
      ]
     },
     "metadata": {},
     "output_type": "display_data"
    },
    {
     "name": "stdout",
     "output_type": "stream",
     "text": [
      "car_required distribution:\n"
     ]
    },
    {
     "data": {
      "text/plain": [
       "True     0.94501\n",
       "False    0.05499\n",
       "Name: proportion, dtype: float64"
      ]
     },
     "metadata": {},
     "output_type": "display_data"
    },
    {
     "name": "stdout",
     "output_type": "stream",
     "text": [
      "disabled_access distribution:\n"
     ]
    },
    {
     "data": {
      "text/plain": [
       "False    0.828921\n",
       "True     0.171079\n",
       "Name: proportion, dtype: float64"
      ]
     },
     "metadata": {},
     "output_type": "display_data"
    },
    {
     "name": "stdout",
     "output_type": "stream",
     "text": [
      "family_friendly distribution:\n"
     ]
    },
    {
     "data": {
      "text/plain": [
       "False    0.619145\n",
       "True     0.380855\n",
       "Name: proportion, dtype: float64"
      ]
     },
     "metadata": {},
     "output_type": "display_data"
    },
    {
     "name": "stdout",
     "output_type": "stream",
     "text": [
      "home_type distribution:\n"
     ]
    },
    {
     "data": {
      "text/plain": [
       "house        0.953157\n",
       "apartment    0.040733\n",
       "unknown      0.006110\n",
       "Name: proportion, dtype: float64"
      ]
     },
     "metadata": {},
     "output_type": "display_data"
    },
    {
     "name": "stdout",
     "output_type": "stream",
     "text": [
      "pets_welcome distribution:\n"
     ]
    },
    {
     "data": {
      "text/plain": [
       "True     0.814664\n",
       "False    0.185336\n",
       "Name: proportion, dtype: float64"
      ]
     },
     "metadata": {},
     "output_type": "display_data"
    },
    {
     "name": "stdout",
     "output_type": "stream",
     "text": [
      "wish_to_meet_in_person distribution:\n"
     ]
    },
    {
     "data": {
      "text/plain": [
       "True     0.97556\n",
       "False    0.02444\n",
       "Name: proportion, dtype: float64"
      ]
     },
     "metadata": {},
     "output_type": "display_data"
    },
    {
     "name": "stdout",
     "output_type": "stream",
     "text": [
      "wish_to_video_call distribution:\n"
     ]
    },
    {
     "data": {
      "text/plain": [
       "True     0.997963\n",
       "False    0.002037\n",
       "Name: proportion, dtype: float64"
      ]
     },
     "metadata": {},
     "output_type": "display_data"
    },
    {
     "name": "stdout",
     "output_type": "stream",
     "text": [
      "other_animals distribution:\n"
     ]
    },
    {
     "data": {
      "text/plain": [
       "None                             0.979633\n",
       "ee                               0.002037\n",
       "tortoise                         0.002037\n",
       "bird aviary                      0.002037\n",
       "3 pigs                           0.002037\n",
       "cats                             0.002037\n",
       "alpacas                          0.002037\n",
       "humming bird visitors/nesters    0.002037\n",
       "giant rabbit                     0.002037\n",
       "bees                             0.002037\n",
       "horses                           0.002037\n",
       "Name: proportion, dtype: float64"
      ]
     },
     "metadata": {},
     "output_type": "display_data"
    },
    {
     "name": "stdout",
     "output_type": "stream",
     "text": [
      "attraction_city distribution:\n"
     ]
    },
    {
     "data": {
      "text/plain": [
       "False    0.663951\n",
       "True     0.336049\n",
       "Name: proportion, dtype: float64"
      ]
     },
     "metadata": {},
     "output_type": "display_data"
    },
    {
     "name": "stdout",
     "output_type": "stream",
     "text": [
      "attraction_beach distribution:\n"
     ]
    },
    {
     "data": {
      "text/plain": [
       "False    0.745418\n",
       "True     0.254582\n",
       "Name: proportion, dtype: float64"
      ]
     },
     "metadata": {},
     "output_type": "display_data"
    },
    {
     "name": "stdout",
     "output_type": "stream",
     "text": [
      "attraction_mountain distribution:\n"
     ]
    },
    {
     "data": {
      "text/plain": [
       "False    0.682281\n",
       "True     0.317719\n",
       "Name: proportion, dtype: float64"
      ]
     },
     "metadata": {},
     "output_type": "display_data"
    },
    {
     "name": "stdout",
     "output_type": "stream",
     "text": [
      "attraction_countryside distribution:\n"
     ]
    },
    {
     "data": {
      "text/plain": [
       "True     0.653768\n",
       "False    0.346232\n",
       "Name: proportion, dtype: float64"
      ]
     },
     "metadata": {},
     "output_type": "display_data"
    },
    {
     "name": "stdout",
     "output_type": "stream",
     "text": [
      "pet_dog distribution:\n"
     ]
    },
    {
     "data": {
      "text/plain": [
       "True     0.798371\n",
       "False    0.201629\n",
       "Name: proportion, dtype: float64"
      ]
     },
     "metadata": {},
     "output_type": "display_data"
    },
    {
     "name": "stdout",
     "output_type": "stream",
     "text": [
      "pet_cat distribution:\n"
     ]
    },
    {
     "data": {
      "text/plain": [
       "False    0.521385\n",
       "True     0.478615\n",
       "Name: proportion, dtype: float64"
      ]
     },
     "metadata": {},
     "output_type": "display_data"
    },
    {
     "name": "stdout",
     "output_type": "stream",
     "text": [
      "pet_bird distribution:\n"
     ]
    },
    {
     "data": {
      "text/plain": [
       "False    0.97556\n",
       "True     0.02444\n",
       "Name: proportion, dtype: float64"
      ]
     },
     "metadata": {},
     "output_type": "display_data"
    },
    {
     "name": "stdout",
     "output_type": "stream",
     "text": [
      "pet_fish distribution:\n"
     ]
    },
    {
     "data": {
      "text/plain": [
       "False    0.94501\n",
       "True     0.05499\n",
       "Name: proportion, dtype: float64"
      ]
     },
     "metadata": {},
     "output_type": "display_data"
    },
    {
     "name": "stdout",
     "output_type": "stream",
     "text": [
      "pet_reptile distribution:\n"
     ]
    },
    {
     "data": {
      "text/plain": [
       "False    0.98167\n",
       "True     0.01833\n",
       "Name: proportion, dtype: float64"
      ]
     },
     "metadata": {},
     "output_type": "display_data"
    },
    {
     "name": "stdout",
     "output_type": "stream",
     "text": [
      "pet_poultry distribution:\n"
     ]
    },
    {
     "data": {
      "text/plain": [
       "False    0.881874\n",
       "True     0.118126\n",
       "Name: proportion, dtype: float64"
      ]
     },
     "metadata": {},
     "output_type": "display_data"
    },
    {
     "name": "stdout",
     "output_type": "stream",
     "text": [
      "pet_farm_animal distribution:\n"
     ]
    },
    {
     "data": {
      "text/plain": [
       "False    0.95723\n",
       "True     0.04277\n",
       "Name: proportion, dtype: float64"
      ]
     },
     "metadata": {},
     "output_type": "display_data"
    },
    {
     "name": "stdout",
     "output_type": "stream",
     "text": [
      "photo_interior distribution:\n"
     ]
    },
    {
     "data": {
      "text/plain": [
       "False    0.930754\n",
       "True     0.069246\n",
       "Name: proportion, dtype: float64"
      ]
     },
     "metadata": {},
     "output_type": "display_data"
    },
    {
     "name": "stdout",
     "output_type": "stream",
     "text": [
      "photo_exterior distribution:\n"
     ]
    },
    {
     "data": {
      "text/plain": [
       "False    0.928717\n",
       "True     0.071283\n",
       "Name: proportion, dtype: float64"
      ]
     },
     "metadata": {},
     "output_type": "display_data"
    },
    {
     "name": "stdout",
     "output_type": "stream",
     "text": [
      "photo_attraction distribution:\n"
     ]
    },
    {
     "data": {
      "text/plain": [
       "False    0.99389\n",
       "True     0.00611\n",
       "Name: proportion, dtype: float64"
      ]
     },
     "metadata": {},
     "output_type": "display_data"
    },
    {
     "name": "stdout",
     "output_type": "stream",
     "text": [
      "photo_garden distribution:\n"
     ]
    },
    {
     "data": {
      "text/plain": [
       "False    0.928717\n",
       "True     0.071283\n",
       "Name: proportion, dtype: float64"
      ]
     },
     "metadata": {},
     "output_type": "display_data"
    },
    {
     "name": "stdout",
     "output_type": "stream",
     "text": [
      "photo_pool distribution:\n"
     ]
    },
    {
     "data": {
      "text/plain": [
       "False    0.989817\n",
       "True     0.010183\n",
       "Name: proportion, dtype: float64"
      ]
     },
     "metadata": {},
     "output_type": "display_data"
    },
    {
     "name": "stdout",
     "output_type": "stream",
     "text": [
      "photo_view distribution:\n"
     ]
    },
    {
     "data": {
      "text/plain": [
       "False    0.995927\n",
       "True     0.004073\n",
       "Name: proportion, dtype: float64"
      ]
     },
     "metadata": {},
     "output_type": "display_data"
    },
    {
     "name": "stdout",
     "output_type": "stream",
     "text": [
      "welcomes_single distribution:\n"
     ]
    },
    {
     "data": {
      "text/plain": [
       "True     0.973523\n",
       "False    0.026477\n",
       "Name: proportion, dtype: float64"
      ]
     },
     "metadata": {},
     "output_type": "display_data"
    },
    {
     "name": "stdout",
     "output_type": "stream",
     "text": [
      "welcomes_couple distribution:\n"
     ]
    },
    {
     "data": {
      "text/plain": [
       "True     0.99389\n",
       "False    0.00611\n",
       "Name: proportion, dtype: float64"
      ]
     },
     "metadata": {},
     "output_type": "display_data"
    },
    {
     "name": "stdout",
     "output_type": "stream",
     "text": [
      "welcomes_family distribution:\n"
     ]
    },
    {
     "data": {
      "text/plain": [
       "False    0.619145\n",
       "True     0.380855\n",
       "Name: proportion, dtype: float64"
      ]
     },
     "metadata": {},
     "output_type": "display_data"
    },
    {
     "name": "stdout",
     "output_type": "stream",
     "text": [
      "welcomes_any_age distribution:\n"
     ]
    },
    {
     "data": {
      "text/plain": [
       "True     0.88391\n",
       "False    0.11609\n",
       "Name: proportion, dtype: float64"
      ]
     },
     "metadata": {},
     "output_type": "display_data"
    },
    {
     "name": "stdout",
     "output_type": "stream",
     "text": [
      "welcomes_baby distribution:\n"
     ]
    },
    {
     "data": {
      "text/plain": [
       "False    0.930754\n",
       "True     0.069246\n",
       "Name: proportion, dtype: float64"
      ]
     },
     "metadata": {},
     "output_type": "display_data"
    },
    {
     "name": "stdout",
     "output_type": "stream",
     "text": [
      "welcomes_toddler distribution:\n"
     ]
    },
    {
     "data": {
      "text/plain": [
       "False    0.916497\n",
       "True     0.083503\n",
       "Name: proportion, dtype: float64"
      ]
     },
     "metadata": {},
     "output_type": "display_data"
    },
    {
     "name": "stdout",
     "output_type": "stream",
     "text": [
      "welcomes_child distribution:\n"
     ]
    },
    {
     "data": {
      "text/plain": [
       "False    0.892057\n",
       "True     0.107943\n",
       "Name: proportion, dtype: float64"
      ]
     },
     "metadata": {},
     "output_type": "display_data"
    },
    {
     "name": "stdout",
     "output_type": "stream",
     "text": [
      "welcomes_teen distribution:\n"
     ]
    },
    {
     "data": {
      "text/plain": [
       "False    0.892057\n",
       "True     0.107943\n",
       "Name: proportion, dtype: float64"
      ]
     },
     "metadata": {},
     "output_type": "display_data"
    },
    {
     "name": "stdout",
     "output_type": "stream",
     "text": [
      "welcomes_young distribution:\n"
     ]
    },
    {
     "data": {
      "text/plain": [
       "False    0.900204\n",
       "True     0.099796\n",
       "Name: proportion, dtype: float64"
      ]
     },
     "metadata": {},
     "output_type": "display_data"
    },
    {
     "name": "stdout",
     "output_type": "stream",
     "text": [
      "avg_nb_apps_per_assg statistics:\n",
      "count    491.000000\n",
      "mean       0.305499\n",
      "std        0.461088\n",
      "min        0.000000\n",
      "25%        0.000000\n",
      "50%        0.000000\n",
      "75%        1.000000\n",
      "max        1.000000\n",
      "Name: avg_nb_apps_per_assg, dtype: float64\n",
      "minutes_pet_can_be_left_alone statistics:\n",
      "count    491.000000\n",
      "mean     178.167006\n",
      "std      108.777533\n",
      "min        0.000000\n",
      "25%      120.000000\n",
      "50%      120.000000\n",
      "75%      240.000000\n",
      "max      480.000000\n",
      "Name: minutes_pet_can_be_left_alone, dtype: float64\n",
      "nb_assignments_filled statistics:\n",
      "count    491.000000\n",
      "mean       4.706721\n",
      "std        5.714601\n",
      "min        0.000000\n",
      "25%        1.000000\n",
      "50%        3.000000\n",
      "75%        7.000000\n",
      "max       43.000000\n",
      "Name: nb_assignments_filled, dtype: float64\n",
      "nb_assignments_published statistics:\n",
      "count    491.000000\n",
      "mean       5.826884\n",
      "std        6.386894\n",
      "min        0.000000\n",
      "25%        1.000000\n",
      "50%        4.000000\n",
      "75%        8.000000\n",
      "max       46.000000\n",
      "Name: nb_assignments_published, dtype: float64\n",
      "nb_distinct_pets statistics:\n",
      "count    491.000000\n",
      "mean       1.596741\n",
      "std        0.887734\n",
      "min        0.000000\n",
      "25%        1.000000\n",
      "50%        1.000000\n",
      "75%        2.000000\n",
      "max        6.000000\n",
      "Name: nb_distinct_pets, dtype: float64\n",
      "nb_domestic_sitters statistics:\n",
      "count    491.000000\n",
      "mean       3.038697\n",
      "std        4.387893\n",
      "min        0.000000\n",
      "25%        0.000000\n",
      "50%        2.000000\n",
      "75%        4.000000\n",
      "max       31.000000\n",
      "Name: nb_domestic_sitters, dtype: float64\n",
      "nb_invites statistics:\n",
      "count    491.000000\n",
      "mean       7.674134\n",
      "std       26.867394\n",
      "min        0.000000\n",
      "25%        0.000000\n",
      "50%        1.000000\n",
      "75%        6.000000\n",
      "max      385.000000\n",
      "Name: nb_invites, dtype: float64\n",
      "nb_of_pets statistics:\n",
      "count    491.000000\n",
      "mean       2.857434\n",
      "std        2.433617\n",
      "min        0.000000\n",
      "25%        1.000000\n",
      "50%        2.000000\n",
      "75%        3.000000\n",
      "max       18.000000\n",
      "Name: nb_of_pets, dtype: float64\n",
      "nb_of_photos statistics:\n",
      "count    491.000000\n",
      "mean       0.743381\n",
      "std        1.879897\n",
      "min        0.000000\n",
      "25%        0.000000\n",
      "50%        0.000000\n",
      "75%        0.000000\n",
      "max       12.000000\n",
      "Name: nb_of_photos, dtype: float64\n",
      "nb_repeat_sitters statistics:\n",
      "count    491.000000\n",
      "mean       0.380855\n",
      "std        0.825339\n",
      "min        0.000000\n",
      "25%        0.000000\n",
      "50%        0.000000\n",
      "75%        0.000000\n",
      "max        7.000000\n",
      "Name: nb_repeat_sitters, dtype: float64\n",
      "nb_unique_sitters statistics:\n",
      "count    491.000000\n",
      "mean       4.171079\n",
      "std        4.838964\n",
      "min        0.000000\n",
      "25%        1.000000\n",
      "50%        3.000000\n",
      "75%        6.000000\n",
      "max       39.000000\n",
      "Name: nb_unique_sitters, dtype: float64\n",
      "days_since_modified statistics:\n",
      "count         491.0\n",
      "mean     635.519348\n",
      "std      371.815871\n",
      "min            52.0\n",
      "25%           290.0\n",
      "50%           660.0\n",
      "75%           964.0\n",
      "max          2526.0\n",
      "Name: days_since_modified, dtype: Float64\n",
      "year_approved statistics:\n",
      "count          491.0\n",
      "mean     2020.839104\n",
      "std         2.108433\n",
      "min           2012.0\n",
      "25%           2021.0\n",
      "50%           2022.0\n",
      "75%           2022.0\n",
      "max           2024.0\n",
      "Name: year_approved, dtype: Float64\n",
      "-----------------------------------\n"
     ]
    }
   ],
   "source": [
    "# cluster characteristics\n",
    "display(listings_df['cluster'].value_counts())\n",
    "\n",
    "for cluster in range(optimal_n_clusters):\n",
    "    print('-----------------------------------')\n",
    "    print(f\"cluster {cluster} characteristics:\")\n",
    "    cluster_data = listings_df[listings_df['cluster'] == cluster]\n",
    "    print(f'cluster contains {len(cluster_data)} homeowner listings')\n",
    "    \n",
    "    # feature distribution for categorical features\n",
    "    for cat_col in categorical_features:\n",
    "        if cat_col in listings_df.columns:\n",
    "            print(f\"{cat_col} distribution:\")\n",
    "            # back to original categories\n",
    "            original_values = encoders[cat_col].inverse_transform(cluster_data[cat_col].astype(int))\n",
    "            value_distribution = pd.Series(original_values).value_counts(normalize=True)\n",
    "            value_counts       = pd.Series(original_values).value_counts(normalize=False)\n",
    "            # display(value_counts)\n",
    "            display(value_distribution)\n",
    "    \n",
    "    # For numerical features, show summary statistics\n",
    "    for num_col in numerical_features:\n",
    "        if num_col in listings_df.columns:\n",
    "            print(f\"{num_col} statistics:\")\n",
    "            print(cluster_data[num_col].describe())\n",
    "    print('-----------------------------------')\n"
   ]
  },
  {
   "cell_type": "code",
   "execution_count": null,
   "id": "14d014c6-a997-4575-bbb4-66b5ff564c9d",
   "metadata": {},
   "outputs": [],
   "source": [
    "def calculate_feature_importance(data, cluster_labels, n_clusters=5):\n",
    "    importances = {}\n",
    "    \n",
    "    for cluster in range(n_clusters):\n",
    "        cluster_data = data[cluster_labels == cluster]\n",
    "        cluster_size = len(cluster_data)\n",
    "        total_size = len(data)\n",
    "        \n",
    "        feature_importances = {}\n",
    "        \n",
    "        for feature in data.columns:\n",
    "            # For categorical features, look at each category\n",
    "            if data[feature].dtype == 'object' or data[feature].dtype == 'bool':\n",
    "                for category in data[feature].unique():\n",
    "                    # Proportion in cluster with this category\n",
    "                    prop_in_cluster = (cluster_data[feature] == category).mean()\n",
    "                    # Proportion in overall dataset with this category\n",
    "                    prop_overall = (data[feature] == category).mean()\n",
    "                    \n",
    "                    # Avoid division by zero\n",
    "                    if prop_overall > 0:\n",
    "                        # Lift/importance score\n",
    "                        importance = prop_in_cluster / prop_overall\n",
    "                        feature_importances[f\"{feature}_{category}\"] = importance\n",
    "            \n",
    "        # Sort by importance (descending)\n",
    "        sorted_importances = dict(sorted(feature_importances.items(), \n",
    "                                        key=lambda x: abs(x[1]-1), \n",
    "                                        reverse=True))\n",
    "        importances[f\"Cluster_{cluster}\"] = sorted_importances\n",
    "    \n",
    "    return importances\n"
   ]
  },
  {
   "cell_type": "code",
   "execution_count": null,
   "id": "9016b098-d37e-4185-97f7-0d7bf1d706c8",
   "metadata": {},
   "outputs": [],
   "source": []
  },
  {
   "cell_type": "code",
   "execution_count": null,
   "id": "04c3c67e-edb3-4795-9ace-c743c97e9f5d",
   "metadata": {},
   "outputs": [],
   "source": []
  },
  {
   "cell_type": "code",
   "execution_count": null,
   "id": "6eb80442-35d2-4ac1-bf84-2accae94591b",
   "metadata": {},
   "outputs": [],
   "source": [
    "# import umap.umap_ as umap\n",
    "# reducer = umap.UMAP()\n"
   ]
  },
  {
   "cell_type": "code",
   "execution_count": null,
   "id": "774d6c76-f58a-4a30-8fed-7e0d244aa997",
   "metadata": {},
   "outputs": [],
   "source": []
  },
  {
   "cell_type": "code",
   "execution_count": null,
   "id": "5a0a43bf-481e-4f41-886d-4f3236bad1bd",
   "metadata": {},
   "outputs": [],
   "source": []
  },
  {
   "cell_type": "code",
   "execution_count": null,
   "id": "ea301cf4-e1b0-49d0-9762-6e50753001d7",
   "metadata": {},
   "outputs": [],
   "source": []
  },
  {
   "cell_type": "code",
   "execution_count": null,
   "id": "941aae3d-86dd-4e6a-87f8-d061a2e3dc7a",
   "metadata": {},
   "outputs": [],
   "source": []
  },
  {
   "cell_type": "code",
   "execution_count": null,
   "id": "bce117fa-a264-4d81-9312-b74a173afcd2",
   "metadata": {},
   "outputs": [],
   "source": []
  },
  {
   "cell_type": "code",
   "execution_count": null,
   "id": "8ac7591c-78b5-412a-9570-ea3d6bcd6fe1",
   "metadata": {},
   "outputs": [],
   "source": []
  },
  {
   "cell_type": "markdown",
   "id": "7ef8fc3f-5a93-499a-9548-a5022c3bae22",
   "metadata": {},
   "source": [
    "- NTF: number of dims in which the first value is True, second is False = 2.\n",
    "- NFT: number of dims in which the first value is False, second is True = 1.\n",
    "- NNEQ : number of non-equal dimensions, NNEQ = NTF + NFT = 3.\n",
    "- NTT : number of dims in which both values are True = 0.\n",
    "- NNZ : number of nonzero dimensions, NNZ = NTF + NFT + NTT = 3.\n",
    "- DiceDistance = NNEQ / (NTT + NNZ) = 3/3 = 1"
   ]
  },
  {
   "cell_type": "code",
   "execution_count": null,
   "id": "b91749e7-83ac-4854-8e4a-db9689e59536",
   "metadata": {},
   "outputs": [],
   "source": []
  }
 ],
 "metadata": {
  "kernelspec": {
   "display_name": "Python 3 (ipykernel)",
   "language": "python",
   "name": "python3"
  },
  "language_info": {
   "codemirror_mode": {
    "name": "ipython",
    "version": 3
   },
   "file_extension": ".py",
   "mimetype": "text/x-python",
   "name": "python",
   "nbconvert_exporter": "python",
   "pygments_lexer": "ipython3",
   "version": "3.8.18"
  }
 },
 "nbformat": 4,
 "nbformat_minor": 5
}
