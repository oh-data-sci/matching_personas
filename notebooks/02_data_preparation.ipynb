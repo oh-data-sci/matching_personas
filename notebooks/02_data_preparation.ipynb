{
 "cells": [
  {
   "cell_type": "markdown",
   "id": "cb5c8bf4-aea0-451b-95a4-3c71934c2748",
   "metadata": {},
   "source": [
    "data cleaning and preprocessing\n",
    "===\n",
    "# introduction\n",
    "given the learnings from the exploratory data analysis above, here we clean and preprocess the data files to shape them into.\n",
    "\n",
    "# sitter profiles:\n",
    "- filter out low profile completeness\n",
    "- filter out sitters with multiple (>4) blanks/missing information\n",
    "\n",
    "\n",
    "# home/pet listings\n",
    "- filter out incomplete (pct_complete < 70)\n",
    "- filter out zero photos\n",
    "- assume no car_included\n",
    "\n",
    "# "
   ]
  },
  {
   "cell_type": "code",
   "execution_count": null,
   "id": "809a5c40-a70c-4888-af83-60104bfed12d",
   "metadata": {},
   "outputs": [],
   "source": [
    "\n"
   ]
  },
  {
   "cell_type": "code",
   "execution_count": null,
   "id": "79906c9b-3b4d-43bd-a158-c001b6f94cb6",
   "metadata": {},
   "outputs": [],
   "source": []
  }
 ],
 "metadata": {
  "kernelspec": {
   "display_name": "Python 3 (ipykernel)",
   "language": "python",
   "name": "python3"
  },
  "language_info": {
   "codemirror_mode": {
    "name": "ipython",
    "version": 3
   },
   "file_extension": ".py",
   "mimetype": "text/x-python",
   "name": "python",
   "nbconvert_exporter": "python",
   "pygments_lexer": "ipython3",
   "version": "3.8.18"
  }
 },
 "nbformat": 4,
 "nbformat_minor": 5
}
