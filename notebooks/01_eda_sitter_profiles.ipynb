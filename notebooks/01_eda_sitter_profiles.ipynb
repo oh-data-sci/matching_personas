{
 "cells": [
  {
   "cell_type": "markdown",
   "id": "76ff6005-b4b0-4215-9a7e-2fd57d8c2036",
   "metadata": {},
   "source": [
    "sitter profiles - exploratory data analysis and cleaning\n",
    "===\n",
    "# introduction\n",
    "we'll start by getting to know the data and discovering its shapes and hidden warts. data cleaning and preprocessing.\n",
    "\n",
    "the data tables are:\n",
    "\n",
    "- profiles (housesitter profiles)\n",
    "- listings (homeowner listings)\n",
    "- pets (details of the pets belonging to a listing)\n",
    "- users (user contact details)\n",
    "- applications (requests by a sitter to a sit, and invites of homeowneres to sitters)\n",
    "- assignments (sitter + sits connections)\n",
    "- feedback (feedback left by housesitters on the sit)\n",
    "- reviews (feedback left by homeowners on the sitter)"
   ]
  },
  {
   "cell_type": "code",
   "execution_count": 1,
   "id": "27cf7bee-2e5c-415f-830e-43911c9081cd",
   "metadata": {},
   "outputs": [
    {
     "data": {
      "text/html": [
       "\n",
       "            <div>\n",
       "                <ins><a href=\"ttps://ydata.ai/register\">Upgrade to ydata-sdk</a></ins>\n",
       "                <p>\n",
       "                    Improve your data and profiling with ydata-sdk, featuring data quality scoring, redundancy detection, outlier identification, text validation, and synthetic data generation.\n",
       "                </p>\n",
       "            </div>\n",
       "            "
      ],
      "text/plain": [
       "<IPython.core.display.HTML object>"
      ]
     },
     "metadata": {},
     "output_type": "display_data"
    }
   ],
   "source": [
    "from datetime import datetime\n",
    "import duckdb\n",
    "import numpy as np\n",
    "import pandas as pd\n",
    "from ydata_profiling import ProfileReport\n",
    "import ydata_profiling as yp\n",
    "\n",
    "DATAFOLDER='../data/raw/'        # path to raw data files\n",
    "DATABASEFILE='../data/sits.ddb'  # path to persistent duckdb database file"
   ]
  },
  {
   "cell_type": "code",
   "execution_count": 2,
   "id": "633134e7-3e67-4d19-8046-7236d6c226d6",
   "metadata": {},
   "outputs": [],
   "source": [
    "# np.iinfo(np.int16).max"
   ]
  },
  {
   "cell_type": "markdown",
   "id": "59234576-2073-4733-9c63-3b6ed2fd72b8",
   "metadata": {},
   "source": [
    "# housesitter profiles\n",
    "in this data set, each row represents a house sitter's profile. from the data dictionary, we can learn a lot about the columns included. \n",
    "many of the columns are boolean, some are datetimes, others are strings, that can either be interpreted as categorical variables or harvested for one-hot encoded variables. \n",
    "\n",
    "## assumption\n",
    "for each boolean variable, if an answer is missing, we will interpret that as FALSE, i.e. we take the question to mean whether _they are confirmed to be true_ or not. this assumption is not always going to be true, but it will be more often than not, and increases the expressiveness of the data set. "
   ]
  },
  {
   "cell_type": "code",
   "execution_count": 3,
   "id": "f580f891-836e-4f85-9570-0f0369d3b043",
   "metadata": {},
   "outputs": [],
   "source": [
    "bool_cols = [\n",
    "    'with_children',\n",
    "    'sitting_with_another',\n",
    "    'prev_sitting_experience',\n",
    "    'other_animals',              \n",
    "    'has_dog_experience',\n",
    "    'has_cat_experience',\n",
    "    'has_reptile_experience',\n",
    "    'has_horse_experience',\n",
    "    'has_fish_experience',\n",
    "    'has_poultry_experience',\n",
    "    'has_farm_animal_experience',\n",
    "    'has_bird_experience',\n",
    "    'has_small_pet_experience',\n",
    "    'prefers_all_countries',\n",
    "    'happy_to_meet_in_person',\n",
    "    'happy_to_video_call',\n",
    "    'interested_in_remote_working',\n",
    "    'interested_in_dogs',\n",
    "    'interested_in_cats',\n",
    "    'interested_in_reptiles',\n",
    "    'interested_in_horses',\n",
    "    'interested_in_fish',\n",
    "    'interested_in_poultry',\n",
    "    'interested_in_farm_animals',\n",
    "    'interested_in_birds',\n",
    "    'interested_in_small_pets',\n",
    "]\n",
    "date_columns = [\n",
    "    'modified_dt',\n",
    "    'birth_date',\n",
    "    'partner_birth_date'\n",
    "]\n",
    "today = pd.Timestamp.now().floor('D')  # Floor to remove time component\n",
    "\n",
    "\n",
    "category_cols=[\n",
    "    'travelling_as',\n",
    "    'occupation_type',\n",
    "    'location_wish_list',\n",
    "    'child_ages',\n",
    "]\n",
    "# numerical columns\n",
    "data_types = {\n",
    "    'id':np.uint32, \n",
    "    'user_id':np.uint32,\n",
    "    'latitude':np.float32,\n",
    "    'longitude':np.float32,\n",
    "    'pct_complete':np.uint8,\n",
    "    'nb_reviews':np.uint16,\n",
    "    'nb_5s_reviews':np.uint16,\n",
    "    'nb_applications':np.uint16,\n",
    "    'nb_sits_completed':np.uint16,\n",
    "    'nb_domestic_sits':np.uint16,\n",
    "    'nb_local_sits':np.uint16,\n",
    "    'nb_of_sitter_pets':np.uint16,\n",
    "    'nb_sits_booked':np.uint16,\n",
    "    'daily_minutes_willing_to_walk_dogs':np.float32,\n",
    "    # 'years_of_experience':np.uint8\n",
    "}\n",
    "# the sex combinations repeat, so let's map them. don't see a reason to distinguish between sitter and partner. just consider the different pairings. order alphabetically.\n",
    "mapping = {\n",
    "    # e.g. we already have an 'FM' category for a pair of sitters, so if a profile is 'MF', we map it to 'FM'.\n",
    "    'MF':'FM',\n",
    "    'NF':'FN',\n",
    "    'TF':'FT',\n",
    "    'UF':'FU',\n",
    "    'XF':'FX',\n",
    "    'NM':'MN',\n",
    "    'TM':'MT',\n",
    "    'UM':'MU',\n",
    "    'XM':'MX',\n",
    "    'TN':'NT',\n",
    "    'UN':'NU',\n",
    "    'XN':'NX',\n",
    "    'XU':'UX',\n",
    "}"
   ]
  },
  {
   "cell_type": "code",
   "execution_count": null,
   "id": "51235912-a622-45b8-9d90-2bfcd0c98424",
   "metadata": {},
   "outputs": [],
   "source": []
  },
  {
   "cell_type": "code",
   "execution_count": 4,
   "id": "06ec478f-53b8-457e-83f8-705193b5e34e",
   "metadata": {},
   "outputs": [
    {
     "data": {
      "text/html": [
       "<div>\n",
       "<style scoped>\n",
       "    .dataframe tbody tr th:only-of-type {\n",
       "        vertical-align: middle;\n",
       "    }\n",
       "\n",
       "    .dataframe tbody tr th {\n",
       "        vertical-align: top;\n",
       "    }\n",
       "\n",
       "    .dataframe thead th {\n",
       "        text-align: right;\n",
       "    }\n",
       "</style>\n",
       "<table border=\"1\" class=\"dataframe\">\n",
       "  <thead>\n",
       "    <tr style=\"text-align: right;\">\n",
       "      <th></th>\n",
       "      <th>id</th>\n",
       "      <th>user_id</th>\n",
       "      <th>pct_complete</th>\n",
       "      <th>travelling_as</th>\n",
       "      <th>with_children</th>\n",
       "      <th>sitting_with_another</th>\n",
       "      <th>occupation_type</th>\n",
       "      <th>prev_sitting_experience</th>\n",
       "      <th>other_animals</th>\n",
       "      <th>has_dog_experience</th>\n",
       "      <th>...</th>\n",
       "      <th>dog_skills</th>\n",
       "      <th>cat_skills</th>\n",
       "      <th>five_star_ratio</th>\n",
       "      <th>can_give_medicine</th>\n",
       "      <th>big_dog_preferences</th>\n",
       "      <th>small_dog_preferences</th>\n",
       "      <th>wish_list_city</th>\n",
       "      <th>wish_list_beach</th>\n",
       "      <th>wish_list_mountain</th>\n",
       "      <th>wish_list_countryside</th>\n",
       "    </tr>\n",
       "  </thead>\n",
       "  <tbody>\n",
       "    <tr>\n",
       "      <th>17093</th>\n",
       "      <td>1822397</td>\n",
       "      <td>2898044</td>\n",
       "      <td>84</td>\n",
       "      <td>FM</td>\n",
       "      <td>False</td>\n",
       "      <td>True</td>\n",
       "      <td>taking-time-off</td>\n",
       "      <td>True</td>\n",
       "      <td>True</td>\n",
       "      <td>True</td>\n",
       "      <td>...</td>\n",
       "      <td>False</td>\n",
       "      <td>False</td>\n",
       "      <td>1.000</td>\n",
       "      <td>False</td>\n",
       "      <td>False</td>\n",
       "      <td>False</td>\n",
       "      <td>True</td>\n",
       "      <td>True</td>\n",
       "      <td>True</td>\n",
       "      <td>True</td>\n",
       "    </tr>\n",
       "    <tr>\n",
       "      <th>16897</th>\n",
       "      <td>2073011</td>\n",
       "      <td>2801897</td>\n",
       "      <td>94</td>\n",
       "      <td>FM</td>\n",
       "      <td>False</td>\n",
       "      <td>True</td>\n",
       "      <td>working-while-travelling</td>\n",
       "      <td>True</td>\n",
       "      <td>True</td>\n",
       "      <td>True</td>\n",
       "      <td>...</td>\n",
       "      <td>False</td>\n",
       "      <td>False</td>\n",
       "      <td>1.000</td>\n",
       "      <td>False</td>\n",
       "      <td>False</td>\n",
       "      <td>False</td>\n",
       "      <td>True</td>\n",
       "      <td>True</td>\n",
       "      <td>True</td>\n",
       "      <td>True</td>\n",
       "    </tr>\n",
       "    <tr>\n",
       "      <th>6891</th>\n",
       "      <td>745156</td>\n",
       "      <td>916227</td>\n",
       "      <td>94</td>\n",
       "      <td>FM</td>\n",
       "      <td>False</td>\n",
       "      <td>True</td>\n",
       "      <td>employed</td>\n",
       "      <td>True</td>\n",
       "      <td>True</td>\n",
       "      <td>True</td>\n",
       "      <td>...</td>\n",
       "      <td>False</td>\n",
       "      <td>False</td>\n",
       "      <td>1.000</td>\n",
       "      <td>False</td>\n",
       "      <td>False</td>\n",
       "      <td>False</td>\n",
       "      <td>True</td>\n",
       "      <td>True</td>\n",
       "      <td>True</td>\n",
       "      <td>True</td>\n",
       "    </tr>\n",
       "    <tr>\n",
       "      <th>16142</th>\n",
       "      <td>1905041</td>\n",
       "      <td>3070152</td>\n",
       "      <td>84</td>\n",
       "      <td>M</td>\n",
       "      <td>False</td>\n",
       "      <td>False</td>\n",
       "      <td>working-while-travelling</td>\n",
       "      <td>True</td>\n",
       "      <td>True</td>\n",
       "      <td>True</td>\n",
       "      <td>...</td>\n",
       "      <td>False</td>\n",
       "      <td>False</td>\n",
       "      <td>0.875</td>\n",
       "      <td>False</td>\n",
       "      <td>False</td>\n",
       "      <td>False</td>\n",
       "      <td>True</td>\n",
       "      <td>True</td>\n",
       "      <td>True</td>\n",
       "      <td>True</td>\n",
       "    </tr>\n",
       "    <tr>\n",
       "      <th>12298</th>\n",
       "      <td>1486120</td>\n",
       "      <td>2296109</td>\n",
       "      <td>84</td>\n",
       "      <td>M</td>\n",
       "      <td>False</td>\n",
       "      <td>False</td>\n",
       "      <td>employed</td>\n",
       "      <td>True</td>\n",
       "      <td>True</td>\n",
       "      <td>True</td>\n",
       "      <td>...</td>\n",
       "      <td>False</td>\n",
       "      <td>False</td>\n",
       "      <td>0.000</td>\n",
       "      <td>False</td>\n",
       "      <td>False</td>\n",
       "      <td>False</td>\n",
       "      <td>True</td>\n",
       "      <td>True</td>\n",
       "      <td>True</td>\n",
       "      <td>True</td>\n",
       "    </tr>\n",
       "  </tbody>\n",
       "</table>\n",
       "<p>5 rows × 58 columns</p>\n",
       "</div>"
      ],
      "text/plain": [
       "            id  user_id  pct_complete travelling_as  with_children  \\\n",
       "17093  1822397  2898044            84            FM          False   \n",
       "16897  2073011  2801897            94            FM          False   \n",
       "6891    745156   916227            94            FM          False   \n",
       "16142  1905041  3070152            84             M          False   \n",
       "12298  1486120  2296109            84             M          False   \n",
       "\n",
       "       sitting_with_another           occupation_type  \\\n",
       "17093                  True           taking-time-off   \n",
       "16897                  True  working-while-travelling   \n",
       "6891                   True                  employed   \n",
       "16142                 False  working-while-travelling   \n",
       "12298                 False                  employed   \n",
       "\n",
       "       prev_sitting_experience  other_animals  has_dog_experience  ...  \\\n",
       "17093                     True           True                True  ...   \n",
       "16897                     True           True                True  ...   \n",
       "6891                      True           True                True  ...   \n",
       "16142                     True           True                True  ...   \n",
       "12298                     True           True                True  ...   \n",
       "\n",
       "       dog_skills  cat_skills  five_star_ratio  can_give_medicine  \\\n",
       "17093       False       False            1.000              False   \n",
       "16897       False       False            1.000              False   \n",
       "6891        False       False            1.000              False   \n",
       "16142       False       False            0.875              False   \n",
       "12298       False       False            0.000              False   \n",
       "\n",
       "       big_dog_preferences  small_dog_preferences  wish_list_city  \\\n",
       "17093                False                  False            True   \n",
       "16897                False                  False            True   \n",
       "6891                 False                  False            True   \n",
       "16142                False                  False            True   \n",
       "12298                False                  False            True   \n",
       "\n",
       "       wish_list_beach  wish_list_mountain  wish_list_countryside  \n",
       "17093             True                True                   True  \n",
       "16897             True                True                   True  \n",
       "6891              True                True                   True  \n",
       "16142             True                True                   True  \n",
       "12298             True                True                   True  \n",
       "\n",
       "[5 rows x 58 columns]"
      ]
     },
     "metadata": {},
     "output_type": "display_data"
    },
    {
     "name": "stdout",
     "output_type": "stream",
     "text": [
      "<class 'pandas.core.frame.DataFrame'>\n",
      "Index: 33352 entries, 0 to 34915\n",
      "Data columns (total 58 columns):\n",
      " #   Column                              Non-Null Count  Dtype   \n",
      "---  ------                              --------------  -----   \n",
      " 0   id                                  33352 non-null  uint32  \n",
      " 1   user_id                             33352 non-null  uint32  \n",
      " 2   pct_complete                        33352 non-null  uint8   \n",
      " 3   travelling_as                       33352 non-null  category\n",
      " 4   with_children                       33352 non-null  bool    \n",
      " 5   sitting_with_another                33352 non-null  bool    \n",
      " 6   occupation_type                     33262 non-null  category\n",
      " 7   prev_sitting_experience             33352 non-null  bool    \n",
      " 8   other_animals                       33352 non-null  bool    \n",
      " 9   has_dog_experience                  33352 non-null  bool    \n",
      " 10  has_cat_experience                  33352 non-null  bool    \n",
      " 11  has_reptile_experience              33352 non-null  bool    \n",
      " 12  has_horse_experience                33352 non-null  bool    \n",
      " 13  has_fish_experience                 33352 non-null  bool    \n",
      " 14  has_poultry_experience              33352 non-null  bool    \n",
      " 15  has_farm_animal_experience          33352 non-null  bool    \n",
      " 16  has_bird_experience                 33352 non-null  bool    \n",
      " 17  has_small_pet_experience            33352 non-null  bool    \n",
      " 18  prefers_all_countries               33352 non-null  bool    \n",
      " 19  nb_reviews                          33352 non-null  uint16  \n",
      " 20  nb_5s_reviews                       33352 non-null  uint16  \n",
      " 21  nb_applications                     33352 non-null  uint16  \n",
      " 22  nb_sits_completed                   33352 non-null  uint16  \n",
      " 23  nb_domestic_sits                    33352 non-null  uint16  \n",
      " 24  nb_local_sits                       33352 non-null  uint16  \n",
      " 25  nb_sits_booked                      33352 non-null  uint16  \n",
      " 26  years_of_experience                 33352 non-null  int8    \n",
      " 27  nb_of_sitter_pets                   33352 non-null  uint16  \n",
      " 28  daily_minutes_willing_to_walk_dogs  33352 non-null  int16   \n",
      " 29  happy_to_meet_in_person             33352 non-null  bool    \n",
      " 30  happy_to_video_call                 33352 non-null  bool    \n",
      " 31  interested_in_remote_working        33352 non-null  bool    \n",
      " 32  interested_in_dogs                  33352 non-null  bool    \n",
      " 33  interested_in_cats                  33352 non-null  bool    \n",
      " 34  interested_in_reptiles              33352 non-null  bool    \n",
      " 35  interested_in_horses                33352 non-null  bool    \n",
      " 36  interested_in_fish                  33352 non-null  bool    \n",
      " 37  interested_in_poultry               33352 non-null  bool    \n",
      " 38  interested_in_farm_animals          33352 non-null  bool    \n",
      " 39  interested_in_birds                 33352 non-null  bool    \n",
      " 40  interested_in_small_pets            33352 non-null  bool    \n",
      " 41  days_since_modified                 33352 non-null  Int16   \n",
      " 42  birth_decade                        33345 non-null  Int16   \n",
      " 43  partner_birth_decade                14912 non-null  Int16   \n",
      " 44  with_a_baby                         33352 non-null  bool    \n",
      " 45  with_a_toddler                      33352 non-null  bool    \n",
      " 46  with_a_child                        33352 non-null  bool    \n",
      " 47  with_a_teen                         33352 non-null  bool    \n",
      " 48  dog_skills                          33352 non-null  bool    \n",
      " 49  cat_skills                          33352 non-null  bool    \n",
      " 50  five_star_ratio                     33352 non-null  float32 \n",
      " 51  can_give_medicine                   33352 non-null  bool    \n",
      " 52  big_dog_preferences                 33352 non-null  bool    \n",
      " 53  small_dog_preferences               33352 non-null  bool    \n",
      " 54  wish_list_city                      33352 non-null  bool    \n",
      " 55  wish_list_beach                     33352 non-null  bool    \n",
      " 56  wish_list_mountain                  33352 non-null  bool    \n",
      " 57  wish_list_countryside               33352 non-null  bool    \n",
      "dtypes: Int16(3), bool(39), category(2), float32(1), int16(1), int8(1), uint16(8), uint32(2), uint8(1)\n",
      "memory usage: 2.9 MB\n"
     ]
    },
    {
     "data": {
      "text/plain": [
       "None"
      ]
     },
     "metadata": {},
     "output_type": "display_data"
    }
   ],
   "source": [
    "profiles_df =  (\n",
    "    pd.read_csv(\n",
    "        DATAFOLDER+'profiles.csv', \n",
    "        low_memory=False,\n",
    "        parse_dates=date_columns,\n",
    "        date_format='%Y-%m-%d %H:%M:%S.%f',\n",
    "        dtype=data_types\n",
    "    )\n",
    "    .query('pct_complete > 75') # focus on profiles near completion and ignore partial profiles \n",
    "    .assign(\n",
    "        days_since_modified    = lambda x: (today - x['modified_dt']).dt.days.astype('Int16'),\n",
    "        birth_decade           = lambda x: pd.Series(((x['birth_date'].dt.year//10)*10),dtype='Int16'),\n",
    "        partner_birth_decade   = lambda x: pd.Series(((x['partner_birth_date'].dt.year//10)*10),dtype='Int16'),\n",
    "        travelling_as          = lambda x: pd.Categorical(x['travelling_as'].replace(mapping)),\n",
    "        occupation_type        = lambda x: pd.Categorical(x['occupation_type']),\n",
    "        with_a_baby            = lambda x: x['child_ages'].str.contains('0-3').fillna(False),\n",
    "        with_a_toddler         = lambda x: x['child_ages'].str.contains('4-7').fillna(False),\n",
    "        with_a_child           = lambda x: x['child_ages'].str.contains('8-12').fillna(False),\n",
    "        with_a_teen            = lambda x: x['child_ages'].str.contains('13-17|18+').fillna(False),\n",
    "        dog_skills             = lambda x: x['skills'].str.contains('dog').fillna(False),\n",
    "        cat_skills             = lambda x: x['skills'].str.contains('cat').fillna(False),\n",
    "        five_star_ratio        = lambda x: (x['nb_5s_reviews']/x['nb_reviews']).fillna(0).astype(np.float32),\n",
    "        can_give_medicine      = lambda x: x['skills'].str.contains('medication').fillna(False),\n",
    "        big_dog_preferences    = lambda x: x['dog_size_preferences'].str.contains('^L|XL|,L').fillna(False),\n",
    "        small_dog_preferences  = lambda x: x['dog_size_preferences'].str.contains('^S|XS|,S').fillna(False),\n",
    "        # missing years of experience. assume newbies leave blank?\n",
    "        years_of_experience    = lambda x: pd.to_numeric(x['years_of_experience'].fillna(0), errors='coerce', downcast='integer'),\n",
    "        wish_list_city         = lambda x: x['location_wish_list'].str.contains('city').fillna(False),\n",
    "        wish_list_beach        = lambda x: x['location_wish_list'].str.contains('beach').fillna(False),\n",
    "        wish_list_mountain     = lambda x: x['location_wish_list'].str.contains('mountain').fillna(False),\n",
    "        wish_list_countryside  = lambda x: x['location_wish_list'].str.contains('countryside').fillna(False),\n",
    "        daily_minutes_willing_to_walk_dogs = lambda x: pd.to_numeric(x['daily_minutes_willing_to_walk_dogs'].fillna(0), errors='coerce', downcast='integer'),\n",
    "    )\n",
    "    # drop columns that add no value or have been used\n",
    "    .drop(columns=['modified_dt', 'latitude', 'longitude', 'child_ages', 'skills', 'birth_date', 'partner_birth_date', 'dog_size_preferences', 'location_wish_list', 'preferred_countries'])    \n",
    ")\n",
    "\n",
    "# for booleans, if answer is missing, interpret it as 'no':\n",
    "for col in bool_cols:\n",
    "    profiles_df[col] = profiles_df[col].astype('bool').fillna(False)\n",
    "\n",
    "display(profiles_df.sample(5))\n",
    "display(profiles_df.info())"
   ]
  },
  {
   "cell_type": "code",
   "execution_count": 5,
   "id": "6b354a5c-6059-4355-ad64-fd40f0755d77",
   "metadata": {},
   "outputs": [
    {
     "data": {
      "text/html": [
       "<div>\n",
       "<style scoped>\n",
       "    .dataframe tbody tr th:only-of-type {\n",
       "        vertical-align: middle;\n",
       "    }\n",
       "\n",
       "    .dataframe tbody tr th {\n",
       "        vertical-align: top;\n",
       "    }\n",
       "\n",
       "    .dataframe thead th {\n",
       "        text-align: right;\n",
       "    }\n",
       "</style>\n",
       "<table border=\"1\" class=\"dataframe\">\n",
       "  <thead>\n",
       "    <tr style=\"text-align: right;\">\n",
       "      <th></th>\n",
       "      <th>five_star_ratio</th>\n",
       "      <th>nb_5s_reviews</th>\n",
       "      <th>nb_reviews</th>\n",
       "    </tr>\n",
       "  </thead>\n",
       "  <tbody>\n",
       "    <tr>\n",
       "      <th>1</th>\n",
       "      <td>1.0</td>\n",
       "      <td>57</td>\n",
       "      <td>57</td>\n",
       "    </tr>\n",
       "    <tr>\n",
       "      <th>3</th>\n",
       "      <td>1.0</td>\n",
       "      <td>9</td>\n",
       "      <td>9</td>\n",
       "    </tr>\n",
       "    <tr>\n",
       "      <th>15</th>\n",
       "      <td>1.0</td>\n",
       "      <td>7</td>\n",
       "      <td>7</td>\n",
       "    </tr>\n",
       "    <tr>\n",
       "      <th>17</th>\n",
       "      <td>1.0</td>\n",
       "      <td>12</td>\n",
       "      <td>12</td>\n",
       "    </tr>\n",
       "    <tr>\n",
       "      <th>18</th>\n",
       "      <td>1.0</td>\n",
       "      <td>35</td>\n",
       "      <td>35</td>\n",
       "    </tr>\n",
       "    <tr>\n",
       "      <th>...</th>\n",
       "      <td>...</td>\n",
       "      <td>...</td>\n",
       "      <td>...</td>\n",
       "    </tr>\n",
       "    <tr>\n",
       "      <th>34909</th>\n",
       "      <td>1.0</td>\n",
       "      <td>1</td>\n",
       "      <td>1</td>\n",
       "    </tr>\n",
       "    <tr>\n",
       "      <th>34910</th>\n",
       "      <td>1.0</td>\n",
       "      <td>3</td>\n",
       "      <td>3</td>\n",
       "    </tr>\n",
       "    <tr>\n",
       "      <th>34913</th>\n",
       "      <td>1.0</td>\n",
       "      <td>4</td>\n",
       "      <td>4</td>\n",
       "    </tr>\n",
       "    <tr>\n",
       "      <th>34914</th>\n",
       "      <td>1.0</td>\n",
       "      <td>19</td>\n",
       "      <td>19</td>\n",
       "    </tr>\n",
       "    <tr>\n",
       "      <th>34915</th>\n",
       "      <td>1.0</td>\n",
       "      <td>1</td>\n",
       "      <td>1</td>\n",
       "    </tr>\n",
       "  </tbody>\n",
       "</table>\n",
       "<p>20664 rows × 3 columns</p>\n",
       "</div>"
      ],
      "text/plain": [
       "       five_star_ratio  nb_5s_reviews  nb_reviews\n",
       "1                  1.0             57          57\n",
       "3                  1.0              9           9\n",
       "15                 1.0              7           7\n",
       "17                 1.0             12          12\n",
       "18                 1.0             35          35\n",
       "...                ...            ...         ...\n",
       "34909              1.0              1           1\n",
       "34910              1.0              3           3\n",
       "34913              1.0              4           4\n",
       "34914              1.0             19          19\n",
       "34915              1.0              1           1\n",
       "\n",
       "[20664 rows x 3 columns]"
      ]
     },
     "execution_count": 5,
     "metadata": {},
     "output_type": "execute_result"
    }
   ],
   "source": [
    "# profiles_df['birth_decade'].unique()\n",
    "# profiles_df['five_star_ratio'].isna().sum()\n",
    "# profiles_df['five_star_ratio'].value_counts()\n",
    "# profiles_df[profiles_df['days_since_modified']>2000]\n",
    "profiles_df['five_star_ratio'].max()\n",
    "profiles_df[profiles_df['five_star_ratio']>0.99][['five_star_ratio', 'nb_5s_reviews', 'nb_reviews']]"
   ]
  },
  {
   "cell_type": "code",
   "execution_count": 11,
   "id": "594e00d3-f88e-4e80-abb0-601d2054e797",
   "metadata": {},
   "outputs": [
    {
     "data": {
      "text/plain": [
       "with_children\n",
       "False    0.936196\n",
       "True     0.063804\n",
       "Name: proportion, dtype: float64"
      ]
     },
     "metadata": {},
     "output_type": "display_data"
    },
    {
     "data": {
      "text/plain": [
       "sitting_with_another\n",
       "False    0.555139\n",
       "True     0.444861\n",
       "Name: proportion, dtype: float64"
      ]
     },
     "metadata": {},
     "output_type": "display_data"
    },
    {
     "data": {
      "text/plain": [
       "prev_sitting_experience\n",
       "True     0.937155\n",
       "False    0.062845\n",
       "Name: proportion, dtype: float64"
      ]
     },
     "metadata": {},
     "output_type": "display_data"
    },
    {
     "data": {
      "text/plain": [
       "other_animals\n",
       "True    1.0\n",
       "Name: proportion, dtype: float64"
      ]
     },
     "metadata": {},
     "output_type": "display_data"
    },
    {
     "data": {
      "text/plain": [
       "has_dog_experience\n",
       "True     0.96495\n",
       "False    0.03505\n",
       "Name: proportion, dtype: float64"
      ]
     },
     "metadata": {},
     "output_type": "display_data"
    },
    {
     "data": {
      "text/plain": [
       "has_cat_experience\n",
       "True     0.957904\n",
       "False    0.042096\n",
       "Name: proportion, dtype: float64"
      ]
     },
     "metadata": {},
     "output_type": "display_data"
    },
    {
     "data": {
      "text/plain": [
       "has_reptile_experience\n",
       "False    0.76763\n",
       "True     0.23237\n",
       "Name: proportion, dtype: float64"
      ]
     },
     "metadata": {},
     "output_type": "display_data"
    },
    {
     "data": {
      "text/plain": [
       "has_horse_experience\n",
       "False    0.755877\n",
       "True     0.244123\n",
       "Name: proportion, dtype: float64"
      ]
     },
     "metadata": {},
     "output_type": "display_data"
    },
    {
     "data": {
      "text/plain": [
       "has_fish_experience\n",
       "True     0.656602\n",
       "False    0.343398\n",
       "Name: proportion, dtype: float64"
      ]
     },
     "metadata": {},
     "output_type": "display_data"
    },
    {
     "data": {
      "text/plain": [
       "has_poultry_experience\n",
       "False    0.550672\n",
       "True     0.449328\n",
       "Name: proportion, dtype: float64"
      ]
     },
     "metadata": {},
     "output_type": "display_data"
    },
    {
     "data": {
      "text/plain": [
       "has_farm_animal_experience\n",
       "False    0.710152\n",
       "True     0.289848\n",
       "Name: proportion, dtype: float64"
      ]
     },
     "metadata": {},
     "output_type": "display_data"
    },
    {
     "data": {
      "text/plain": [
       "has_bird_experience\n",
       "False    0.618763\n",
       "True     0.381237\n",
       "Name: proportion, dtype: float64"
      ]
     },
     "metadata": {},
     "output_type": "display_data"
    },
    {
     "data": {
      "text/plain": [
       "has_small_pet_experience\n",
       "True     0.640981\n",
       "False    0.359019\n",
       "Name: proportion, dtype: float64"
      ]
     },
     "metadata": {},
     "output_type": "display_data"
    },
    {
     "data": {
      "text/plain": [
       "prefers_all_countries\n",
       "True     0.634984\n",
       "False    0.365016\n",
       "Name: proportion, dtype: float64"
      ]
     },
     "metadata": {},
     "output_type": "display_data"
    },
    {
     "data": {
      "text/plain": [
       "happy_to_meet_in_person\n",
       "True     0.996162\n",
       "False    0.003838\n",
       "Name: proportion, dtype: float64"
      ]
     },
     "metadata": {},
     "output_type": "display_data"
    },
    {
     "data": {
      "text/plain": [
       "happy_to_video_call\n",
       "True     0.99973\n",
       "False    0.00027\n",
       "Name: proportion, dtype: float64"
      ]
     },
     "metadata": {},
     "output_type": "display_data"
    },
    {
     "data": {
      "text/plain": [
       "interested_in_remote_working\n",
       "True     0.955355\n",
       "False    0.044645\n",
       "Name: proportion, dtype: float64"
      ]
     },
     "metadata": {},
     "output_type": "display_data"
    },
    {
     "data": {
      "text/plain": [
       "interested_in_dogs\n",
       "False    0.896918\n",
       "True     0.103082\n",
       "Name: proportion, dtype: float64"
      ]
     },
     "metadata": {},
     "output_type": "display_data"
    },
    {
     "data": {
      "text/plain": [
       "interested_in_cats\n",
       "False    0.888103\n",
       "True     0.111897\n",
       "Name: proportion, dtype: float64"
      ]
     },
     "metadata": {},
     "output_type": "display_data"
    },
    {
     "data": {
      "text/plain": [
       "interested_in_reptiles\n",
       "False    0.950018\n",
       "True     0.049982\n",
       "Name: proportion, dtype: float64"
      ]
     },
     "metadata": {},
     "output_type": "display_data"
    },
    {
     "data": {
      "text/plain": [
       "interested_in_horses\n",
       "False    0.962971\n",
       "True     0.037029\n",
       "Name: proportion, dtype: float64"
      ]
     },
     "metadata": {},
     "output_type": "display_data"
    },
    {
     "data": {
      "text/plain": [
       "interested_in_fish\n",
       "False    0.909601\n",
       "True     0.090399\n",
       "Name: proportion, dtype: float64"
      ]
     },
     "metadata": {},
     "output_type": "display_data"
    },
    {
     "data": {
      "text/plain": [
       "interested_in_poultry\n",
       "False    0.92879\n",
       "True     0.07121\n",
       "Name: proportion, dtype: float64"
      ]
     },
     "metadata": {},
     "output_type": "display_data"
    },
    {
     "data": {
      "text/plain": [
       "interested_in_farm_animals\n",
       "False    0.954755\n",
       "True     0.045245\n",
       "Name: proportion, dtype: float64"
      ]
     },
     "metadata": {},
     "output_type": "display_data"
    },
    {
     "data": {
      "text/plain": [
       "interested_in_birds\n",
       "False    0.935566\n",
       "True     0.064434\n",
       "Name: proportion, dtype: float64"
      ]
     },
     "metadata": {},
     "output_type": "display_data"
    },
    {
     "data": {
      "text/plain": [
       "interested_in_small_pets\n",
       "False    0.906662\n",
       "True     0.093338\n",
       "Name: proportion, dtype: float64"
      ]
     },
     "metadata": {},
     "output_type": "display_data"
    }
   ],
   "source": [
    "for col in bool_cols:\n",
    "    display(profiles_df[col].value_counts(normalize=True))"
   ]
  },
  {
   "cell_type": "code",
   "execution_count": null,
   "id": "45097c63-94bc-437d-8f8b-07f7975b32ec",
   "metadata": {},
   "outputs": [],
   "source": []
  },
  {
   "cell_type": "code",
   "execution_count": null,
   "id": "d8816e58-a709-4ae2-b993-2c7af31c9124",
   "metadata": {},
   "outputs": [],
   "source": []
  },
  {
   "cell_type": "markdown",
   "id": "186df763-f73f-4b77-bc17-f2a603953fc9",
   "metadata": {},
   "source": [
    "# lessons from exploratory analysis report\n",
    "1. column `other_animals` has no value\n",
    "2. column `years_of_experience` has an oddly u-shaped distribution long-term true believers, and the new crowd. no in-between cohort.\n",
    "3. "
   ]
  },
  {
   "cell_type": "markdown",
   "id": "3dd2b9fe-820e-4f99-99a8-37cc237d3a3e",
   "metadata": {},
   "source": [
    "# save profile feature files in persistant database file"
   ]
  },
  {
   "cell_type": "code",
   "execution_count": 6,
   "id": "c6310143-bd5f-4c54-94be-06b8256ad705",
   "metadata": {},
   "outputs": [],
   "source": [
    "with duckdb.connect(DATABASEFILE) as con:\n",
    "    con.sql(\"DROP TABLE IF EXISTS profiles_prep\")\n",
    "    con.sql(\"CREATE TABLE profiles_prep AS SELECT * FROM profiles_df\")\n",
    "    con.sql(\"SELECT COUNT(*) FROM profiles_prep\")"
   ]
  },
  {
   "cell_type": "markdown",
   "id": "2457901a-84f9-4fad-b1e7-16184e5b31a0",
   "metadata": {},
   "source": [
    "# exploratory data analysis reporting"
   ]
  },
  {
   "cell_type": "code",
   "execution_count": 8,
   "id": "ef7e36e8-5a36-4a77-b73d-332590925dfa",
   "metadata": {},
   "outputs": [
    {
     "data": {
      "application/vnd.jupyter.widget-view+json": {
       "model_id": "e7368758c2f54009a5147901afe77a2f",
       "version_major": 2,
       "version_minor": 0
      },
      "text/plain": [
       "Summarize dataset:   0%|          | 0/5 [00:00<?, ?it/s]"
      ]
     },
     "metadata": {},
     "output_type": "display_data"
    },
    {
     "data": {
      "application/vnd.jupyter.widget-view+json": {
       "model_id": "104380023f054703b08dc0a99dc913d1",
       "version_major": 2,
       "version_minor": 0
      },
      "text/plain": [
       "Generate report structure:   0%|          | 0/1 [00:00<?, ?it/s]"
      ]
     },
     "metadata": {},
     "output_type": "display_data"
    },
    {
     "data": {
      "application/vnd.jupyter.widget-view+json": {
       "model_id": "60fdfe8c028b470f8d72682e2b27f808",
       "version_major": 2,
       "version_minor": 0
      },
      "text/plain": [
       "Render HTML:   0%|          | 0/1 [00:00<?, ?it/s]"
      ]
     },
     "metadata": {},
     "output_type": "display_data"
    },
    {
     "data": {
      "application/vnd.jupyter.widget-view+json": {
       "model_id": "65d09d23b3e84a1b90ef74bd38893f38",
       "version_major": 2,
       "version_minor": 0
      },
      "text/plain": [
       "Export report to file:   0%|          | 0/1 [00:00<?, ?it/s]"
      ]
     },
     "metadata": {},
     "output_type": "display_data"
    }
   ],
   "source": [
    "profile = yp.ProfileReport(profiles_df)\n",
    "# profile.to_notebook_iframe()\n",
    "profile.to_file('../notes/eda/eda_report_profiles.html')"
   ]
  },
  {
   "cell_type": "code",
   "execution_count": null,
   "id": "4069cee0-2dfc-4fde-95ac-3f2df2035999",
   "metadata": {},
   "outputs": [],
   "source": []
  },
  {
   "cell_type": "code",
   "execution_count": null,
   "id": "11e56dea-fbf0-4eb7-8d3f-df8fd3b53169",
   "metadata": {},
   "outputs": [],
   "source": []
  }
 ],
 "metadata": {
  "kernelspec": {
   "display_name": "Python 3 (ipykernel)",
   "language": "python",
   "name": "python3"
  },
  "language_info": {
   "codemirror_mode": {
    "name": "ipython",
    "version": 3
   },
   "file_extension": ".py",
   "mimetype": "text/x-python",
   "name": "python",
   "nbconvert_exporter": "python",
   "pygments_lexer": "ipython3",
   "version": "3.8.18"
  }
 },
 "nbformat": 4,
 "nbformat_minor": 5
}
