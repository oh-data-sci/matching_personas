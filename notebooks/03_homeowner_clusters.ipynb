{
 "cells": [
  {
   "cell_type": "markdown",
   "id": "b9fd47c1-8a57-414b-b640-fa4b3abf8956",
   "metadata": {},
   "source": [
    "customer segments of homeowners\n",
    "===\n",
    "# introduction\n",
    "the homeowner listing data set contains information about their \n",
    "\n",
    "- location\n",
    "- home type\n",
    "- pet details\n",
    "- amenities  (wifi, remote working, cars, child friendliness)\n",
    "- photos\n",
    "- application success rate"
   ]
  },
  {
   "cell_type": "code",
   "execution_count": null,
   "id": "5012756a-51f7-45d0-8b64-5420344a1e99",
   "metadata": {},
   "outputs": [],
   "source": [
    "import gower\n",
    "gower.gower_matrix(df)"
   ]
  }
 ],
 "metadata": {
  "kernelspec": {
   "display_name": "Python 3 (ipykernel)",
   "language": "python",
   "name": "python3"
  },
  "language_info": {
   "codemirror_mode": {
    "name": "ipython",
    "version": 3
   },
   "file_extension": ".py",
   "mimetype": "text/x-python",
   "name": "python",
   "nbconvert_exporter": "python",
   "pygments_lexer": "ipython3",
   "version": "3.8.18"
  }
 },
 "nbformat": 4,
 "nbformat_minor": 5
}
