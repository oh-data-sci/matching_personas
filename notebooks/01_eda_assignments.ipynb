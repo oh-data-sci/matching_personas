{
 "cells": [
  {
   "cell_type": "markdown",
   "id": "76ff6005-b4b0-4215-9a7e-2fd57d8c2036",
   "metadata": {},
   "source": [
    "housesitter assignments- exploratory data analysis\n",
    "===\n",
    "# introduction\n",
    "this notebook is solely for the purposes of getting to know the data and discovering its shapes and secrets. data cleaning and preprocessing takes place further downstream from here.\n"
   ]
  },
  {
   "cell_type": "code",
   "execution_count": 1,
   "id": "27cf7bee-2e5c-415f-830e-43911c9081cd",
   "metadata": {},
   "outputs": [
    {
     "data": {
      "text/html": [
       "\n",
       "            <div>\n",
       "                <ins><a href=\"ttps://ydata.ai/register\">Upgrade to ydata-sdk</a></ins>\n",
       "                <p>\n",
       "                    Improve your data and profiling with ydata-sdk, featuring data quality scoring, redundancy detection, outlier identification, text validation, and synthetic data generation.\n",
       "                </p>\n",
       "            </div>\n",
       "            "
      ],
      "text/plain": [
       "<IPython.core.display.HTML object>"
      ]
     },
     "metadata": {},
     "output_type": "display_data"
    }
   ],
   "source": [
    "from datetime import datetime\n",
    "import duckdb\n",
    "import matplotlib as plt\n",
    "import numpy as np\n",
    "import pandas as pd\n",
    "from ydata_profiling import ProfileReport\n",
    "import ydata_profiling as yp\n",
    "\n",
    "DATAFOLDER='../data/raw/'        # path to raw data files\n",
    "DATABASEFILE='../data/sits.ddb'  # path to persistent duckdb database file"
   ]
  },
  {
   "cell_type": "code",
   "execution_count": 2,
   "id": "633134e7-3e67-4d19-8046-7236d6c226d6",
   "metadata": {},
   "outputs": [
    {
     "data": {
      "text/plain": [
       "65500.0"
      ]
     },
     "execution_count": 2,
     "metadata": {},
     "output_type": "execute_result"
    }
   ],
   "source": [
    "np.finfo(np.float16).max"
   ]
  },
  {
   "cell_type": "markdown",
   "id": "59234576-2073-4733-9c63-3b6ed2fd72b8",
   "metadata": {},
   "source": [
    "# housesitter assignments\n",
    "in this data set, each row represents a housesitter's sit at a homeowner's property. from the data dictionary, we can learn a lot about the columns included.\n",
    "\n",
    "many of the columns are boolean, some are datetimes, others are strings, that can either be interpreted as categorical variables or harvested for one-hot encoded variables. \n",
    "\n",
    "## assumption\n",
    "for each boolean variable, if an answer is missing, we will interpret that as FALSE, i.e. we take the question to mean whether _they are confirmed to be true_ or not. this assumption is not always going to be true, but it will be more often than not, and increases the expressiveness of the data set. "
   ]
  },
  {
   "cell_type": "code",
   "execution_count": 5,
   "id": "f580f891-836e-4f85-9570-0f0369d3b043",
   "metadata": {},
   "outputs": [],
   "source": [
    "bool_cols = [\n",
    "    'private',\n",
    "    'is_new',\n",
    "    'reviewing',\n",
    "    'deleted',\n",
    "    ''\n",
    "]\n",
    "date_columns = [\n",
    "    'created_dt',\n",
    "    'last_modified_dt',\n",
    "    'start_dt',\n",
    "    'end_dt',\n",
    "    'welcome_guide_shared_ts',\n",
    "]\n",
    "today = pd.Timestamp.now().floor('D')  # Floor to remove time component\n",
    "\n",
    "\n",
    "category_cols=[\n",
    "    'ocountry',\n",
    "    'oregion',\n",
    "    'ocity',\n",
    "    'scountry',\n",
    "    'sregion',\n",
    "    'scity',\n",
    "]\n",
    "# numerical columns\n",
    "data_types = {\n",
    "    'id':np.uint32,\n",
    "    'listing_id':np.uint32,\n",
    "    'id':np.uint32,\n",
    "    'listing_id':np.uint32,\n",
    "    'owner_user_id':np.uint32,\n",
    "    'profile_id':np.uint32,\n",
    "}\n"
   ]
  },
  {
   "cell_type": "code",
   "execution_count": 6,
   "id": "51235912-a622-45b8-9d90-2bfcd0c98424",
   "metadata": {},
   "outputs": [
    {
     "data": {
      "text/html": [
       "<div>\n",
       "<style scoped>\n",
       "    .dataframe tbody tr th:only-of-type {\n",
       "        vertical-align: middle;\n",
       "    }\n",
       "\n",
       "    .dataframe tbody tr th {\n",
       "        vertical-align: top;\n",
       "    }\n",
       "\n",
       "    .dataframe thead th {\n",
       "        text-align: right;\n",
       "    }\n",
       "</style>\n",
       "<table border=\"1\" class=\"dataframe\">\n",
       "  <thead>\n",
       "    <tr style=\"text-align: right;\">\n",
       "      <th></th>\n",
       "      <th>id</th>\n",
       "      <th>created_dt</th>\n",
       "      <th>last_modified_dt</th>\n",
       "      <th>start_dt</th>\n",
       "      <th>end_dt</th>\n",
       "      <th>private</th>\n",
       "      <th>approximate_dates</th>\n",
       "      <th>sitter_found</th>\n",
       "      <th>listing_id</th>\n",
       "      <th>owner_user_id</th>\n",
       "      <th>...</th>\n",
       "      <th>ocity</th>\n",
       "      <th>profile_id</th>\n",
       "      <th>sitter_user_id</th>\n",
       "      <th>scountry</th>\n",
       "      <th>sregion</th>\n",
       "      <th>scity</th>\n",
       "      <th>is_new</th>\n",
       "      <th>reviewing</th>\n",
       "      <th>welcome_guide_shared_ts</th>\n",
       "      <th>deleted</th>\n",
       "    </tr>\n",
       "  </thead>\n",
       "  <tbody>\n",
       "    <tr>\n",
       "      <th>144093</th>\n",
       "      <td>659199</td>\n",
       "      <td>2022-10-06</td>\n",
       "      <td>2022-10-10</td>\n",
       "      <td>2022-10-28</td>\n",
       "      <td>2022-10-31</td>\n",
       "      <td>False</td>\n",
       "      <td>False</td>\n",
       "      <td>True</td>\n",
       "      <td>213057</td>\n",
       "      <td>760161</td>\n",
       "      <td>...</td>\n",
       "      <td>gatineau</td>\n",
       "      <td>767892.0</td>\n",
       "      <td>946695.0</td>\n",
       "      <td>canada</td>\n",
       "      <td>quebec</td>\n",
       "      <td>gatineau</td>\n",
       "      <td>False</td>\n",
       "      <td>False</td>\n",
       "      <td>NaT</td>\n",
       "      <td>False</td>\n",
       "    </tr>\n",
       "    <tr>\n",
       "      <th>26902</th>\n",
       "      <td>524813</td>\n",
       "      <td>2022-03-02</td>\n",
       "      <td>2022-03-02</td>\n",
       "      <td>2022-04-21</td>\n",
       "      <td>2022-04-24</td>\n",
       "      <td>False</td>\n",
       "      <td>False</td>\n",
       "      <td>False</td>\n",
       "      <td>502383</td>\n",
       "      <td>2451308</td>\n",
       "      <td>...</td>\n",
       "      <td>midland</td>\n",
       "      <td>NaN</td>\n",
       "      <td>NaN</td>\n",
       "      <td>NaN</td>\n",
       "      <td>NaN</td>\n",
       "      <td>NaN</td>\n",
       "      <td>False</td>\n",
       "      <td>False</td>\n",
       "      <td>NaT</td>\n",
       "      <td>False</td>\n",
       "    </tr>\n",
       "    <tr>\n",
       "      <th>118252</th>\n",
       "      <td>615553</td>\n",
       "      <td>2022-07-28</td>\n",
       "      <td>2022-07-29</td>\n",
       "      <td>2022-09-12</td>\n",
       "      <td>2022-09-24</td>\n",
       "      <td>False</td>\n",
       "      <td>False</td>\n",
       "      <td>False</td>\n",
       "      <td>780517</td>\n",
       "      <td>3568102</td>\n",
       "      <td>...</td>\n",
       "      <td>london</td>\n",
       "      <td>NaN</td>\n",
       "      <td>NaN</td>\n",
       "      <td>NaN</td>\n",
       "      <td>NaN</td>\n",
       "      <td>NaN</td>\n",
       "      <td>True</td>\n",
       "      <td>False</td>\n",
       "      <td>NaT</td>\n",
       "      <td>True</td>\n",
       "    </tr>\n",
       "    <tr>\n",
       "      <th>45021</th>\n",
       "      <td>538591</td>\n",
       "      <td>2022-03-28</td>\n",
       "      <td>2022-04-10</td>\n",
       "      <td>2022-04-15</td>\n",
       "      <td>2022-04-17</td>\n",
       "      <td>False</td>\n",
       "      <td>False</td>\n",
       "      <td>True</td>\n",
       "      <td>394646</td>\n",
       "      <td>1628467</td>\n",
       "      <td>...</td>\n",
       "      <td>townville</td>\n",
       "      <td>1697967.0</td>\n",
       "      <td>2658374.0</td>\n",
       "      <td>united-states</td>\n",
       "      <td>north-carolina</td>\n",
       "      <td>asheville</td>\n",
       "      <td>False</td>\n",
       "      <td>False</td>\n",
       "      <td>2022-04-10 22:52:46</td>\n",
       "      <td>False</td>\n",
       "    </tr>\n",
       "    <tr>\n",
       "      <th>99308</th>\n",
       "      <td>599415</td>\n",
       "      <td>2022-07-04</td>\n",
       "      <td>2022-07-04</td>\n",
       "      <td>2022-07-17</td>\n",
       "      <td>2022-07-23</td>\n",
       "      <td>False</td>\n",
       "      <td>False</td>\n",
       "      <td>False</td>\n",
       "      <td>914354</td>\n",
       "      <td>4061342</td>\n",
       "      <td>...</td>\n",
       "      <td>oakland</td>\n",
       "      <td>NaN</td>\n",
       "      <td>NaN</td>\n",
       "      <td>NaN</td>\n",
       "      <td>NaN</td>\n",
       "      <td>NaN</td>\n",
       "      <td>False</td>\n",
       "      <td>False</td>\n",
       "      <td>NaT</td>\n",
       "      <td>False</td>\n",
       "    </tr>\n",
       "  </tbody>\n",
       "</table>\n",
       "<p>5 rows × 22 columns</p>\n",
       "</div>"
      ],
      "text/plain": [
       "            id created_dt last_modified_dt   start_dt     end_dt  private  \\\n",
       "144093  659199 2022-10-06       2022-10-10 2022-10-28 2022-10-31    False   \n",
       "26902   524813 2022-03-02       2022-03-02 2022-04-21 2022-04-24    False   \n",
       "118252  615553 2022-07-28       2022-07-29 2022-09-12 2022-09-24    False   \n",
       "45021   538591 2022-03-28       2022-04-10 2022-04-15 2022-04-17    False   \n",
       "99308   599415 2022-07-04       2022-07-04 2022-07-17 2022-07-23    False   \n",
       "\n",
       "        approximate_dates  sitter_found  listing_id  owner_user_id  ...  \\\n",
       "144093              False          True      213057         760161  ...   \n",
       "26902               False         False      502383        2451308  ...   \n",
       "118252              False         False      780517        3568102  ...   \n",
       "45021               False          True      394646        1628467  ...   \n",
       "99308               False         False      914354        4061342  ...   \n",
       "\n",
       "            ocity profile_id sitter_user_id       scountry         sregion  \\\n",
       "144093   gatineau   767892.0       946695.0         canada          quebec   \n",
       "26902     midland        NaN            NaN            NaN             NaN   \n",
       "118252     london        NaN            NaN            NaN             NaN   \n",
       "45021   townville  1697967.0      2658374.0  united-states  north-carolina   \n",
       "99308     oakland        NaN            NaN            NaN             NaN   \n",
       "\n",
       "            scity is_new reviewing  welcome_guide_shared_ts  deleted  \n",
       "144093   gatineau  False     False                      NaT    False  \n",
       "26902         NaN  False     False                      NaT    False  \n",
       "118252        NaN   True     False                      NaT     True  \n",
       "45021   asheville  False     False      2022-04-10 22:52:46    False  \n",
       "99308         NaN  False     False                      NaT    False  \n",
       "\n",
       "[5 rows x 22 columns]"
      ]
     },
     "metadata": {},
     "output_type": "display_data"
    },
    {
     "name": "stdout",
     "output_type": "stream",
     "text": [
      "<class 'pandas.core.frame.DataFrame'>\n",
      "RangeIndex: 198025 entries, 0 to 198024\n",
      "Data columns (total 22 columns):\n",
      " #   Column                   Non-Null Count   Dtype         \n",
      "---  ------                   --------------   -----         \n",
      " 0   id                       198025 non-null  uint32        \n",
      " 1   created_dt               198025 non-null  datetime64[ns]\n",
      " 2   last_modified_dt         198025 non-null  datetime64[ns]\n",
      " 3   start_dt                 198025 non-null  datetime64[ns]\n",
      " 4   end_dt                   198025 non-null  datetime64[ns]\n",
      " 5   private                  198025 non-null  bool          \n",
      " 6   approximate_dates        198025 non-null  bool          \n",
      " 7   sitter_found             198025 non-null  bool          \n",
      " 8   listing_id               198025 non-null  uint32        \n",
      " 9   owner_user_id            198025 non-null  uint32        \n",
      " 10  ocountry                 198025 non-null  object        \n",
      " 11  oregion                  197409 non-null  object        \n",
      " 12  ocity                    198025 non-null  object        \n",
      " 13  profile_id               119181 non-null  float64       \n",
      " 14  sitter_user_id           119181 non-null  float64       \n",
      " 15  scountry                 119181 non-null  object        \n",
      " 16  sregion                  118886 non-null  object        \n",
      " 17  scity                    119181 non-null  object        \n",
      " 18  is_new                   198025 non-null  bool          \n",
      " 19  reviewing                198025 non-null  bool          \n",
      " 20  welcome_guide_shared_ts  61698 non-null   datetime64[ns]\n",
      " 21  deleted                  198025 non-null  bool          \n",
      "dtypes: bool(6), datetime64[ns](5), float64(2), object(6), uint32(3)\n",
      "memory usage: 23.0+ MB\n"
     ]
    },
    {
     "data": {
      "text/plain": [
       "None"
      ]
     },
     "metadata": {},
     "output_type": "display_data"
    }
   ],
   "source": [
    "assignments_df =  (\n",
    "    pd.read_csv(\n",
    "        DATAFOLDER+'assignments.csv', \n",
    "        low_memory=False,\n",
    "        parse_dates=date_columns,\n",
    "        date_format='%Y-%m-%d %H:%M:%S.%f',\n",
    "        dtype=data_types\n",
    "    )\n",
    "    .assign(\n",
    "    )\n",
    "    .drop(columns=[\n",
    "        'modified_dt',          # won't need\n",
    "    ]\n",
    "\n",
    ")\n",
    "display(assignments_df.sample(5))\n",
    "display(assignments_df.info())"
   ]
  },
  {
   "cell_type": "code",
   "execution_count": null,
   "id": "eb988fb4-b20e-4cae-bcca-3acbfee2c384",
   "metadata": {},
   "outputs": [],
   "source": []
  },
  {
   "cell_type": "code",
   "execution_count": 6,
   "id": "06ec478f-53b8-457e-83f8-705193b5e34e",
   "metadata": {},
   "outputs": [
    {
     "data": {
      "text/html": [
       "<div>\n",
       "<style scoped>\n",
       "    .dataframe tbody tr th:only-of-type {\n",
       "        vertical-align: middle;\n",
       "    }\n",
       "\n",
       "    .dataframe tbody tr th {\n",
       "        vertical-align: top;\n",
       "    }\n",
       "\n",
       "    .dataframe thead th {\n",
       "        text-align: right;\n",
       "    }\n",
       "</style>\n",
       "<table border=\"1\" class=\"dataframe\">\n",
       "  <thead>\n",
       "    <tr style=\"text-align: right;\">\n",
       "      <th></th>\n",
       "      <th>num_reviews</th>\n",
       "      <th>num_assignments</th>\n",
       "      <th>mean_score</th>\n",
       "      <th>tidiness_avg</th>\n",
       "      <th>organised_avg</th>\n",
       "    </tr>\n",
       "    <tr>\n",
       "      <th>sitter_user_id</th>\n",
       "      <th></th>\n",
       "      <th></th>\n",
       "      <th></th>\n",
       "      <th></th>\n",
       "      <th></th>\n",
       "    </tr>\n",
       "  </thead>\n",
       "  <tbody>\n",
       "    <tr>\n",
       "      <th>2808091</th>\n",
       "      <td>9</td>\n",
       "      <td>9</td>\n",
       "      <td>3.333333</td>\n",
       "      <td>3.111111</td>\n",
       "      <td>3.111111</td>\n",
       "    </tr>\n",
       "    <tr>\n",
       "      <th>1441093</th>\n",
       "      <td>11</td>\n",
       "      <td>11</td>\n",
       "      <td>3.727273</td>\n",
       "      <td>3.545455</td>\n",
       "      <td>3.727273</td>\n",
       "    </tr>\n",
       "    <tr>\n",
       "      <th>3479858</th>\n",
       "      <td>12</td>\n",
       "      <td>12</td>\n",
       "      <td>4.166667</td>\n",
       "      <td>4.250000</td>\n",
       "      <td>4.083333</td>\n",
       "    </tr>\n",
       "    <tr>\n",
       "      <th>3114610</th>\n",
       "      <td>8</td>\n",
       "      <td>8</td>\n",
       "      <td>4.250000</td>\n",
       "      <td>4.375000</td>\n",
       "      <td>4.250000</td>\n",
       "    </tr>\n",
       "    <tr>\n",
       "      <th>1700238</th>\n",
       "      <td>8</td>\n",
       "      <td>8</td>\n",
       "      <td>4.375000</td>\n",
       "      <td>3.875000</td>\n",
       "      <td>4.250000</td>\n",
       "    </tr>\n",
       "    <tr>\n",
       "      <th>...</th>\n",
       "      <td>...</td>\n",
       "      <td>...</td>\n",
       "      <td>...</td>\n",
       "      <td>...</td>\n",
       "      <td>...</td>\n",
       "    </tr>\n",
       "    <tr>\n",
       "      <th>1620426</th>\n",
       "      <td>10</td>\n",
       "      <td>10</td>\n",
       "      <td>5.000000</td>\n",
       "      <td>5.000000</td>\n",
       "      <td>5.000000</td>\n",
       "    </tr>\n",
       "    <tr>\n",
       "      <th>1626664</th>\n",
       "      <td>10</td>\n",
       "      <td>10</td>\n",
       "      <td>5.000000</td>\n",
       "      <td>4.500000</td>\n",
       "      <td>4.500000</td>\n",
       "    </tr>\n",
       "    <tr>\n",
       "      <th>1628692</th>\n",
       "      <td>12</td>\n",
       "      <td>12</td>\n",
       "      <td>5.000000</td>\n",
       "      <td>5.000000</td>\n",
       "      <td>5.000000</td>\n",
       "    </tr>\n",
       "    <tr>\n",
       "      <th>1568938</th>\n",
       "      <td>10</td>\n",
       "      <td>10</td>\n",
       "      <td>5.000000</td>\n",
       "      <td>4.900000</td>\n",
       "      <td>5.000000</td>\n",
       "    </tr>\n",
       "    <tr>\n",
       "      <th>4896683</th>\n",
       "      <td>12</td>\n",
       "      <td>12</td>\n",
       "      <td>5.000000</td>\n",
       "      <td>5.000000</td>\n",
       "      <td>5.000000</td>\n",
       "    </tr>\n",
       "  </tbody>\n",
       "</table>\n",
       "<p>2472 rows × 5 columns</p>\n",
       "</div>"
      ],
      "text/plain": [
       "                num_reviews  num_assignments  mean_score  tidiness_avg  \\\n",
       "sitter_user_id                                                           \n",
       "2808091                   9                9    3.333333      3.111111   \n",
       "1441093                  11               11    3.727273      3.545455   \n",
       "3479858                  12               12    4.166667      4.250000   \n",
       "3114610                   8                8    4.250000      4.375000   \n",
       "1700238                   8                8    4.375000      3.875000   \n",
       "...                     ...              ...         ...           ...   \n",
       "1620426                  10               10    5.000000      5.000000   \n",
       "1626664                  10               10    5.000000      4.500000   \n",
       "1628692                  12               12    5.000000      5.000000   \n",
       "1568938                  10               10    5.000000      4.900000   \n",
       "4896683                  12               12    5.000000      5.000000   \n",
       "\n",
       "                organised_avg  \n",
       "sitter_user_id                 \n",
       "2808091              3.111111  \n",
       "1441093              3.727273  \n",
       "3479858              4.083333  \n",
       "3114610              4.250000  \n",
       "1700238              4.250000  \n",
       "...                       ...  \n",
       "1620426              5.000000  \n",
       "1626664              4.500000  \n",
       "1628692              5.000000  \n",
       "1568938              5.000000  \n",
       "4896683              5.000000  \n",
       "\n",
       "[2472 rows x 5 columns]"
      ]
     },
     "execution_count": 6,
     "metadata": {},
     "output_type": "execute_result"
    }
   ],
   "source": []
  },
  {
   "cell_type": "markdown",
   "id": "73b60d79-2f5c-4532-b030-98273066f89a",
   "metadata": {},
   "source": [
    "# save prepped data to database"
   ]
  },
  {
   "cell_type": "code",
   "execution_count": null,
   "id": "c6310143-bd5f-4c54-94be-06b8256ad705",
   "metadata": {},
   "outputs": [],
   "source": [
    "with duckdb.connect(DATABASEFILE) as con:\n",
    "    con.sql(\"DROP TABLE IF EXISTS assignment_prep\")\n",
    "    con.sql(\"CREATE TABLE assignment_prep AS SELECT * FROM assignments_df\")\n",
    "    con.sql(\"SELECT COUNT(*) FROM assignment_prep\")"
   ]
  },
  {
   "cell_type": "code",
   "execution_count": null,
   "id": "4069cee0-2dfc-4fde-95ac-3f2df2035999",
   "metadata": {},
   "outputs": [],
   "source": []
  },
  {
   "cell_type": "markdown",
   "id": "2457901a-84f9-4fad-b1e7-16184e5b31a0",
   "metadata": {},
   "source": [
    "# exploratory data analysis reporting"
   ]
  },
  {
   "cell_type": "code",
   "execution_count": 8,
   "id": "ef7e36e8-5a36-4a77-b73d-332590925dfa",
   "metadata": {},
   "outputs": [
    {
     "data": {
      "application/vnd.jupyter.widget-view+json": {
       "model_id": "89aab201154d4d39a0fdaeaf21b3620d",
       "version_major": 2,
       "version_minor": 0
      },
      "text/plain": [
       "Summarize dataset:   0%|          | 0/5 [00:00<?, ?it/s]"
      ]
     },
     "metadata": {},
     "output_type": "display_data"
    },
    {
     "data": {
      "application/vnd.jupyter.widget-view+json": {
       "model_id": "9b803c2b7c784e9c9a78b4f212e31dac",
       "version_major": 2,
       "version_minor": 0
      },
      "text/plain": [
       "Generate report structure:   0%|          | 0/1 [00:00<?, ?it/s]"
      ]
     },
     "metadata": {},
     "output_type": "display_data"
    },
    {
     "data": {
      "application/vnd.jupyter.widget-view+json": {
       "model_id": "a8a76980aeca4b3291564367f1f08a03",
       "version_major": 2,
       "version_minor": 0
      },
      "text/plain": [
       "Render HTML:   0%|          | 0/1 [00:00<?, ?it/s]"
      ]
     },
     "metadata": {},
     "output_type": "display_data"
    },
    {
     "data": {
      "application/vnd.jupyter.widget-view+json": {
       "model_id": "cb41266d8050478292ea4d10b02d43f3",
       "version_major": 2,
       "version_minor": 0
      },
      "text/plain": [
       "Export report to file:   0%|          | 0/1 [00:00<?, ?it/s]"
      ]
     },
     "metadata": {},
     "output_type": "display_data"
    }
   ],
   "source": [
    "profile = yp.ProfileReport(assignment_prep)\n",
    "profile.to_file('../notes/eda/eda_report_assignments.html')"
   ]
  },
  {
   "cell_type": "code",
   "execution_count": null,
   "id": "3cea7221-758d-4af9-911d-7b0712eba9a9",
   "metadata": {},
   "outputs": [],
   "source": []
  },
  {
   "cell_type": "markdown",
   "id": "186df763-f73f-4b77-bc17-f2a603953fc9",
   "metadata": {},
   "source": [
    "# lessons from exploratory analysis report\n"
   ]
  },
  {
   "cell_type": "code",
   "execution_count": null,
   "id": "11e56dea-fbf0-4eb7-8d3f-df8fd3b53169",
   "metadata": {},
   "outputs": [],
   "source": []
  }
 ],
 "metadata": {
  "kernelspec": {
   "display_name": "Python 3 (ipykernel)",
   "language": "python",
   "name": "python3"
  },
  "language_info": {
   "codemirror_mode": {
    "name": "ipython",
    "version": 3
   },
   "file_extension": ".py",
   "mimetype": "text/x-python",
   "name": "python",
   "nbconvert_exporter": "python",
   "pygments_lexer": "ipython3",
   "version": "3.8.18"
  }
 },
 "nbformat": 4,
 "nbformat_minor": 5
}
