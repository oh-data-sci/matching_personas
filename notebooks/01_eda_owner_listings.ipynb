{
 "cells": [
  {
   "cell_type": "markdown",
   "id": "5633cccc-7a67-4490-b9d9-f3a1d6d64ba7",
   "metadata": {},
   "source": [
    "owner listings - exploratory data analysis and cleaning\n",
    "===\n",
    "# introduction\n",
    "we'll start by getting to know the data and discovering its shapes and hidden warts. then apply data cleaning and preprocessing.\n"
   ]
  },
  {
   "cell_type": "code",
   "execution_count": 1,
   "id": "27cf7bee-2e5c-415f-830e-43911c9081cd",
   "metadata": {},
   "outputs": [
    {
     "data": {
      "text/html": [
       "\n",
       "            <div>\n",
       "                <ins><a href=\"ttps://ydata.ai/register\">Upgrade to ydata-sdk</a></ins>\n",
       "                <p>\n",
       "                    Improve your data and profiling with ydata-sdk, featuring data quality scoring, redundancy detection, outlier identification, text validation, and synthetic data generation.\n",
       "                </p>\n",
       "            </div>\n",
       "            "
      ],
      "text/plain": [
       "<IPython.core.display.HTML object>"
      ]
     },
     "metadata": {},
     "output_type": "display_data"
    }
   ],
   "source": [
    "from datetime import datetime\n",
    "import duckdb\n",
    "import numpy as np\n",
    "import pandas as pd\n",
    "from ydata_profiling import ProfileReport\n",
    "import ydata_profiling as yp\n",
    "\n",
    "DATAFOLDER='../data/raw/'        # path to raw data files\n",
    "DATABASEFILE='../data/sits.ddb'  # path to persistent duckdb database file"
   ]
  },
  {
   "cell_type": "code",
   "execution_count": 2,
   "id": "633134e7-3e67-4d19-8046-7236d6c226d6",
   "metadata": {},
   "outputs": [
    {
     "data": {
      "text/plain": [
       "2147483647"
      ]
     },
     "execution_count": 2,
     "metadata": {},
     "output_type": "execute_result"
    }
   ],
   "source": [
    "np.iinfo(np.int32).max"
   ]
  },
  {
   "cell_type": "markdown",
   "id": "59234576-2073-4733-9c63-3b6ed2fd72b8",
   "metadata": {},
   "source": [
    "# homeowner listings\n",
    "in this data set, each row represents a homeowner's listing. from the data dictionary, we can learn a lot about the columns included. \n",
    "many of the columns are boolean, some are datetimes, others are strings, that can either be interpreted as categorical variables or harvested for one-hot encoded variables. \n",
    "\n",
    "## assumption\n",
    "for each boolean variable, if an answer is missing, we will interpret that as FALSE, i.e. we take the question to mean whether _they are confirmed to be true_ or not. this assumption is not always going to be true, but it will be more often than not, and increases the expressiveness of the data set. "
   ]
  },
  {
   "cell_type": "code",
   "execution_count": 3,
   "id": "f580f891-836e-4f85-9570-0f0369d3b043",
   "metadata": {},
   "outputs": [],
   "source": [
    "date_columns=[\n",
    "    'approved_dt',\n",
    "    'modified_dt',\n",
    "    'completed_dt',\n",
    "]\n",
    "boolean_columns = [\n",
    "    'car_required',\n",
    "    'car_included',\n",
    "    'disabled_access',\n",
    "    # 'wifi_available',\n",
    "    'family_friendly',\n",
    "    'pets_welcome',\n",
    "    # 'suitable_for_home_working',\n",
    "]\n",
    "categorical_features=[\n",
    "    'home_type',\n",
    "    'photo_tags',\n",
    "    'pets',\n",
    "    'other_animals',\n",
    "    'children_preferences',\n",
    "    'family_preferences',\n",
    "]\n",
    "\n",
    "data_types={\n",
    "    'id':np.int32,\n",
    "    'nb_of_photos':np.uint8,\n",
    "    'nb_of_pets':np.uint8,\n",
    "    'nb_distinct_pets':np.uint8,\n",
    "    'nb_assignments_filled':np.uint8,\n",
    "    'nb_assignments_published':np.uint16,  \n",
    "    'nb_unique_sitters':np.uint16,\n",
    "    'nb_repeat_sitters':np.uint16,\n",
    "    'nb_domestic_sitters':np.uint16,\n",
    "    'avg_nb_apps_per_assg':np.uint16,\n",
    "    'nb_invites':np.uint8,\n",
    "    'minutes_pet_can_be_left_alone':np.uint16,\n",
    "}\n",
    "today = pd.Timestamp.now().floor('D') "
   ]
  },
  {
   "cell_type": "code",
   "execution_count": 11,
   "id": "51235912-a622-45b8-9d90-2bfcd0c98424",
   "metadata": {},
   "outputs": [],
   "source": [
    "# temp= pd.read_csv(DATAFOLDER+'listings.csv')\n",
    "# temp['pct_complete'].value_counts()"
   ]
  },
  {
   "cell_type": "code",
   "execution_count": 16,
   "id": "06ec478f-53b8-457e-83f8-705193b5e34e",
   "metadata": {},
   "outputs": [
    {
     "name": "stdout",
     "output_type": "stream",
     "text": [
      "<class 'pandas.core.frame.DataFrame'>\n",
      "Index: 61961 entries, 0 to 70859\n",
      "Data columns (total 50 columns):\n",
      " #   Column                          Non-Null Count  Dtype   \n",
      "---  ------                          --------------  -----   \n",
      " 0   accessible_by_public_transport  61961 non-null  bool    \n",
      " 1   avg_nb_apps_per_assg            61961 non-null  int8    \n",
      " 2   car_included                    61961 non-null  bool    \n",
      " 3   car_required                    61961 non-null  bool    \n",
      " 4   disabled_access                 61961 non-null  bool    \n",
      " 5   family_friendly                 61961 non-null  bool    \n",
      " 6   home_type                       61961 non-null  category\n",
      " 7   id                              61961 non-null  int32   \n",
      " 8   minutes_pet_can_be_left_alone   61961 non-null  int16   \n",
      " 9   nb_assignments_filled           61961 non-null  int32   \n",
      " 10  nb_assignments_published        61961 non-null  int32   \n",
      " 11  nb_distinct_pets                61961 non-null  int32   \n",
      " 12  nb_domestic_sitters             61961 non-null  int32   \n",
      " 13  nb_invites                      61961 non-null  int32   \n",
      " 14  nb_of_pets                      61961 non-null  int32   \n",
      " 15  nb_of_photos                    61961 non-null  int32   \n",
      " 16  nb_repeat_sitters               61961 non-null  int32   \n",
      " 17  nb_unique_sitters               61961 non-null  int32   \n",
      " 18  pets_welcome                    61961 non-null  bool    \n",
      " 19  wish_to_meet_in_person          61961 non-null  bool    \n",
      " 20  wish_to_video_call              61961 non-null  bool    \n",
      " 21  other_animals                   61961 non-null  category\n",
      " 22  days_since_modified             61961 non-null  Int16   \n",
      " 23  year_approved                   61961 non-null  Int16   \n",
      " 24  attraction_city                 61961 non-null  bool    \n",
      " 25  attraction_beach                61961 non-null  bool    \n",
      " 26  attraction_mountain             61961 non-null  bool    \n",
      " 27  attraction_countryside          61961 non-null  bool    \n",
      " 28  pet_dog                         61961 non-null  bool    \n",
      " 29  pet_cat                         61961 non-null  bool    \n",
      " 30  pet_bird                        61961 non-null  bool    \n",
      " 31  pet_fish                        61961 non-null  bool    \n",
      " 32  pet_reptile                     61961 non-null  bool    \n",
      " 33  pet_poultry                     61961 non-null  bool    \n",
      " 34  pet_farm_animal                 61961 non-null  bool    \n",
      " 35  photo_interior                  61961 non-null  bool    \n",
      " 36  photo_exterior                  61961 non-null  bool    \n",
      " 37  photo_attraction                61961 non-null  bool    \n",
      " 38  photo_garden                    61961 non-null  bool    \n",
      " 39  photo_pool                      61961 non-null  bool    \n",
      " 40  photo_view                      61961 non-null  bool    \n",
      " 41  welcomes_single                 61961 non-null  bool    \n",
      " 42  welcomes_couple                 61961 non-null  bool    \n",
      " 43  welcomes_family                 61961 non-null  bool    \n",
      " 44  welcomes_any_age                61961 non-null  bool    \n",
      " 45  welcomes_baby                   61961 non-null  bool    \n",
      " 46  welcomes_toddler                61961 non-null  bool    \n",
      " 47  welcomes_child                  61961 non-null  bool    \n",
      " 48  welcomes_teen                   61961 non-null  bool    \n",
      " 49  welcomes_young                  61961 non-null  bool    \n",
      "dtypes: Int16(2), bool(34), category(2), int16(1), int32(10), int8(1)\n",
      "memory usage: 5.6 MB\n"
     ]
    },
    {
     "data": {
      "text/plain": [
       "None"
      ]
     },
     "metadata": {},
     "output_type": "display_data"
    }
   ],
   "source": [
    "listings_df =  (\n",
    "    pd.read_csv(\n",
    "        DATAFOLDER+'listings.csv', \n",
    "        low_memory=False,\n",
    "        parse_dates=date_columns,\n",
    "        date_format='%Y-%m-%d %H:%M:%S.%f',\n",
    "        # dtype=data_types\n",
    "    )\n",
    "    .query('pct_complete >= 90') # focus on profiles near completion and ignore partial profiles \n",
    "    .query('completed_dt.notnull()', engine='python') # drop noncompleted\n",
    "    .assign(\n",
    "        days_since_modified           = lambda x: (today - x['modified_dt']).dt.days.astype('Int16'),\n",
    "        year_approved                 = lambda x: pd.Series((x['approved_dt'].dt.year),dtype='Int16'),\n",
    "        avg_nb_apps_per_assg          = lambda x: pd.to_numeric(x['avg_nb_apps_per_assg'].fillna(0), errors='coerce', downcast='integer'),\n",
    "        children_preferences          = lambda x: x['children_preferences'].fillna('No preference'),\n",
    "        attraction_city               = lambda x: x['local_attractions'].str.contains('city').fillna(False),\n",
    "        attraction_beach              = lambda x: x['local_attractions'].str.contains('beach').fillna(False),\n",
    "        attraction_mountain           = lambda x: x['local_attractions'].str.contains('mountain').fillna(False),\n",
    "        attraction_countryside        = lambda x: x['local_attractions'].str.contains('countryside').fillna(False),       \n",
    "        pet_dog                       = lambda x: x['pets'].str.contains('dog').fillna(False),\n",
    "        pet_cat                       = lambda x: x['pets'].str.contains('cat').fillna(False),\n",
    "        pet_bird                      = lambda x: x['pets'].str.contains('bird').fillna(False),\n",
    "        pet_fish                      = lambda x: x['pets'].str.contains('fish').fillna(False),\n",
    "        pet_reptile                   = lambda x: x['pets'].str.contains('reptile').fillna(False),\n",
    "        pet_poultry                   = lambda x: x['pets'].str.contains('poultry').fillna(False),\n",
    "        pet_farm_animal               = lambda x: x['pets'].str.contains('farm-animal').fillna(False),\n",
    "        photo_interior                = lambda x: x['photo_tags'].str.contains('interior').fillna(False),\n",
    "        photo_exterior                = lambda x: x['photo_tags'].str.contains('exterior').fillna(False),\n",
    "        photo_attraction              = lambda x: x['photo_tags'].str.contains('local-attraction').fillna(False),\n",
    "        photo_garden                  = lambda x: x['photo_tags'].str.contains('exterior').fillna(False),\n",
    "        photo_pool                    = lambda x: x['photo_tags'].str.contains('pool').fillna(False),\n",
    "        photo_view                    = lambda x: x['photo_tags'].str.contains('view').fillna(False),\n",
    "        wish_to_video_call            = lambda x: x['wish_to_video_call'].astype('bool').fillna(False),\n",
    "        wish_to_meet_in_person        = lambda x: x['wish_to_meet_in_person'].astype('bool').fillna(False),\n",
    "        welcomes_single               = lambda x: x['family_preferences'].str.contains('single').fillna(False),\n",
    "        welcomes_couple               = lambda x: x['family_preferences'].str.contains('couple').fillna(False),\n",
    "        welcomes_family               = lambda x: x['family_preferences'].str.contains('family').fillna(False),\n",
    "        welcomes_any_age              = lambda x: x['children_preferences'].str.contains('No preference').fillna(False),\n",
    "        welcomes_baby                 = lambda x: x['children_preferences'].str.contains('0-3').fillna(False),\n",
    "        welcomes_toddler              = lambda x: x['children_preferences'].str.contains('4-7').fillna(False),\n",
    "        welcomes_child                = lambda x: x['children_preferences'].str.contains('8-12').fillna(False),\n",
    "        welcomes_teen                 = lambda x: x['children_preferences'].str.contains('13-17').fillna(False),\n",
    "        welcomes_young                = lambda x: x['children_preferences'].str.contains('18+').fillna(False),\n",
    "        home_type                     = lambda x: pd.Categorical(x['home_type'].fillna('unknown')),\n",
    "        other_animals                 = lambda x: pd.Categorical(x['other_animals'].fillna('None')),\n",
    "        id                            = lambda x: x['id'].fillna(0).astype('int32'),\n",
    "        nb_assignments_filled         = lambda x: x['nb_assignments_filled'].fillna(0).astype('int32'),\n",
    "        nb_assignments_published      = lambda x: x['nb_assignments_published'].fillna(0).astype('int32'),\n",
    "        nb_distinct_pets              = lambda x: x['nb_distinct_pets'].fillna(0).astype('int32'),\n",
    "        nb_domestic_sitters           = lambda x: x['nb_domestic_sitters'].fillna(0).astype('int32'),\n",
    "        nb_invites                    = lambda x: x['nb_invites'].fillna(0).astype('int32'),\n",
    "        nb_of_pets                    = lambda x: x['nb_of_pets'].fillna(0).astype('int32'),\n",
    "        nb_of_photos                  = lambda x: x['nb_of_photos'].fillna(0).astype('int32'),\n",
    "        nb_repeat_sitters             = lambda x: x['nb_repeat_sitters'].fillna(0).astype('int32'),\n",
    "        nb_unique_sitters             = lambda x: x['nb_unique_sitters'].fillna(0).astype('int32'),\n",
    "        minutes_pet_can_be_left_alone = lambda x: x['minutes_pet_can_be_left_alone'].fillna(120).astype('int16'),\n",
    "    )\n",
    "    .drop(columns=[\n",
    "        'modified_dt',          # won't need\n",
    "        'latitude',             # dont know what to do with\n",
    "        'longitude',            # dont know what to do with\n",
    "        'local_attractions',    # already used\n",
    "        'wifi_available',       # 100% available: offers no information\n",
    "        'photo_tags',           # already used\n",
    "        'pct_complete',         # filtered low completion. already used\n",
    "        'family_preferences',   # already used\n",
    "        'children_preferences', # already used\n",
    "        'pets',                 # used up\n",
    "        'user_id',              # corrupted data!\n",
    "        'approved_dt',\n",
    "        'completed_dt',\n",
    "    ])\n",
    ")\n",
    "# for booleans, if answer is missing, interpret it as 'no':\n",
    "for col in boolean_columns:\n",
    "    listings_df[col] = listings_df[col].astype('bool').fillna(False)\n",
    "\n",
    "display(listings_df.info())"
   ]
  },
  {
   "cell_type": "code",
   "execution_count": 6,
   "id": "6b354a5c-6059-4355-ad64-fd40f0755d77",
   "metadata": {},
   "outputs": [
    {
     "data": {
      "text/plain": [
       "welcomes_any_age\n",
       "True     59703\n",
       "False     5546\n",
       "Name: count, dtype: int64"
      ]
     },
     "execution_count": 6,
     "metadata": {},
     "output_type": "execute_result"
    }
   ],
   "source": [
    "listings_df['welcomes_any_age'].value_counts()"
   ]
  },
  {
   "cell_type": "code",
   "execution_count": 7,
   "id": "45097c63-94bc-437d-8f8b-07f7975b32ec",
   "metadata": {},
   "outputs": [],
   "source": [
    "listings_df.to_parquet('../data/listings_prep.parquet')"
   ]
  },
  {
   "cell_type": "markdown",
   "id": "3dd2b9fe-820e-4f99-99a8-37cc237d3a3e",
   "metadata": {},
   "source": [
    "# save profile feature files in persistant database file"
   ]
  },
  {
   "cell_type": "code",
   "execution_count": 8,
   "id": "c6310143-bd5f-4c54-94be-06b8256ad705",
   "metadata": {},
   "outputs": [],
   "source": [
    "with duckdb.connect(DATABASEFILE) as con:\n",
    "    con.sql(\"DROP TABLE IF EXISTS listings_prep\")\n",
    "    con.sql(\"CREATE TABLE listings_prep AS SELECT * FROM listings_df\")\n",
    "    con.sql(\"SELECT COUNT(*) FROM listings_prep\")"
   ]
  },
  {
   "cell_type": "markdown",
   "id": "2457901a-84f9-4fad-b1e7-16184e5b31a0",
   "metadata": {},
   "source": [
    "# exploratory data analysis reporting"
   ]
  },
  {
   "cell_type": "code",
   "execution_count": 9,
   "id": "ef7e36e8-5a36-4a77-b73d-332590925dfa",
   "metadata": {},
   "outputs": [
    {
     "data": {
      "application/vnd.jupyter.widget-view+json": {
       "model_id": "872eff96683b4c4696f758e0e3fb4718",
       "version_major": 2,
       "version_minor": 0
      },
      "text/plain": [
       "Summarize dataset:   0%|          | 0/5 [00:00<?, ?it/s]"
      ]
     },
     "metadata": {},
     "output_type": "display_data"
    },
    {
     "data": {
      "application/vnd.jupyter.widget-view+json": {
       "model_id": "b56497412e5d4276afdf60072bbb7169",
       "version_major": 2,
       "version_minor": 0
      },
      "text/plain": [
       "Generate report structure:   0%|          | 0/1 [00:00<?, ?it/s]"
      ]
     },
     "metadata": {},
     "output_type": "display_data"
    },
    {
     "data": {
      "application/vnd.jupyter.widget-view+json": {
       "model_id": "2f1a19dd4f654854bde6a126dc7c8f4b",
       "version_major": 2,
       "version_minor": 0
      },
      "text/plain": [
       "Render HTML:   0%|          | 0/1 [00:00<?, ?it/s]"
      ]
     },
     "metadata": {},
     "output_type": "display_data"
    },
    {
     "data": {
      "application/vnd.jupyter.widget-view+json": {
       "model_id": "ce7895cb898e451982b43524c59afd6a",
       "version_major": 2,
       "version_minor": 0
      },
      "text/plain": [
       "Export report to file:   0%|          | 0/1 [00:00<?, ?it/s]"
      ]
     },
     "metadata": {},
     "output_type": "display_data"
    }
   ],
   "source": [
    "profile = yp.ProfileReport(listings_df)\n",
    "# profile.to_notebook_iframe()\n",
    "profile.to_file('../notes/eda/eda_report_listings.html')"
   ]
  },
  {
   "cell_type": "markdown",
   "id": "186df763-f73f-4b77-bc17-f2a603953fc9",
   "metadata": {},
   "source": [
    "# lessons from exploratory analysis report\n",
    "1. user_id useless, corrupted data? only 17k records have it and they are booleans\n",
    "2.\n",
    "3. "
   ]
  },
  {
   "cell_type": "code",
   "execution_count": null,
   "id": "4069cee0-2dfc-4fde-95ac-3f2df2035999",
   "metadata": {},
   "outputs": [],
   "source": []
  },
  {
   "cell_type": "code",
   "execution_count": null,
   "id": "11e56dea-fbf0-4eb7-8d3f-df8fd3b53169",
   "metadata": {},
   "outputs": [],
   "source": []
  }
 ],
 "metadata": {
  "kernelspec": {
   "display_name": "Python 3 (ipykernel)",
   "language": "python",
   "name": "python3"
  },
  "language_info": {
   "codemirror_mode": {
    "name": "ipython",
    "version": 3
   },
   "file_extension": ".py",
   "mimetype": "text/x-python",
   "name": "python",
   "nbconvert_exporter": "python",
   "pygments_lexer": "ipython3",
   "version": "3.8.18"
  }
 },
 "nbformat": 4,
 "nbformat_minor": 5
}
