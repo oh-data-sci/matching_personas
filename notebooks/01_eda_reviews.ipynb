{
 "cells": [
  {
   "cell_type": "markdown",
   "id": "76ff6005-b4b0-4215-9a7e-2fd57d8c2036",
   "metadata": {},
   "source": [
    "sitter reviews from homeowners - exploratory data analysis\n",
    "===\n",
    "# introduction\n",
    "this notebook is solely for the purposes of getting to know the data and discovering its shapes and secrets. data cleaning and preprocessing takes place further downstream from here.\n"
   ]
  },
  {
   "cell_type": "code",
   "execution_count": 1,
   "id": "27cf7bee-2e5c-415f-830e-43911c9081cd",
   "metadata": {},
   "outputs": [
    {
     "data": {
      "text/html": [
       "\n",
       "            <div>\n",
       "                <ins><a href=\"ttps://ydata.ai/register\">Upgrade to ydata-sdk</a></ins>\n",
       "                <p>\n",
       "                    Improve your data and profiling with ydata-sdk, featuring data quality scoring, redundancy detection, outlier identification, text validation, and synthetic data generation.\n",
       "                </p>\n",
       "            </div>\n",
       "            "
      ],
      "text/plain": [
       "<IPython.core.display.HTML object>"
      ]
     },
     "metadata": {},
     "output_type": "display_data"
    }
   ],
   "source": [
    "from datetime import datetime\n",
    "import duckdb\n",
    "import matplotlib as plt\n",
    "import numpy as np\n",
    "import pandas as pd\n",
    "from ydata_profiling import ProfileReport\n",
    "import ydata_profiling as yp\n",
    "\n",
    "DATAFOLDER='../data/raw/'        # path to raw data files\n",
    "DATABASEFILE='../data/sits.ddb'  # path to persistent duckdb database file"
   ]
  },
  {
   "cell_type": "code",
   "execution_count": 2,
   "id": "633134e7-3e67-4d19-8046-7236d6c226d6",
   "metadata": {},
   "outputs": [
    {
     "data": {
      "text/plain": [
       "65500.0"
      ]
     },
     "execution_count": 2,
     "metadata": {},
     "output_type": "execute_result"
    }
   ],
   "source": [
    "np.finfo(np.float16).max"
   ]
  },
  {
   "cell_type": "markdown",
   "id": "59234576-2073-4733-9c63-3b6ed2fd72b8",
   "metadata": {},
   "source": [
    "# housesitter reviews\n",
    "in this data set, each row represents a homeowner's review of a housesitter. from the data dictionary, we can learn a lot about the columns included. \n",
    "many of the columns are boolean, some are datetimes, others are strings, that can either be interpreted as categorical variables or harvested for one-hot encoded variables. \n",
    "\n",
    "## assumption\n",
    "for each boolean variable, if an answer is missing, we will interpret that as FALSE, i.e. we take the question to mean whether _they are confirmed to be true_ or not. this assumption is not always going to be true, but it will be more often than not, and increases the expressiveness of the data set. "
   ]
  },
  {
   "cell_type": "code",
   "execution_count": 3,
   "id": "f580f891-836e-4f85-9570-0f0369d3b043",
   "metadata": {},
   "outputs": [],
   "source": [
    "bool_cols = [\n",
    "]\n",
    "date_columns = [\n",
    "    'review_ts',\n",
    "    'reply_ts'\n",
    "]\n",
    "today = pd.Timestamp.now().floor('D')  # Floor to remove time component\n",
    "\n",
    "\n",
    "category_cols=[\n",
    "]\n",
    "# numerical columns\n",
    "data_types = {\n",
    "    'assignment_id':np.uint32,\n",
    "    'avg_score':np.int8,\n",
    "    'id':np.uint32,\n",
    "    'listing_id':np.uint32,\n",
    "    'organised':np.uint32,\n",
    "    'overall_score':np.float32,\n",
    "    'owner_user_id':np.uint32,\n",
    "    'pet_care':np.int8,\n",
    "    'self_sufficient':np.int8,\n",
    "    'sitter_user_id':np.uint32,\n",
    "    'tidy':np.int8,\n",
    "    \n",
    "}\n"
   ]
  },
  {
   "cell_type": "code",
   "execution_count": 4,
   "id": "51235912-a622-45b8-9d90-2bfcd0c98424",
   "metadata": {},
   "outputs": [
    {
     "data": {
      "text/html": [
       "<div>\n",
       "<style scoped>\n",
       "    .dataframe tbody tr th:only-of-type {\n",
       "        vertical-align: middle;\n",
       "    }\n",
       "\n",
       "    .dataframe tbody tr th {\n",
       "        vertical-align: top;\n",
       "    }\n",
       "\n",
       "    .dataframe thead th {\n",
       "        text-align: right;\n",
       "    }\n",
       "</style>\n",
       "<table border=\"1\" class=\"dataframe\">\n",
       "  <thead>\n",
       "    <tr style=\"text-align: right;\">\n",
       "      <th></th>\n",
       "      <th>assignment_id</th>\n",
       "      <th>avg_score</th>\n",
       "      <th>id</th>\n",
       "      <th>listing_id</th>\n",
       "      <th>organised</th>\n",
       "      <th>overall_score</th>\n",
       "      <th>owner_user_id</th>\n",
       "      <th>pet_care</th>\n",
       "      <th>profile_id</th>\n",
       "      <th>reliable</th>\n",
       "      <th>reply_ts</th>\n",
       "      <th>requested</th>\n",
       "      <th>review_ts</th>\n",
       "      <th>self_sufficient</th>\n",
       "      <th>sitter_user_id</th>\n",
       "      <th>tidy</th>\n",
       "    </tr>\n",
       "  </thead>\n",
       "  <tbody>\n",
       "    <tr>\n",
       "      <th>11179</th>\n",
       "      <td>502058</td>\n",
       "      <td>5</td>\n",
       "      <td>186167</td>\n",
       "      <td>195663</td>\n",
       "      <td>5</td>\n",
       "      <td>5.0</td>\n",
       "      <td>692557</td>\n",
       "      <td>5</td>\n",
       "      <td>1633180</td>\n",
       "      <td>5</td>\n",
       "      <td>NaT</td>\n",
       "      <td>True</td>\n",
       "      <td>2022-03-09 19:59:43</td>\n",
       "      <td>5</td>\n",
       "      <td>2538628</td>\n",
       "      <td>5</td>\n",
       "    </tr>\n",
       "    <tr>\n",
       "      <th>55748</th>\n",
       "      <td>681112</td>\n",
       "      <td>5</td>\n",
       "      <td>251867</td>\n",
       "      <td>684223</td>\n",
       "      <td>5</td>\n",
       "      <td>5.0</td>\n",
       "      <td>3257967</td>\n",
       "      <td>5</td>\n",
       "      <td>2583370</td>\n",
       "      <td>5</td>\n",
       "      <td>NaT</td>\n",
       "      <td>False</td>\n",
       "      <td>2022-11-28 00:05:09</td>\n",
       "      <td>5</td>\n",
       "      <td>4498897</td>\n",
       "      <td>5</td>\n",
       "    </tr>\n",
       "    <tr>\n",
       "      <th>51579</th>\n",
       "      <td>594670</td>\n",
       "      <td>5</td>\n",
       "      <td>234806</td>\n",
       "      <td>880732</td>\n",
       "      <td>5</td>\n",
       "      <td>5.0</td>\n",
       "      <td>3913468</td>\n",
       "      <td>5</td>\n",
       "      <td>2118464</td>\n",
       "      <td>5</td>\n",
       "      <td>NaT</td>\n",
       "      <td>False</td>\n",
       "      <td>2022-09-27 18:04:29</td>\n",
       "      <td>5</td>\n",
       "      <td>3557475</td>\n",
       "      <td>5</td>\n",
       "    </tr>\n",
       "    <tr>\n",
       "      <th>90480</th>\n",
       "      <td>675768</td>\n",
       "      <td>5</td>\n",
       "      <td>280753</td>\n",
       "      <td>1091577</td>\n",
       "      <td>5</td>\n",
       "      <td>5.0</td>\n",
       "      <td>4807220</td>\n",
       "      <td>5</td>\n",
       "      <td>1866824</td>\n",
       "      <td>5</td>\n",
       "      <td>2023-03-07 21:16:49</td>\n",
       "      <td>False</td>\n",
       "      <td>2023-03-07 21:01:11</td>\n",
       "      <td>5</td>\n",
       "      <td>2993812</td>\n",
       "      <td>5</td>\n",
       "    </tr>\n",
       "    <tr>\n",
       "      <th>48609</th>\n",
       "      <td>658791</td>\n",
       "      <td>5</td>\n",
       "      <td>245416</td>\n",
       "      <td>666930</td>\n",
       "      <td>5</td>\n",
       "      <td>5.0</td>\n",
       "      <td>3191798</td>\n",
       "      <td>5</td>\n",
       "      <td>2443392</td>\n",
       "      <td>5</td>\n",
       "      <td>NaT</td>\n",
       "      <td>True</td>\n",
       "      <td>2022-11-01 21:09:57</td>\n",
       "      <td>5</td>\n",
       "      <td>4231704</td>\n",
       "      <td>5</td>\n",
       "    </tr>\n",
       "  </tbody>\n",
       "</table>\n",
       "</div>"
      ],
      "text/plain": [
       "       assignment_id  avg_score      id  listing_id  organised  overall_score  \\\n",
       "11179         502058          5  186167      195663          5            5.0   \n",
       "55748         681112          5  251867      684223          5            5.0   \n",
       "51579         594670          5  234806      880732          5            5.0   \n",
       "90480         675768          5  280753     1091577          5            5.0   \n",
       "48609         658791          5  245416      666930          5            5.0   \n",
       "\n",
       "       owner_user_id  pet_care  profile_id  reliable            reply_ts  \\\n",
       "11179         692557         5     1633180         5                 NaT   \n",
       "55748        3257967         5     2583370         5                 NaT   \n",
       "51579        3913468         5     2118464         5                 NaT   \n",
       "90480        4807220         5     1866824         5 2023-03-07 21:16:49   \n",
       "48609        3191798         5     2443392         5                 NaT   \n",
       "\n",
       "       requested           review_ts  self_sufficient  sitter_user_id  tidy  \n",
       "11179       True 2022-03-09 19:59:43                5         2538628     5  \n",
       "55748      False 2022-11-28 00:05:09                5         4498897     5  \n",
       "51579      False 2022-09-27 18:04:29                5         3557475     5  \n",
       "90480      False 2023-03-07 21:01:11                5         2993812     5  \n",
       "48609       True 2022-11-01 21:09:57                5         4231704     5  "
      ]
     },
     "metadata": {},
     "output_type": "display_data"
    },
    {
     "name": "stdout",
     "output_type": "stream",
     "text": [
      "<class 'pandas.core.frame.DataFrame'>\n",
      "RangeIndex: 95646 entries, 0 to 95645\n",
      "Data columns (total 16 columns):\n",
      " #   Column           Non-Null Count  Dtype         \n",
      "---  ------           --------------  -----         \n",
      " 0   assignment_id    95646 non-null  uint32        \n",
      " 1   avg_score        95646 non-null  int8          \n",
      " 2   id               95646 non-null  uint32        \n",
      " 3   listing_id       95646 non-null  uint32        \n",
      " 4   organised        95646 non-null  uint32        \n",
      " 5   overall_score    95363 non-null  float32       \n",
      " 6   owner_user_id    95646 non-null  uint32        \n",
      " 7   pet_care         95646 non-null  int8          \n",
      " 8   profile_id       95646 non-null  int64         \n",
      " 9   reliable         95646 non-null  int64         \n",
      " 10  reply_ts         20837 non-null  datetime64[ns]\n",
      " 11  requested        95646 non-null  bool          \n",
      " 12  review_ts        95646 non-null  datetime64[ns]\n",
      " 13  self_sufficient  95646 non-null  int8          \n",
      " 14  sitter_user_id   95646 non-null  uint32        \n",
      " 15  tidy             95646 non-null  int8          \n",
      "dtypes: bool(1), datetime64[ns](2), float32(1), int64(2), int8(4), uint32(6)\n",
      "memory usage: 5.9 MB\n"
     ]
    },
    {
     "data": {
      "text/plain": [
       "None"
      ]
     },
     "metadata": {},
     "output_type": "display_data"
    }
   ],
   "source": [
    "reviews_df =  (\n",
    "    pd.read_csv(\n",
    "        DATAFOLDER+'reviews.csv', \n",
    "        low_memory=False,\n",
    "        parse_dates=date_columns,\n",
    "        date_format='%Y-%m-%d %H:%M:%S.%f',\n",
    "        dtype=data_types\n",
    "    )\n",
    ")\n",
    "display(reviews_df.sample(5))\n",
    "display(reviews_df.info())\n",
    "\n",
    "# reviews_df['birth_decade'].unique()\n",
    "# reviews_df['five_star_ratio'].isna().sum()\n",
    "# reviews_df['five_star_ratio'].value_counts()\n",
    "# reviews_df[reviews_df['days_since_modified']>2000]\n",
    "# reviews_df['five_star_ratio'].max()\n",
    "# reviews_df[reviews_df['five_star_ratio']>0.99][['five_star_ratio', 'nb_5s_reviews', 'nb_reviews']]"
   ]
  },
  {
   "cell_type": "code",
   "execution_count": 5,
   "id": "eb988fb4-b20e-4cae-bcca-3acbfee2c384",
   "metadata": {},
   "outputs": [
    {
     "data": {
      "image/png": "[encoded data removed]",
      "text/plain": [
       "<Figure size 500x500 with 1 Axes>"
      ]
     },
     "metadata": {},
     "output_type": "display_data"
    }
   ],
   "source": [
    "%matplotlib inline\n",
    "import matplotlib.pyplot as plt\n",
    "fig = plt.figure(figsize=(5,5))\n",
    "plt.pie(reviews_df['avg_score'].value_counts(), startangle=90, counterclock=False, labels=['5','4','3','2','1', '0'])\n",
    "plt.show()"
   ]
  },
  {
   "cell_type": "code",
   "execution_count": 6,
   "id": "06ec478f-53b8-457e-83f8-705193b5e34e",
   "metadata": {},
   "outputs": [
    {
     "data": {
      "text/html": [
       "<div>\n",
       "<style scoped>\n",
       "    .dataframe tbody tr th:only-of-type {\n",
       "        vertical-align: middle;\n",
       "    }\n",
       "\n",
       "    .dataframe tbody tr th {\n",
       "        vertical-align: top;\n",
       "    }\n",
       "\n",
       "    .dataframe thead th {\n",
       "        text-align: right;\n",
       "    }\n",
       "</style>\n",
       "<table border=\"1\" class=\"dataframe\">\n",
       "  <thead>\n",
       "    <tr style=\"text-align: right;\">\n",
       "      <th></th>\n",
       "      <th>num_reviews</th>\n",
       "      <th>num_assignments</th>\n",
       "      <th>mean_score</th>\n",
       "      <th>tidiness_avg</th>\n",
       "      <th>organised_avg</th>\n",
       "    </tr>\n",
       "    <tr>\n",
       "      <th>sitter_user_id</th>\n",
       "      <th></th>\n",
       "      <th></th>\n",
       "      <th></th>\n",
       "      <th></th>\n",
       "      <th></th>\n",
       "    </tr>\n",
       "  </thead>\n",
       "  <tbody>\n",
       "    <tr>\n",
       "      <th>2808091</th>\n",
       "      <td>9</td>\n",
       "      <td>9</td>\n",
       "      <td>3.333333</td>\n",
       "      <td>3.111111</td>\n",
       "      <td>3.111111</td>\n",
       "    </tr>\n",
       "    <tr>\n",
       "      <th>1441093</th>\n",
       "      <td>11</td>\n",
       "      <td>11</td>\n",
       "      <td>3.727273</td>\n",
       "      <td>3.545455</td>\n",
       "      <td>3.727273</td>\n",
       "    </tr>\n",
       "    <tr>\n",
       "      <th>3479858</th>\n",
       "      <td>12</td>\n",
       "      <td>12</td>\n",
       "      <td>4.166667</td>\n",
       "      <td>4.250000</td>\n",
       "      <td>4.083333</td>\n",
       "    </tr>\n",
       "    <tr>\n",
       "      <th>3114610</th>\n",
       "      <td>8</td>\n",
       "      <td>8</td>\n",
       "      <td>4.250000</td>\n",
       "      <td>4.375000</td>\n",
       "      <td>4.250000</td>\n",
       "    </tr>\n",
       "    <tr>\n",
       "      <th>1700238</th>\n",
       "      <td>8</td>\n",
       "      <td>8</td>\n",
       "      <td>4.375000</td>\n",
       "      <td>3.875000</td>\n",
       "      <td>4.250000</td>\n",
       "    </tr>\n",
       "    <tr>\n",
       "      <th>...</th>\n",
       "      <td>...</td>\n",
       "      <td>...</td>\n",
       "      <td>...</td>\n",
       "      <td>...</td>\n",
       "      <td>...</td>\n",
       "    </tr>\n",
       "    <tr>\n",
       "      <th>1620426</th>\n",
       "      <td>10</td>\n",
       "      <td>10</td>\n",
       "      <td>5.000000</td>\n",
       "      <td>5.000000</td>\n",
       "      <td>5.000000</td>\n",
       "    </tr>\n",
       "    <tr>\n",
       "      <th>1626664</th>\n",
       "      <td>10</td>\n",
       "      <td>10</td>\n",
       "      <td>5.000000</td>\n",
       "      <td>4.500000</td>\n",
       "      <td>4.500000</td>\n",
       "    </tr>\n",
       "    <tr>\n",
       "      <th>1628692</th>\n",
       "      <td>12</td>\n",
       "      <td>12</td>\n",
       "      <td>5.000000</td>\n",
       "      <td>5.000000</td>\n",
       "      <td>5.000000</td>\n",
       "    </tr>\n",
       "    <tr>\n",
       "      <th>1568938</th>\n",
       "      <td>10</td>\n",
       "      <td>10</td>\n",
       "      <td>5.000000</td>\n",
       "      <td>4.900000</td>\n",
       "      <td>5.000000</td>\n",
       "    </tr>\n",
       "    <tr>\n",
       "      <th>4896683</th>\n",
       "      <td>12</td>\n",
       "      <td>12</td>\n",
       "      <td>5.000000</td>\n",
       "      <td>5.000000</td>\n",
       "      <td>5.000000</td>\n",
       "    </tr>\n",
       "  </tbody>\n",
       "</table>\n",
       "<p>2472 rows × 5 columns</p>\n",
       "</div>"
      ],
      "text/plain": [
       "                num_reviews  num_assignments  mean_score  tidiness_avg  \\\n",
       "sitter_user_id                                                           \n",
       "2808091                   9                9    3.333333      3.111111   \n",
       "1441093                  11               11    3.727273      3.545455   \n",
       "3479858                  12               12    4.166667      4.250000   \n",
       "3114610                   8                8    4.250000      4.375000   \n",
       "1700238                   8                8    4.375000      3.875000   \n",
       "...                     ...              ...         ...           ...   \n",
       "1620426                  10               10    5.000000      5.000000   \n",
       "1626664                  10               10    5.000000      4.500000   \n",
       "1628692                  12               12    5.000000      5.000000   \n",
       "1568938                  10               10    5.000000      4.900000   \n",
       "4896683                  12               12    5.000000      5.000000   \n",
       "\n",
       "                organised_avg  \n",
       "sitter_user_id                 \n",
       "2808091              3.111111  \n",
       "1441093              3.727273  \n",
       "3479858              4.083333  \n",
       "3114610              4.250000  \n",
       "1700238              4.250000  \n",
       "...                       ...  \n",
       "1620426              5.000000  \n",
       "1626664              4.500000  \n",
       "1628692              5.000000  \n",
       "1568938              5.000000  \n",
       "4896683              5.000000  \n",
       "\n",
       "[2472 rows x 5 columns]"
      ]
     },
     "execution_count": 6,
     "metadata": {},
     "output_type": "execute_result"
    }
   ],
   "source": [
    "user_review_summary_df = (\n",
    "    reviews_df\n",
    "    .groupby('sitter_user_id')\n",
    "    .agg({\n",
    "        'id':'count',\n",
    "        'assignment_id':\n",
    "        'nunique',\n",
    "        'overall_score':'mean',\n",
    "        'tidy':'mean',\n",
    "        'organised':'mean'\n",
    "    })\n",
    "    .rename(columns={\n",
    "        'id':'num_reviews',\n",
    "        'assignment_id':'num_assignments',\n",
    "        'overall_score':'mean_score',\n",
    "        'tidy':'tidiness_avg',\n",
    "        'organised':'organised_avg',\n",
    "    })\n",
    ")\n",
    "\n",
    "user_review_summary_df[user_review_summary_df['num_reviews']>7].sort_values('mean_score', ascending=True)\n",
    "# user_review_summary_df.info()"
   ]
  },
  {
   "cell_type": "markdown",
   "id": "73b60d79-2f5c-4532-b030-98273066f89a",
   "metadata": {},
   "source": [
    "# save prepped data to database"
   ]
  },
  {
   "cell_type": "code",
   "execution_count": null,
   "id": "c6310143-bd5f-4c54-94be-06b8256ad705",
   "metadata": {},
   "outputs": [],
   "source": [
    "with duckdb.connect(DATABASEFILE) as con:\n",
    "    con.sql(\"DROP TABLE IF EXISTS review_prep\")\n",
    "    con.sql(\"CREATE TABLE review_prep AS SELECT * FROM reviews_df\")\n",
    "    con.sql(\"SELECT COUNT(*) FROM review_prep\")"
   ]
  },
  {
   "cell_type": "code",
   "execution_count": null,
   "id": "4069cee0-2dfc-4fde-95ac-3f2df2035999",
   "metadata": {},
   "outputs": [],
   "source": [
    "with duckdb.connect(DATABASEFILE) as con:\n",
    "    con.sql(\"DROP TABLE IF EXISTS user_review_summary\")\n",
    "    con.sql(\"CREATE TABLE user_review_summary AS SELECT * FROM user_review_summary_df\")\n",
    "    con.sql(\"SELECT COUNT(*) FROM user_review_summary\")"
   ]
  },
  {
   "cell_type": "markdown",
   "id": "2457901a-84f9-4fad-b1e7-16184e5b31a0",
   "metadata": {},
   "source": [
    "# exploratory data analysis reporting"
   ]
  },
  {
   "cell_type": "code",
   "execution_count": 8,
   "id": "ef7e36e8-5a36-4a77-b73d-332590925dfa",
   "metadata": {},
   "outputs": [
    {
     "data": {
      "application/vnd.jupyter.widget-view+json": {
       "model_id": "89aab201154d4d39a0fdaeaf21b3620d",
       "version_major": 2,
       "version_minor": 0
      },
      "text/plain": [
       "Summarize dataset:   0%|          | 0/5 [00:00<?, ?it/s]"
      ]
     },
     "metadata": {},
     "output_type": "display_data"
    },
    {
     "data": {
      "application/vnd.jupyter.widget-view+json": {
       "model_id": "9b803c2b7c784e9c9a78b4f212e31dac",
       "version_major": 2,
       "version_minor": 0
      },
      "text/plain": [
       "Generate report structure:   0%|          | 0/1 [00:00<?, ?it/s]"
      ]
     },
     "metadata": {},
     "output_type": "display_data"
    },
    {
     "data": {
      "application/vnd.jupyter.widget-view+json": {
       "model_id": "a8a76980aeca4b3291564367f1f08a03",
       "version_major": 2,
       "version_minor": 0
      },
      "text/plain": [
       "Render HTML:   0%|          | 0/1 [00:00<?, ?it/s]"
      ]
     },
     "metadata": {},
     "output_type": "display_data"
    },
    {
     "data": {
      "application/vnd.jupyter.widget-view+json": {
       "model_id": "cb41266d8050478292ea4d10b02d43f3",
       "version_major": 2,
       "version_minor": 0
      },
      "text/plain": [
       "Export report to file:   0%|          | 0/1 [00:00<?, ?it/s]"
      ]
     },
     "metadata": {},
     "output_type": "display_data"
    }
   ],
   "source": [
    "profile = yp.ProfileReport(reviews_df)\n",
    "profile.to_file('../notes/eda/eda_report_reviews.html')"
   ]
  },
  {
   "cell_type": "code",
   "execution_count": null,
   "id": "3cea7221-758d-4af9-911d-7b0712eba9a9",
   "metadata": {},
   "outputs": [],
   "source": [
    "profile = yp.ProfileReport(user_review_summary)\n",
    "profile.to_file('../notes/eda/eda_report_review_summary.html')"
   ]
  },
  {
   "cell_type": "markdown",
   "id": "186df763-f73f-4b77-bc17-f2a603953fc9",
   "metadata": {},
   "source": [
    "# lessons from exploratory analysis report\n",
    "- grade inflation, almost everyone is highly rated.\n",
    "- a small number of reviews below 4 stars is not usefully clustered"
   ]
  },
  {
   "cell_type": "code",
   "execution_count": null,
   "id": "11e56dea-fbf0-4eb7-8d3f-df8fd3b53169",
   "metadata": {},
   "outputs": [],
   "source": []
  }
 ],
 "metadata": {
  "kernelspec": {
   "display_name": "Python 3 (ipykernel)",
   "language": "python",
   "name": "python3"
  },
  "language_info": {
   "codemirror_mode": {
    "name": "ipython",
    "version": 3
   },
   "file_extension": ".py",
   "mimetype": "text/x-python",
   "name": "python",
   "nbconvert_exporter": "python",
   "pygments_lexer": "ipython3",
   "version": "3.8.18"
  }
 },
 "nbformat": 4,
 "nbformat_minor": 5
}
