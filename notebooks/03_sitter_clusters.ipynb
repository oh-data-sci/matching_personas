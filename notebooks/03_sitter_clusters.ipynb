{
 "cells": [
  {
   "cell_type": "markdown",
   "id": "10e9cce8-778a-4768-b782-241e14f4d092",
   "metadata": {},
   "source": [
    "pet sitter customer segments\n",
    "===\n",
    "# introduction\n",
    "now let us look at the pet sitters in isolation. we know lots of properties of those:\n",
    "\n",
    "pet sitter profiles augmented table has a number of useful fields for clustering\n",
    "\n",
    "## numerical features:\n",
    "- nb_reviews                         type:  uint16  \n",
    "- nb_5s_reviews                      type:  uint16  \n",
    "- nb_applications                    type:  uint16  \n",
    "- nb_sits_completed                  type:  uint16  \n",
    "- nb_domestic_sits                   type:  uint16  \n",
    "- nb_local_sits                      type:  uint16  \n",
    "- nb_sits_booked                     type:  uint16  \n",
    "- nb_of_sitter_pets                  type:  uint16  \n",
    "- daily_minutes_willing_to_walk_dogs type:  int16   \n",
    "- days_since_modified                type:  Int16   \n",
    "- birth_decade                       type:  Int16   \n",
    "- partner_birth_decade               type:  Int16   \n",
    "- five_star_ratio                    type:  float32 \n",
    "\n",
    "## categorical features\n",
    "- country                            type:  category \n",
    "- travelling_as                      type:  category\n",
    "- occupation_type                    type:  category\n",
    "\n",
    "## boolean features\n",
    "- with_children                      type:  bool    \n",
    "- sitting_with_another               type:  bool    \n",
    "- prev_sitting_experience            type:  bool    \n",
    "- other_animals                      type:  bool    \n",
    "- has_dog_experience                 type:  bool    \n",
    "- has_cat_experience                 type:  bool    \n",
    "- has_reptile_experience             type:  bool    \n",
    "- has_horse_experience               type:  bool    \n",
    "- has_fish_experience                type:  bool    \n",
    "- has_poultry_experience             type:  bool    \n",
    "- has_farm_animal_experience         type:  bool    \n",
    "- has_bird_experience                type:  bool    \n",
    "- has_small_pet_experience           type:  bool    \n",
    "- prefers_all_countries              type:  bool    \n",
    "- years_of_experience                type:  int8    \n",
    "- happy_to_meet_in_person            type:  bool    \n",
    "- happy_to_video_call                type:  bool    \n",
    "- interested_in_remote_working       type:  bool    \n",
    "- interested_in_dogs                 type:  bool    \n",
    "- interested_in_cats                 type:  bool    \n",
    "- interested_in_reptiles             type:  bool    \n",
    "- interested_in_horses               type:  bool    \n",
    "- interested_in_fish                 type:  bool    \n",
    "- interested_in_poultry              type:  bool    \n",
    "- interested_in_farm_animals         type:  bool    \n",
    "- interested_in_birds                type:  bool    \n",
    "- interested_in_small_pets           type:  bool    \n",
    "- with_a_baby                        type:  bool    \n",
    "- with_a_toddler                     type:  bool    \n",
    "- with_a_child                       type:  bool    \n",
    "- with_a_teen                        type:  bool    \n",
    "- dog_skills                         type:  bool    \n",
    "- cat_skills                         type:  bool    \n",
    "- can_give_medicine                  type:  bool    \n",
    "- big_dog_preferences                type:  bool    \n",
    "- small_dog_preferences              type:  bool    \n",
    "- wish_list_city                     type:  bool    \n",
    "- wish_list_beach                    type:  bool    \n",
    "- wish_list_mountain                 type:  bool    \n",
    "- wish_list_countryside              type:  bool    \n",
    "\n",
    "considering this highly multidimensional let's explore what groups and grouping are there between them? "
   ]
  },
  {
   "cell_type": "code",
   "execution_count": 2,
   "id": "c47f8c71-27b8-48da-b951-36d123c55df1",
   "metadata": {},
   "outputs": [],
   "source": [
    "import duckdb\n",
    "import gower\n",
    "import matplotlib.pyplot as plt\n",
    "import numpy as np\n",
    "import pandas as pd\n",
    "import pickle\n",
    "import seaborn as sns\n",
    "from   sklearn.decomposition  import PCA\n",
    "from   sklearn.metrics        import DistanceMetric\n",
    "from   sklearn.metrics        import silhouette_score\n",
    "from   sklearn.preprocessing  import LabelEncoder\n",
    "from   sklearn_extra.cluster  import KMedoids\n",
    "import umap\n",
    "DATABASEFILE='../data/sits.ddb'  # path to persistent duckdb database file\n",
    "INPROGRESS='../data/inprogress/' # path to folder for caching intermediate data products"
   ]
  },
  {
   "cell_type": "code",
   "execution_count": null,
   "id": "5672830b-4e74-44bb-9d83-96d417b8a618",
   "metadata": {},
   "outputs": [],
   "source": []
  },
  {
   "cell_type": "markdown",
   "id": "809ee119-8d7a-48b1-b37e-26bfb111b60f",
   "metadata": {},
   "source": [
    "# fetch data"
   ]
  },
  {
   "cell_type": "code",
   "execution_count": 3,
   "id": "c785d34b-bac7-46fa-ad10-99b9bcdacef2",
   "metadata": {},
   "outputs": [
    {
     "data": {
      "text/plain": [
       "(Index(['id', 'user_id', 'pct_complete', 'travelling_as', 'with_children',\n",
       "        'sitting_with_another', 'occupation_type', 'prev_sitting_experience',\n",
       "        'other_animals', 'has_dog_experience', 'has_cat_experience',\n",
       "        'has_reptile_experience', 'has_horse_experience', 'has_fish_experience',\n",
       "        'has_poultry_experience', 'has_farm_animal_experience',\n",
       "        'has_bird_experience', 'has_small_pet_experience',\n",
       "        'prefers_all_countries', 'nb_reviews', 'nb_5s_reviews',\n",
       "        'nb_applications', 'nb_sits_completed', 'nb_domestic_sits',\n",
       "        'nb_local_sits', 'nb_sits_booked', 'years_of_experience',\n",
       "        'nb_of_sitter_pets', 'daily_minutes_willing_to_walk_dogs',\n",
       "        'happy_to_meet_in_person', 'happy_to_video_call',\n",
       "        'interested_in_remote_working', 'interested_in_dogs',\n",
       "        'interested_in_cats', 'interested_in_reptiles', 'interested_in_horses',\n",
       "        'interested_in_fish', 'interested_in_poultry',\n",
       "        'interested_in_farm_animals', 'interested_in_birds',\n",
       "        'interested_in_small_pets', 'days_since_modified', 'birth_decade',\n",
       "        'partner_birth_decade', 'with_a_baby', 'with_a_toddler', 'with_a_child',\n",
       "        'with_a_teen', 'dog_skills', 'cat_skills', 'five_star_ratio',\n",
       "        'can_give_medicine', 'big_dog_preferences', 'small_dog_preferences',\n",
       "        'wish_list_city', 'wish_list_beach', 'wish_list_mountain',\n",
       "        'wish_list_countryside'],\n",
       "       dtype='object'),\n",
       " 58)"
      ]
     },
     "execution_count": 3,
     "metadata": {},
     "output_type": "execute_result"
    }
   ],
   "source": [
    "with duckdb.connect(DATABASEFILE) as con:\n",
    "    profiles_df = con.sql(\"SELECT * FROM profiles_prep\").fetchdf()\n",
    "\n",
    "profiles_df.columns, len(profiles_df.columns)"
   ]
  },
  {
   "cell_type": "markdown",
   "id": "a2ae8fa2-95e3-4c03-b58b-4783ed2cee40",
   "metadata": {},
   "source": [
    "# data preparation"
   ]
  },
  {
   "cell_type": "code",
   "execution_count": 32,
   "id": "70710b50-c071-4e21-902a-5cbdb1dae352",
   "metadata": {},
   "outputs": [
    {
     "data": {
      "text/plain": [
       "int64      42\n",
       "uint16      8\n",
       "uint32      2\n",
       "int16       2\n",
       "float64     2\n",
       "uint8       1\n",
       "int8        1\n",
       "float32     1\n",
       "Name: count, dtype: int64"
      ]
     },
     "execution_count": 32,
     "metadata": {},
     "output_type": "execute_result"
    }
   ],
   "source": [
    "profiles_df.dtypes.value_counts()"
   ]
  },
  {
   "cell_type": "code",
   "execution_count": 31,
   "id": "5d08297f-ab25-476d-bfb6-0cbfa8a9b0fe",
   "metadata": {},
   "outputs": [],
   "source": [
    "categorical_features = list(profiles_df.select_dtypes(include=['bool', 'category']).columns)\n",
    "numerical_features   = list(profiles_df.select_dtypes(include=['int8','uint8','uint16', 'Int16', 'float32', 'float64']).columns) # exclude uint32 (non-feature id columns)"
   ]
  },
  {
   "cell_type": "code",
   "execution_count": 6,
   "id": "43b250a0-a422-4fe7-ab01-658487ee6e48",
   "metadata": {},
   "outputs": [],
   "source": [
    "# encoders for categorical variables\n",
    "encoders = {}\n",
    "for cat_col in categorical_features:\n",
    "    if cat_col in profiles_df.columns:\n",
    "        encoders[cat_col] = LabelEncoder()\n",
    "        profiles_df[cat_col] = encoders[cat_col].fit_transform(profiles_df[cat_col])\n"
   ]
  },
  {
   "cell_type": "code",
   "execution_count": 7,
   "id": "578ec3cb-f5bb-4da7-9b7f-bc259a46ad07",
   "metadata": {},
   "outputs": [],
   "source": [
    "# collect feature columns\n",
    "feature_columns = []\n",
    "feature_columns.extend(categorical_features)\n",
    "feature_columns.extend(numerical_features)\n",
    "# ensure all features are included in the DataFrame\n",
    "feature_columns = [col for col in feature_columns if col in profiles_df.columns]\n",
    "# feature type array (1 for categorical, 0 for numeric)\n",
    "feature_types = [1 if col in categorical_features else 0 for col in feature_columns]\n"
   ]
  },
  {
   "cell_type": "markdown",
   "id": "1ca958b0-e2c9-4a3e-89d4-53a7a210d2b8",
   "metadata": {},
   "source": [
    "# gower distance matrix calculations"
   ]
  },
  {
   "cell_type": "code",
   "execution_count": 28,
   "id": "d5403fd3-344a-43f0-844b-7e9d817963d2",
   "metadata": {},
   "outputs": [
    {
     "data": {
      "text/plain": [
       "['travelling_as',\n",
       " 'with_children',\n",
       " 'sitting_with_another',\n",
       " 'occupation_type',\n",
       " 'prev_sitting_experience',\n",
       " 'other_animals',\n",
       " 'has_dog_experience',\n",
       " 'has_cat_experience',\n",
       " 'has_reptile_experience',\n",
       " 'has_horse_experience',\n",
       " 'has_fish_experience',\n",
       " 'has_poultry_experience',\n",
       " 'has_farm_animal_experience',\n",
       " 'has_bird_experience',\n",
       " 'has_small_pet_experience',\n",
       " 'prefers_all_countries',\n",
       " 'happy_to_meet_in_person',\n",
       " 'happy_to_video_call',\n",
       " 'interested_in_remote_working',\n",
       " 'interested_in_dogs',\n",
       " 'interested_in_cats',\n",
       " 'interested_in_reptiles',\n",
       " 'interested_in_horses',\n",
       " 'interested_in_fish',\n",
       " 'interested_in_poultry',\n",
       " 'interested_in_farm_animals',\n",
       " 'interested_in_birds',\n",
       " 'interested_in_small_pets',\n",
       " 'with_a_baby',\n",
       " 'with_a_toddler',\n",
       " 'with_a_child',\n",
       " 'with_a_teen',\n",
       " 'dog_skills',\n",
       " 'cat_skills',\n",
       " 'can_give_medicine',\n",
       " 'big_dog_preferences',\n",
       " 'small_dog_preferences',\n",
       " 'wish_list_city',\n",
       " 'wish_list_beach',\n",
       " 'wish_list_mountain',\n",
       " 'wish_list_countryside',\n",
       " 'pct_complete',\n",
       " 'nb_reviews',\n",
       " 'nb_5s_reviews',\n",
       " 'nb_applications',\n",
       " 'nb_sits_completed',\n",
       " 'nb_domestic_sits',\n",
       " 'nb_local_sits',\n",
       " 'nb_sits_booked',\n",
       " 'years_of_experience',\n",
       " 'nb_of_sitter_pets',\n",
       " 'daily_minutes_willing_to_walk_dogs',\n",
       " 'days_since_modified',\n",
       " 'five_star_ratio']"
      ]
     },
     "execution_count": 28,
     "metadata": {},
     "output_type": "execute_result"
    }
   ],
   "source": [
    "feature_columns"
   ]
  },
  {
   "cell_type": "code",
   "execution_count": 8,
   "id": "db3dbc29-6160-43d3-b7fb-c378560e6e88",
   "metadata": {},
   "outputs": [
    {
     "name": "stdout",
     "output_type": "stream",
     "text": [
      "CPU times: user 3min 24s, sys: 40.7 s, total: 4min 5s\n",
      "Wall time: 4min 6s\n"
     ]
    }
   ],
   "source": [
    "%%time\n",
    "gower_dist = gower.gower_matrix(profiles_df[feature_columns], cat_features=feature_types)"
   ]
  },
  {
   "cell_type": "code",
   "execution_count": 9,
   "id": "bfed4d3b-e56d-4f8b-9d14-d776bf86cf72",
   "metadata": {},
   "outputs": [
    {
     "data": {
      "text/plain": [
       "(33352, 33352)"
      ]
     },
     "execution_count": 9,
     "metadata": {},
     "output_type": "execute_result"
    }
   ],
   "source": [
    "gower_dist.shape"
   ]
  },
  {
   "cell_type": "code",
   "execution_count": 10,
   "id": "130368f6-0a23-4512-90d1-145334cfe314",
   "metadata": {},
   "outputs": [],
   "source": [
    "# save a copy of the distance matrix\n",
    "with open(INPROGRESS+'gower_distance.pickle', 'wb+') as fh:\n",
    "    pickle._dump(gower_dist, fh, protocol=pickle.HIGHEST_PROTOCOL)\n",
    "# fetch anew \n",
    "# with open(NPROGRESS+'gower_distance.pickle', 'rb') as fh:\n",
    "#     gower_dist=pickle.load(fh)"
   ]
  },
  {
   "cell_type": "code",
   "execution_count": 11,
   "id": "feaff55b-e8a6-43c8-bcd7-55f9211107ab",
   "metadata": {},
   "outputs": [
    {
     "name": "stdout",
     "output_type": "stream",
     "text": [
      "for k = 2, the kmedoids silhouette score is 0.5604557394981384\n",
      "for k = 3, the kmedoids silhouette score is 0.693577766418457\n",
      "for k = 4, the kmedoids silhouette score is 0.8177919983863831\n",
      "for k = 5, the kmedoids silhouette score is 0.873577892780304\n",
      "for k = 6, the kmedoids silhouette score is 0.8724480867385864\n",
      "for k = 7, the kmedoids silhouette score is 0.7066954970359802\n",
      "for k = 8, the kmedoids silhouette score is 0.557069718837738\n",
      "CPU times: user 59min 12s, sys: 21.5 s, total: 59min 33s\n",
      "Wall time: 59min 35s\n"
     ]
    }
   ],
   "source": [
    "%%time\n",
    "# use k-medoids clustering with mixed feature types. optimise the silhouette score to choose k, the number of clusters\n",
    "sil_scores = []\n",
    "range_n_clusters = range(2, 9)  # somewhere between 2 and 8 clusters\n",
    "\n",
    "for n_clusters in range_n_clusters:\n",
    "    # initialize kmedoids\n",
    "    kmedoids = KMedoids(n_clusters=n_clusters, metric='precomputed', method='pam', init='k-medoids++', random_state=42)\n",
    "    \n",
    "    # fit kmedoids to the distance matrix\n",
    "    kmedoids.fit(gower_dist)\n",
    "    \n",
    "    # collect the cluster labels\n",
    "    cluster_labels = kmedoids.labels_\n",
    "    \n",
    "    # silhouette score\n",
    "    silhouette_avg = silhouette_score(gower_dist, cluster_labels, metric='precomputed')\n",
    "    sil_scores.append(silhouette_avg)\n",
    "    print(f\"for k = {n_clusters}, the kmedoids silhouette score is {silhouette_avg}\")\n"
   ]
  },
  {
   "cell_type": "code",
   "execution_count": 20,
   "id": "d18cf538-3c51-4429-9f26-4a6d551376bc",
   "metadata": {},
   "outputs": [],
   "source": [
    "# save a copy of the silhuette scores\n",
    "with open(INPROGRESS+'profiles_silhuette_scores.pickle', 'wb+') as fh:\n",
    "    pickle._dump(sil_scores, fh, protocol=pickle.HIGHEST_PROTOCOL)\n",
    "# fetch anew \n",
    "# with open(NPROGRESS+'profiles_silhuette_scores.pickle', 'rb') as fh:\n",
    "#     sil_scores=pickle.load(fh)"
   ]
  },
  {
   "cell_type": "code",
   "execution_count": 14,
   "id": "93c311bd-effa-4d5b-ba75-faf002f966f9",
   "metadata": {},
   "outputs": [
    {
     "name": "stdout",
     "output_type": "stream",
     "text": [
      "optimal number of clusters (by silhouette score): 6\n"
     ]
    },
    {
     "data": {
      "image/png": "[encoded data removed]",
      "text/plain": [
       "<Figure size 1700x600 with 1 Axes>"
      ]
     },
     "metadata": {},
     "output_type": "display_data"
    }
   ],
   "source": [
    "plt.figure(figsize=(17, 6))\n",
    "plt.plot(range_n_clusters, sil_scores, 'o-')\n",
    "plt.xlabel('k')\n",
    "plt.ylabel(f'silhouette score')\n",
    "plt.ylim((0, 1))\n",
    "plt.savefig('../img/profiles_silhuette.png')\n",
    "plt.show()"
   ]
  },
  {
   "cell_type": "code",
   "execution_count": 25,
   "id": "406f5683-7b40-406a-b117-4191c8806731",
   "metadata": {},
   "outputs": [],
   "source": [
    "# optimal_n_clusters = range_n_clusters[np.argmax(sil_scores)] # 5 clusters are optimal\n",
    "# print(f\"optimal number of clusters (by silhouette score): {optimal_n_clusters}\")\n",
    "optimal_n_clusters = 5 # test this instead"
   ]
  },
  {
   "cell_type": "code",
   "execution_count": 27,
   "id": "f92fe7ca-b6b0-481a-899c-3c412571b9bb",
   "metadata": {},
   "outputs": [
    {
     "name": "stdout",
     "output_type": "stream",
     "text": [
      "k= 5\n",
      "CPU times: user 5min 45s, sys: 5.42 s, total: 5min 51s\n",
      "Wall time: 5min 55s\n"
     ]
    },
    {
     "data": {
      "text/html": [
       "<style>#sk-container-id-3 {color: black;}#sk-container-id-3 pre{padding: 0;}#sk-container-id-3 div.sk-toggleable {background-color: white;}#sk-container-id-3 label.sk-toggleable__label {cursor: pointer;display: block;width: 100%;margin-bottom: 0;padding: 0.3em;box-sizing: border-box;text-align: center;}#sk-container-id-3 label.sk-toggleable__label-arrow:before {content: \"▸\";float: left;margin-right: 0.25em;color: #696969;}#sk-container-id-3 label.sk-toggleable__label-arrow:hover:before {color: black;}#sk-container-id-3 div.sk-estimator:hover label.sk-toggleable__label-arrow:before {color: black;}#sk-container-id-3 div.sk-toggleable__content {max-height: 0;max-width: 0;overflow: hidden;text-align: left;background-color: #f0f8ff;}#sk-container-id-3 div.sk-toggleable__content pre {margin: 0.2em;color: black;border-radius: 0.25em;background-color: #f0f8ff;}#sk-container-id-3 input.sk-toggleable__control:checked~div.sk-toggleable__content {max-height: 200px;max-width: 100%;overflow: auto;}#sk-container-id-3 input.sk-toggleable__control:checked~label.sk-toggleable__label-arrow:before {content: \"▾\";}#sk-container-id-3 div.sk-estimator input.sk-toggleable__control:checked~label.sk-toggleable__label {background-color: #d4ebff;}#sk-container-id-3 div.sk-label input.sk-toggleable__control:checked~label.sk-toggleable__label {background-color: #d4ebff;}#sk-container-id-3 input.sk-hidden--visually {border: 0;clip: rect(1px 1px 1px 1px);clip: rect(1px, 1px, 1px, 1px);height: 1px;margin: -1px;overflow: hidden;padding: 0;position: absolute;width: 1px;}#sk-container-id-3 div.sk-estimator {font-family: monospace;background-color: #f0f8ff;border: 1px dotted black;border-radius: 0.25em;box-sizing: border-box;margin-bottom: 0.5em;}#sk-container-id-3 div.sk-estimator:hover {background-color: #d4ebff;}#sk-container-id-3 div.sk-parallel-item::after {content: \"\";width: 100%;border-bottom: 1px solid gray;flex-grow: 1;}#sk-container-id-3 div.sk-label:hover label.sk-toggleable__label {background-color: #d4ebff;}#sk-container-id-3 div.sk-serial::before {content: \"\";position: absolute;border-left: 1px solid gray;box-sizing: border-box;top: 0;bottom: 0;left: 50%;z-index: 0;}#sk-container-id-3 div.sk-serial {display: flex;flex-direction: column;align-items: center;background-color: white;padding-right: 0.2em;padding-left: 0.2em;position: relative;}#sk-container-id-3 div.sk-item {position: relative;z-index: 1;}#sk-container-id-3 div.sk-parallel {display: flex;align-items: stretch;justify-content: center;background-color: white;position: relative;}#sk-container-id-3 div.sk-item::before, #sk-container-id-3 div.sk-parallel-item::before {content: \"\";position: absolute;border-left: 1px solid gray;box-sizing: border-box;top: 0;bottom: 0;left: 50%;z-index: -1;}#sk-container-id-3 div.sk-parallel-item {display: flex;flex-direction: column;z-index: 1;position: relative;background-color: white;}#sk-container-id-3 div.sk-parallel-item:first-child::after {align-self: flex-end;width: 50%;}#sk-container-id-3 div.sk-parallel-item:last-child::after {align-self: flex-start;width: 50%;}#sk-container-id-3 div.sk-parallel-item:only-child::after {width: 0;}#sk-container-id-3 div.sk-dashed-wrapped {border: 1px dashed gray;margin: 0 0.4em 0.5em 0.4em;box-sizing: border-box;padding-bottom: 0.4em;background-color: white;}#sk-container-id-3 div.sk-label label {font-family: monospace;font-weight: bold;display: inline-block;line-height: 1.2em;}#sk-container-id-3 div.sk-label-container {text-align: center;}#sk-container-id-3 div.sk-container {/* jupyter's `normalize.less` sets `[hidden] { display: none; }` but bootstrap.min.css set `[hidden] { display: none !important; }` so we also need the `!important` here to be able to override the default hidden behavior on the sphinx rendered scikit-learn.org. See: https://github.com/scikit-learn/scikit-learn/issues/21755 */display: inline-block !important;position: relative;}#sk-container-id-3 div.sk-text-repr-fallback {display: none;}</style><div id=\"sk-container-id-3\" class=\"sk-top-container\"><div class=\"sk-text-repr-fallback\"><pre>KMedoids(init=&#x27;k-medoids++&#x27;, method=&#x27;pam&#x27;, metric=&#x27;precomputed&#x27;, n_clusters=5,\n",
       "         random_state=42)</pre><b>In a Jupyter environment, please rerun this cell to show the HTML representation or trust the notebook. <br />On GitHub, the HTML representation is unable to render, please try loading this page with nbviewer.org.</b></div><div class=\"sk-container\" hidden><div class=\"sk-item\"><div class=\"sk-estimator sk-toggleable\"><input class=\"sk-toggleable__control sk-hidden--visually\" id=\"sk-estimator-id-3\" type=\"checkbox\" checked><label for=\"sk-estimator-id-3\" class=\"sk-toggleable__label sk-toggleable__label-arrow\">KMedoids</label><div class=\"sk-toggleable__content\"><pre>KMedoids(init=&#x27;k-medoids++&#x27;, method=&#x27;pam&#x27;, metric=&#x27;precomputed&#x27;, n_clusters=5,\n",
       "         random_state=42)</pre></div></div></div></div></div>"
      ],
      "text/plain": [
       "KMedoids(init='k-medoids++', method='pam', metric='precomputed', n_clusters=5,\n",
       "         random_state=42)"
      ]
     },
     "execution_count": 27,
     "metadata": {},
     "output_type": "execute_result"
    }
   ],
   "source": [
    "%%time\n",
    "print('k =',optimal_n_clusters)\n",
    "kmedoids = KMedoids(n_clusters=optimal_n_clusters, metric='precomputed', method='pam', init='k-medoids++', random_state=42)\n",
    "kmedoids.fit(gower_dist)"
   ]
  },
  {
   "cell_type": "code",
   "execution_count": 16,
   "id": "94a78450-85c3-4d2f-be35-cbc8f4b72878",
   "metadata": {},
   "outputs": [],
   "source": [
    "# save a copy of the kmedoids model\n",
    "with open(INPROGRESS+'kmedoids_model_k5.pickle', 'wb+') as fh:\n",
    "    pickle._dump(kmedoids, fh, protocol=pickle.HIGHEST_PROTOCOL)\n",
    "# fetch anew \n",
    "# with open(INPROGRESS+'kmedoids_model_k5.pickle', 'rb') as fh:\n",
    "#     kmedoids=pickle.load(fh)\n",
    "# with open(INPROGRESS+'kmedoids_model_k6.pickle', 'rb') as fh:\n",
    "#     kmedoids=pickle.load(fh)"
   ]
  },
  {
   "cell_type": "code",
   "execution_count": 17,
   "id": "5e22977d-68d4-4c60-95e6-f7ed645ef9d1",
   "metadata": {},
   "outputs": [],
   "source": [
    "# put cluster labels on the sitter profiles\n",
    "profiles_df['cluster'] = kmedoids.labels_"
   ]
  },
  {
   "cell_type": "code",
   "execution_count": 18,
   "id": "0eeec1d8-d12a-4404-8fa9-7106351c41df",
   "metadata": {},
   "outputs": [],
   "source": [
    "%%time\n",
    "# visualize the clusters using dimensionality reduction\n",
    "# scaled distance matrix --> similarity matrix\n",
    "similarity_matrix = 1 - gower_dist\n",
    "\n",
    "# principal component analysis to reduce dataset to 2 dimensions for visualization\n",
    "pca = PCA(n_components=2)\n",
    "pca_result = pca.fit_transform(similarity_matrix)\n",
    "\n"
   ]
  },
  {
   "cell_type": "code",
   "execution_count": 19,
   "id": "a6213386-c98c-423a-b696-41eb1a21b5d7",
   "metadata": {},
   "outputs": [],
   "source": [
    "# save a copy of the kmedoids model\n",
    "with open(INPROGRESS+'profiles_dim_red_pca_k5.pickle', 'wb+') as fh:\n",
    "    pickle._dump(pca_result, fh, protocol=pickle.HIGHEST_PROTOCOL)\n",
    "\n",
    "# fetch anew \n",
    "# with open(INPROGRESS+'profiles_dim_red_pca_k5.pickle', 'rb') as fh:\n",
    "#     pca_result=pickle.load(fh)\n",
    "# with open(INPROGRESS+'profiles_dim_red_pca_k6.pickle', 'rb') as fh:\n",
    "#     pca_result=pickle.load(fh)"
   ]
  },
  {
   "cell_type": "code",
   "execution_count": 22,
   "id": "9e35ecf7-41b8-48e2-a832-d11df913dc78",
   "metadata": {},
   "outputs": [
    {
     "data": {
      "image/png": "[encoded data removed]",
      "text/plain": [
       "<Figure size 1700x800 with 1 Axes>"
      ]
     },
     "metadata": {},
     "output_type": "display_data"
    }
   ],
   "source": [
    "# a dataframe just for plotting\n",
    "plot_df = pd.DataFrame({\n",
    "    'dimension_1': pca_result[:, 0],\n",
    "    'dimension_2': pca_result[:, 1],\n",
    "    'cluster_label': profiles_df['cluster']\n",
    "})\n",
    "\n",
    "# Plot the clusters\n",
    "plt.figure(figsize=(17, 8))\n",
    "sns.scatterplot(x='dimension_1', y='dimension_2', hue='cluster_label', data=plot_df, palette='viridis', s=100)\n",
    "# mark the medoids\n",
    "for i, medoid_idx in enumerate(kmedoids.medoid_indices_):\n",
    "    plt.scatter(pca_result[medoid_idx, 0], pca_result[medoid_idx, 1], \n",
    "                s=300, linewidth=2, \n",
    "                facecolors='none', edgecolors='red',\n",
    "                label='medoid' if i == 0 else \"\")\n",
    "plt.legend()\n",
    "plt.title(f'PCA visualization of clusters of Housesitters profiles, k = {optimal_n_clusters}')\n",
    "plt.savefig(f'../img/profiles_cluster_separation_k{optimal_n_clusters}.png')\n",
    "plt.show()"
   ]
  },
  {
   "cell_type": "markdown",
   "id": "9c2daa3d-01a5-4ecd-87a2-252dcd11fcee",
   "metadata": {},
   "source": [
    "- cluster 0 is split. some observations are tightly compact in the lower left and in a mixed cluster on the mid left, local \n",
    "- cluster 1 is itselft split into three subclusters but they all seem pure.\n",
    "- cluster 2 is the only fully isolated and pure cluster\n",
    "- cluster 3 and cluster 2 are mixed up with some of cluster 0"
   ]
  },
  {
   "cell_type": "code",
   "execution_count": 100,
   "id": "d8c6003d-ca85-40a6-868e-b9ede72e32cd",
   "metadata": {},
   "outputs": [
    {
     "data": {
      "text/plain": [
       "cluster\n",
       "2    15107\n",
       "0    12278\n",
       "3     2538\n",
       "1     2128\n",
       "4     1301\n",
       "Name: count, dtype: int64"
      ]
     },
     "metadata": {},
     "output_type": "display_data"
    },
    {
     "name": "stdout",
     "output_type": "stream",
     "text": [
      "-----------------------------------\n",
      "cluster 0 characteristics:\n",
      "cluster contains 12278 housesitters profiles\n",
      "travelling_as distribution:\n"
     ]
    },
    {
     "data": {
      "text/plain": [
       "FM    0.982489\n",
       "MM    0.006434\n",
       "N     0.002932\n",
       "U     0.002036\n",
       "FN    0.001303\n",
       "X     0.001140\n",
       "FX    0.000814\n",
       "NN    0.000652\n",
       "MU    0.000489\n",
       "UU    0.000489\n",
       "MN    0.000326\n",
       "FU    0.000326\n",
       "MX    0.000244\n",
       "T     0.000163\n",
       "NT    0.000163\n",
       "Name: proportion, dtype: float64"
      ]
     },
     "metadata": {},
     "output_type": "display_data"
    },
    {
     "name": "stdout",
     "output_type": "stream",
     "text": [
      "with_children distribution:\n"
     ]
    },
    {
     "data": {
      "text/plain": [
       "False    1.0\n",
       "Name: proportion, dtype: float64"
      ]
     },
     "metadata": {},
     "output_type": "display_data"
    },
    {
     "name": "stdout",
     "output_type": "stream",
     "text": [
      "sitting_with_another distribution:\n"
     ]
    },
    {
     "data": {
      "text/plain": [
       "True     0.989656\n",
       "False    0.010344\n",
       "Name: proportion, dtype: float64"
      ]
     },
     "metadata": {},
     "output_type": "display_data"
    },
    {
     "name": "stdout",
     "output_type": "stream",
     "text": [
      "occupation_type distribution:\n"
     ]
    },
    {
     "data": {
      "text/plain": [
       "employed                    0.299379\n",
       "retired                     0.277796\n",
       "self-employed               0.200458\n",
       "working-while-travelling    0.140043\n",
       "taking-time-off             0.082325\n",
       "Name: proportion, dtype: float64"
      ]
     },
     "metadata": {},
     "output_type": "display_data"
    },
    {
     "name": "stdout",
     "output_type": "stream",
     "text": [
      "prev_sitting_experience distribution:\n"
     ]
    },
    {
     "data": {
      "text/plain": [
       "True     0.940055\n",
       "False    0.059945\n",
       "Name: proportion, dtype: float64"
      ]
     },
     "metadata": {},
     "output_type": "display_data"
    },
    {
     "name": "stdout",
     "output_type": "stream",
     "text": [
      "other_animals distribution:\n"
     ]
    },
    {
     "data": {
      "text/plain": [
       "True    1.0\n",
       "Name: proportion, dtype: float64"
      ]
     },
     "metadata": {},
     "output_type": "display_data"
    },
    {
     "name": "stdout",
     "output_type": "stream",
     "text": [
      "has_dog_experience distribution:\n"
     ]
    },
    {
     "data": {
      "text/plain": [
       "True     0.971901\n",
       "False    0.028099\n",
       "Name: proportion, dtype: float64"
      ]
     },
     "metadata": {},
     "output_type": "display_data"
    },
    {
     "name": "stdout",
     "output_type": "stream",
     "text": [
      "has_cat_experience distribution:\n"
     ]
    },
    {
     "data": {
      "text/plain": [
       "True     0.954227\n",
       "False    0.045773\n",
       "Name: proportion, dtype: float64"
      ]
     },
     "metadata": {},
     "output_type": "display_data"
    },
    {
     "name": "stdout",
     "output_type": "stream",
     "text": [
      "has_reptile_experience distribution:\n"
     ]
    },
    {
     "data": {
      "text/plain": [
       "False    0.75957\n",
       "True     0.24043\n",
       "Name: proportion, dtype: float64"
      ]
     },
     "metadata": {},
     "output_type": "display_data"
    },
    {
     "name": "stdout",
     "output_type": "stream",
     "text": [
      "has_horse_experience distribution:\n"
     ]
    },
    {
     "data": {
      "text/plain": [
       "False    0.738964\n",
       "True     0.261036\n",
       "Name: proportion, dtype: float64"
      ]
     },
     "metadata": {},
     "output_type": "display_data"
    },
    {
     "name": "stdout",
     "output_type": "stream",
     "text": [
      "has_fish_experience distribution:\n"
     ]
    },
    {
     "data": {
      "text/plain": [
       "True     0.674377\n",
       "False    0.325623\n",
       "Name: proportion, dtype: float64"
      ]
     },
     "metadata": {},
     "output_type": "display_data"
    },
    {
     "name": "stdout",
     "output_type": "stream",
     "text": [
      "has_poultry_experience distribution:\n"
     ]
    },
    {
     "data": {
      "text/plain": [
       "True     0.510262\n",
       "False    0.489738\n",
       "Name: proportion, dtype: float64"
      ]
     },
     "metadata": {},
     "output_type": "display_data"
    },
    {
     "name": "stdout",
     "output_type": "stream",
     "text": [
      "has_farm_animal_experience distribution:\n"
     ]
    },
    {
     "data": {
      "text/plain": [
       "False    0.680648\n",
       "True     0.319352\n",
       "Name: proportion, dtype: float64"
      ]
     },
     "metadata": {},
     "output_type": "display_data"
    },
    {
     "name": "stdout",
     "output_type": "stream",
     "text": [
      "has_bird_experience distribution:\n"
     ]
    },
    {
     "data": {
      "text/plain": [
       "False    0.588207\n",
       "True     0.411793\n",
       "Name: proportion, dtype: float64"
      ]
     },
     "metadata": {},
     "output_type": "display_data"
    },
    {
     "name": "stdout",
     "output_type": "stream",
     "text": [
      "has_small_pet_experience distribution:\n"
     ]
    },
    {
     "data": {
      "text/plain": [
       "True     0.659146\n",
       "False    0.340854\n",
       "Name: proportion, dtype: float64"
      ]
     },
     "metadata": {},
     "output_type": "display_data"
    },
    {
     "name": "stdout",
     "output_type": "stream",
     "text": [
      "prefers_all_countries distribution:\n"
     ]
    },
    {
     "data": {
      "text/plain": [
       "True     0.641635\n",
       "False    0.358365\n",
       "Name: proportion, dtype: float64"
      ]
     },
     "metadata": {},
     "output_type": "display_data"
    },
    {
     "name": "stdout",
     "output_type": "stream",
     "text": [
      "happy_to_meet_in_person distribution:\n"
     ]
    },
    {
     "data": {
      "text/plain": [
       "True     0.996253\n",
       "False    0.003747\n",
       "Name: proportion, dtype: float64"
      ]
     },
     "metadata": {},
     "output_type": "display_data"
    },
    {
     "name": "stdout",
     "output_type": "stream",
     "text": [
      "happy_to_video_call distribution:\n"
     ]
    },
    {
     "data": {
      "text/plain": [
       "True     0.999674\n",
       "False    0.000326\n",
       "Name: proportion, dtype: float64"
      ]
     },
     "metadata": {},
     "output_type": "display_data"
    },
    {
     "name": "stdout",
     "output_type": "stream",
     "text": [
      "interested_in_remote_working distribution:\n"
     ]
    },
    {
     "data": {
      "text/plain": [
       "True     0.93696\n",
       "False    0.06304\n",
       "Name: proportion, dtype: float64"
      ]
     },
     "metadata": {},
     "output_type": "display_data"
    },
    {
     "name": "stdout",
     "output_type": "stream",
     "text": [
      "interested_in_dogs distribution:\n"
     ]
    },
    {
     "data": {
      "text/plain": [
       "False    0.878075\n",
       "True     0.121925\n",
       "Name: proportion, dtype: float64"
      ]
     },
     "metadata": {},
     "output_type": "display_data"
    },
    {
     "name": "stdout",
     "output_type": "stream",
     "text": [
      "interested_in_cats distribution:\n"
     ]
    },
    {
     "data": {
      "text/plain": [
       "False    0.874084\n",
       "True     0.125916\n",
       "Name: proportion, dtype: float64"
      ]
     },
     "metadata": {},
     "output_type": "display_data"
    },
    {
     "name": "stdout",
     "output_type": "stream",
     "text": [
      "interested_in_reptiles distribution:\n"
     ]
    },
    {
     "data": {
      "text/plain": [
       "False    0.940707\n",
       "True     0.059293\n",
       "Name: proportion, dtype: float64"
      ]
     },
     "metadata": {},
     "output_type": "display_data"
    },
    {
     "name": "stdout",
     "output_type": "stream",
     "text": [
      "interested_in_horses distribution:\n"
     ]
    },
    {
     "data": {
      "text/plain": [
       "False    0.955123\n",
       "True     0.044877\n",
       "Name: proportion, dtype: float64"
      ]
     },
     "metadata": {},
     "output_type": "display_data"
    },
    {
     "name": "stdout",
     "output_type": "stream",
     "text": [
      "interested_in_fish distribution:\n"
     ]
    },
    {
     "data": {
      "text/plain": [
       "False    0.893387\n",
       "True     0.106613\n",
       "Name: proportion, dtype: float64"
      ]
     },
     "metadata": {},
     "output_type": "display_data"
    },
    {
     "name": "stdout",
     "output_type": "stream",
     "text": [
      "interested_in_poultry distribution:\n"
     ]
    },
    {
     "data": {
      "text/plain": [
       "False    0.911631\n",
       "True     0.088369\n",
       "Name: proportion, dtype: float64"
      ]
     },
     "metadata": {},
     "output_type": "display_data"
    },
    {
     "name": "stdout",
     "output_type": "stream",
     "text": [
      "interested_in_farm_animals distribution:\n"
     ]
    },
    {
     "data": {
      "text/plain": [
       "False    0.943883\n",
       "True     0.056117\n",
       "Name: proportion, dtype: float64"
      ]
     },
     "metadata": {},
     "output_type": "display_data"
    },
    {
     "name": "stdout",
     "output_type": "stream",
     "text": [
      "interested_in_birds distribution:\n"
     ]
    },
    {
     "data": {
      "text/plain": [
       "False    0.923929\n",
       "True     0.076071\n",
       "Name: proportion, dtype: float64"
      ]
     },
     "metadata": {},
     "output_type": "display_data"
    },
    {
     "name": "stdout",
     "output_type": "stream",
     "text": [
      "interested_in_small_pets distribution:\n"
     ]
    },
    {
     "data": {
      "text/plain": [
       "False    0.891269\n",
       "True     0.108731\n",
       "Name: proportion, dtype: float64"
      ]
     },
     "metadata": {},
     "output_type": "display_data"
    },
    {
     "name": "stdout",
     "output_type": "stream",
     "text": [
      "with_a_baby distribution:\n"
     ]
    },
    {
     "data": {
      "text/plain": [
       "False    1.0\n",
       "Name: proportion, dtype: float64"
      ]
     },
     "metadata": {},
     "output_type": "display_data"
    },
    {
     "name": "stdout",
     "output_type": "stream",
     "text": [
      "with_a_toddler distribution:\n"
     ]
    },
    {
     "data": {
      "text/plain": [
       "False    1.0\n",
       "Name: proportion, dtype: float64"
      ]
     },
     "metadata": {},
     "output_type": "display_data"
    },
    {
     "name": "stdout",
     "output_type": "stream",
     "text": [
      "with_a_child distribution:\n"
     ]
    },
    {
     "data": {
      "text/plain": [
       "False    1.0\n",
       "Name: proportion, dtype: float64"
      ]
     },
     "metadata": {},
     "output_type": "display_data"
    },
    {
     "name": "stdout",
     "output_type": "stream",
     "text": [
      "with_a_teen distribution:\n"
     ]
    },
    {
     "data": {
      "text/plain": [
       "False    1.0\n",
       "Name: proportion, dtype: float64"
      ]
     },
     "metadata": {},
     "output_type": "display_data"
    },
    {
     "name": "stdout",
     "output_type": "stream",
     "text": [
      "dog_skills distribution:\n"
     ]
    },
    {
     "data": {
      "text/plain": [
       "False    0.790031\n",
       "True     0.209969\n",
       "Name: proportion, dtype: float64"
      ]
     },
     "metadata": {},
     "output_type": "display_data"
    },
    {
     "name": "stdout",
     "output_type": "stream",
     "text": [
      "cat_skills distribution:\n"
     ]
    },
    {
     "data": {
      "text/plain": [
       "False    0.769914\n",
       "True     0.230086\n",
       "Name: proportion, dtype: float64"
      ]
     },
     "metadata": {},
     "output_type": "display_data"
    },
    {
     "name": "stdout",
     "output_type": "stream",
     "text": [
      "can_give_medicine distribution:\n"
     ]
    },
    {
     "data": {
      "text/plain": [
       "False    0.793615\n",
       "True     0.206385\n",
       "Name: proportion, dtype: float64"
      ]
     },
     "metadata": {},
     "output_type": "display_data"
    },
    {
     "name": "stdout",
     "output_type": "stream",
     "text": [
      "big_dog_preferences distribution:\n"
     ]
    },
    {
     "data": {
      "text/plain": [
       "False    0.913993\n",
       "True     0.086007\n",
       "Name: proportion, dtype: float64"
      ]
     },
     "metadata": {},
     "output_type": "display_data"
    },
    {
     "name": "stdout",
     "output_type": "stream",
     "text": [
      "small_dog_preferences distribution:\n"
     ]
    },
    {
     "data": {
      "text/plain": [
       "False    0.900309\n",
       "True     0.099691\n",
       "Name: proportion, dtype: float64"
      ]
     },
     "metadata": {},
     "output_type": "display_data"
    },
    {
     "name": "stdout",
     "output_type": "stream",
     "text": [
      "wish_list_city distribution:\n"
     ]
    },
    {
     "data": {
      "text/plain": [
       "True     0.770647\n",
       "False    0.229353\n",
       "Name: proportion, dtype: float64"
      ]
     },
     "metadata": {},
     "output_type": "display_data"
    },
    {
     "name": "stdout",
     "output_type": "stream",
     "text": [
      "wish_list_beach distribution:\n"
     ]
    },
    {
     "data": {
      "text/plain": [
       "True     0.815116\n",
       "False    0.184884\n",
       "Name: proportion, dtype: float64"
      ]
     },
     "metadata": {},
     "output_type": "display_data"
    },
    {
     "name": "stdout",
     "output_type": "stream",
     "text": [
      "wish_list_mountain distribution:\n"
     ]
    },
    {
     "data": {
      "text/plain": [
       "True     0.780257\n",
       "False    0.219743\n",
       "Name: proportion, dtype: float64"
      ]
     },
     "metadata": {},
     "output_type": "display_data"
    },
    {
     "name": "stdout",
     "output_type": "stream",
     "text": [
      "wish_list_countryside distribution:\n"
     ]
    },
    {
     "data": {
      "text/plain": [
       "True     0.80013\n",
       "False    0.19987\n",
       "Name: proportion, dtype: float64"
      ]
     },
     "metadata": {},
     "output_type": "display_data"
    },
    {
     "name": "stdout",
     "output_type": "stream",
     "text": [
      "pct_complete statistics:\n",
      "count    12278.000000\n",
      "mean        88.446978\n",
      "std          5.448097\n",
      "min         76.000000\n",
      "25%         84.000000\n",
      "50%         84.000000\n",
      "75%         94.000000\n",
      "max        100.000000\n",
      "Name: pct_complete, dtype: float64\n",
      "nb_reviews statistics:\n",
      "count    12278.000000\n",
      "mean        10.427350\n",
      "std         13.284908\n",
      "min          0.000000\n",
      "25%          2.000000\n",
      "50%          6.000000\n",
      "75%         14.000000\n",
      "max        175.000000\n",
      "Name: nb_reviews, dtype: float64\n",
      "nb_5s_reviews statistics:\n",
      "count    12278.000000\n",
      "mean         9.871966\n",
      "std         12.693743\n",
      "min          0.000000\n",
      "25%          2.000000\n",
      "50%          5.000000\n",
      "75%         13.000000\n",
      "max        160.000000\n",
      "Name: nb_5s_reviews, dtype: float64\n",
      "nb_applications statistics:\n",
      "count    12278.000000\n",
      "mean        81.296791\n",
      "std        119.551056\n",
      "min          1.000000\n",
      "25%         18.000000\n",
      "50%         44.000000\n",
      "75%         99.000000\n",
      "max       3608.000000\n",
      "Name: nb_applications, dtype: float64\n",
      "nb_sits_completed statistics:\n",
      "count    12278.000000\n",
      "mean        11.924499\n",
      "std         15.056871\n",
      "min          0.000000\n",
      "25%          3.000000\n",
      "50%          7.000000\n",
      "75%         15.000000\n",
      "max        191.000000\n",
      "Name: nb_sits_completed, dtype: float64\n",
      "nb_domestic_sits statistics:\n",
      "count    12278.000000\n",
      "mean         7.762095\n",
      "std         12.149855\n",
      "min          0.000000\n",
      "25%          1.000000\n",
      "50%          3.000000\n",
      "75%         10.000000\n",
      "max        174.000000\n",
      "Name: nb_domestic_sits, dtype: float64\n",
      "nb_local_sits statistics:\n",
      "count    12278.000000\n",
      "mean         0.872862\n",
      "std          2.952566\n",
      "min          0.000000\n",
      "25%          0.000000\n",
      "50%          0.000000\n",
      "75%          1.000000\n",
      "max         74.000000\n",
      "Name: nb_local_sits, dtype: float64\n",
      "nb_sits_booked statistics:\n",
      "count    12278.000000\n",
      "mean         0.318863\n",
      "std          1.026514\n",
      "min          0.000000\n",
      "25%          0.000000\n",
      "50%          0.000000\n",
      "75%          0.000000\n",
      "max         14.000000\n",
      "Name: nb_sits_booked, dtype: float64\n",
      "years_of_experience statistics:\n",
      "count    12278.000000\n",
      "mean         2.517918\n",
      "std          4.137547\n",
      "min          0.000000\n",
      "25%          0.000000\n",
      "50%          0.000000\n",
      "75%          5.000000\n",
      "max         10.000000\n",
      "Name: years_of_experience, dtype: float64\n",
      "nb_of_sitter_pets statistics:\n",
      "count    12278.000000\n",
      "mean         0.726421\n",
      "std          2.304647\n",
      "min          0.000000\n",
      "25%          0.000000\n",
      "50%          0.000000\n",
      "75%          0.000000\n",
      "max         11.000000\n",
      "Name: nb_of_sitter_pets, dtype: float64\n",
      "daily_minutes_willing_to_walk_dogs statistics:\n",
      "count    12278.000000\n",
      "mean        12.334256\n",
      "std         39.794925\n",
      "min          0.000000\n",
      "25%          0.000000\n",
      "50%          0.000000\n",
      "75%          0.000000\n",
      "max        180.000000\n",
      "Name: daily_minutes_willing_to_walk_dogs, dtype: float64\n",
      "days_since_modified statistics:\n",
      "count    12278.000000\n",
      "mean       432.621029\n",
      "std        336.805369\n",
      "min         51.000000\n",
      "25%        119.000000\n",
      "50%        324.000000\n",
      "75%        753.000000\n",
      "max       2650.000000\n",
      "Name: days_since_modified, dtype: float64\n",
      "five_star_ratio statistics:\n",
      "count    12278.000000\n",
      "mean         0.908689\n",
      "std          0.219442\n",
      "min          0.000000\n",
      "25%          0.923077\n",
      "50%          1.000000\n",
      "75%          1.000000\n",
      "max          1.000000\n",
      "Name: five_star_ratio, dtype: float64\n",
      "-----------------------------------\n",
      "-----------------------------------\n",
      "cluster 1 characteristics:\n",
      "cluster contains 2128 housesitters profiles\n",
      "travelling_as distribution:\n"
     ]
    },
    {
     "data": {
      "text/plain": [
       "FM    0.631109\n",
       "F     0.304511\n",
       "FF    0.029135\n",
       "M     0.026316\n",
       "FX    0.002350\n",
       "MM    0.001880\n",
       "FN    0.001410\n",
       "MX    0.000940\n",
       "X     0.000940\n",
       "UU    0.000470\n",
       "MN    0.000470\n",
       "N     0.000470\n",
       "Name: proportion, dtype: float64"
      ]
     },
     "metadata": {},
     "output_type": "display_data"
    },
    {
     "name": "stdout",
     "output_type": "stream",
     "text": [
      "with_children distribution:\n"
     ]
    },
    {
     "data": {
      "text/plain": [
       "True    1.0\n",
       "Name: proportion, dtype: float64"
      ]
     },
     "metadata": {},
     "output_type": "display_data"
    },
    {
     "name": "stdout",
     "output_type": "stream",
     "text": [
      "sitting_with_another distribution:\n"
     ]
    },
    {
     "data": {
      "text/plain": [
       "True     0.662124\n",
       "False    0.337876\n",
       "Name: proportion, dtype: float64"
      ]
     },
     "metadata": {},
     "output_type": "display_data"
    },
    {
     "name": "stdout",
     "output_type": "stream",
     "text": [
      "occupation_type distribution:\n"
     ]
    },
    {
     "data": {
      "text/plain": [
       "employed                    0.432203\n",
       "self-employed               0.311676\n",
       "working-while-travelling    0.146893\n",
       "taking-time-off             0.088041\n",
       "retired                     0.021186\n",
       "Name: proportion, dtype: float64"
      ]
     },
     "metadata": {},
     "output_type": "display_data"
    },
    {
     "name": "stdout",
     "output_type": "stream",
     "text": [
      "prev_sitting_experience distribution:\n"
     ]
    },
    {
     "data": {
      "text/plain": [
       "True     0.930921\n",
       "False    0.069079\n",
       "Name: proportion, dtype: float64"
      ]
     },
     "metadata": {},
     "output_type": "display_data"
    },
    {
     "name": "stdout",
     "output_type": "stream",
     "text": [
      "other_animals distribution:\n"
     ]
    },
    {
     "data": {
      "text/plain": [
       "True    1.0\n",
       "Name: proportion, dtype: float64"
      ]
     },
     "metadata": {},
     "output_type": "display_data"
    },
    {
     "name": "stdout",
     "output_type": "stream",
     "text": [
      "has_dog_experience distribution:\n"
     ]
    },
    {
     "data": {
      "text/plain": [
       "True     0.973214\n",
       "False    0.026786\n",
       "Name: proportion, dtype: float64"
      ]
     },
     "metadata": {},
     "output_type": "display_data"
    },
    {
     "name": "stdout",
     "output_type": "stream",
     "text": [
      "has_cat_experience distribution:\n"
     ]
    },
    {
     "data": {
      "text/plain": [
       "True     0.957237\n",
       "False    0.042763\n",
       "Name: proportion, dtype: float64"
      ]
     },
     "metadata": {},
     "output_type": "display_data"
    },
    {
     "name": "stdout",
     "output_type": "stream",
     "text": [
      "has_reptile_experience distribution:\n"
     ]
    },
    {
     "data": {
      "text/plain": [
       "False    0.726034\n",
       "True     0.273966\n",
       "Name: proportion, dtype: float64"
      ]
     },
     "metadata": {},
     "output_type": "display_data"
    },
    {
     "name": "stdout",
     "output_type": "stream",
     "text": [
      "has_horse_experience distribution:\n"
     ]
    },
    {
     "data": {
      "text/plain": [
       "False    0.68703\n",
       "True     0.31297\n",
       "Name: proportion, dtype: float64"
      ]
     },
     "metadata": {},
     "output_type": "display_data"
    },
    {
     "name": "stdout",
     "output_type": "stream",
     "text": [
      "has_fish_experience distribution:\n"
     ]
    },
    {
     "data": {
      "text/plain": [
       "True     0.729793\n",
       "False    0.270207\n",
       "Name: proportion, dtype: float64"
      ]
     },
     "metadata": {},
     "output_type": "display_data"
    },
    {
     "name": "stdout",
     "output_type": "stream",
     "text": [
      "has_poultry_experience distribution:\n"
     ]
    },
    {
     "data": {
      "text/plain": [
       "True     0.56532\n",
       "False    0.43468\n",
       "Name: proportion, dtype: float64"
      ]
     },
     "metadata": {},
     "output_type": "display_data"
    },
    {
     "name": "stdout",
     "output_type": "stream",
     "text": [
      "has_farm_animal_experience distribution:\n"
     ]
    },
    {
     "data": {
      "text/plain": [
       "False    0.630639\n",
       "True     0.369361\n",
       "Name: proportion, dtype: float64"
      ]
     },
     "metadata": {},
     "output_type": "display_data"
    },
    {
     "name": "stdout",
     "output_type": "stream",
     "text": [
      "has_bird_experience distribution:\n"
     ]
    },
    {
     "data": {
      "text/plain": [
       "False    0.574248\n",
       "True     0.425752\n",
       "Name: proportion, dtype: float64"
      ]
     },
     "metadata": {},
     "output_type": "display_data"
    },
    {
     "name": "stdout",
     "output_type": "stream",
     "text": [
      "has_small_pet_experience distribution:\n"
     ]
    },
    {
     "data": {
      "text/plain": [
       "True     0.75047\n",
       "False    0.24953\n",
       "Name: proportion, dtype: float64"
      ]
     },
     "metadata": {},
     "output_type": "display_data"
    },
    {
     "name": "stdout",
     "output_type": "stream",
     "text": [
      "prefers_all_countries distribution:\n"
     ]
    },
    {
     "data": {
      "text/plain": [
       "True     0.634868\n",
       "False    0.365132\n",
       "Name: proportion, dtype: float64"
      ]
     },
     "metadata": {},
     "output_type": "display_data"
    },
    {
     "name": "stdout",
     "output_type": "stream",
     "text": [
      "happy_to_meet_in_person distribution:\n"
     ]
    },
    {
     "data": {
      "text/plain": [
       "True     0.995301\n",
       "False    0.004699\n",
       "Name: proportion, dtype: float64"
      ]
     },
     "metadata": {},
     "output_type": "display_data"
    },
    {
     "name": "stdout",
     "output_type": "stream",
     "text": [
      "happy_to_video_call distribution:\n"
     ]
    },
    {
     "data": {
      "text/plain": [
       "True    1.0\n",
       "Name: proportion, dtype: float64"
      ]
     },
     "metadata": {},
     "output_type": "display_data"
    },
    {
     "name": "stdout",
     "output_type": "stream",
     "text": [
      "interested_in_remote_working distribution:\n"
     ]
    },
    {
     "data": {
      "text/plain": [
       "True     0.966635\n",
       "False    0.033365\n",
       "Name: proportion, dtype: float64"
      ]
     },
     "metadata": {},
     "output_type": "display_data"
    },
    {
     "name": "stdout",
     "output_type": "stream",
     "text": [
      "interested_in_dogs distribution:\n"
     ]
    },
    {
     "data": {
      "text/plain": [
       "False    0.911184\n",
       "True     0.088816\n",
       "Name: proportion, dtype: float64"
      ]
     },
     "metadata": {},
     "output_type": "display_data"
    },
    {
     "name": "stdout",
     "output_type": "stream",
     "text": [
      "interested_in_cats distribution:\n"
     ]
    },
    {
     "data": {
      "text/plain": [
       "False    0.910244\n",
       "True     0.089756\n",
       "Name: proportion, dtype: float64"
      ]
     },
     "metadata": {},
     "output_type": "display_data"
    },
    {
     "name": "stdout",
     "output_type": "stream",
     "text": [
      "interested_in_reptiles distribution:\n"
     ]
    },
    {
     "data": {
      "text/plain": [
       "False    0.940789\n",
       "True     0.059211\n",
       "Name: proportion, dtype: float64"
      ]
     },
     "metadata": {},
     "output_type": "display_data"
    },
    {
     "name": "stdout",
     "output_type": "stream",
     "text": [
      "interested_in_horses distribution:\n"
     ]
    },
    {
     "data": {
      "text/plain": [
       "False    0.954887\n",
       "True     0.045113\n",
       "Name: proportion, dtype: float64"
      ]
     },
     "metadata": {},
     "output_type": "display_data"
    },
    {
     "name": "stdout",
     "output_type": "stream",
     "text": [
      "interested_in_fish distribution:\n"
     ]
    },
    {
     "data": {
      "text/plain": [
       "False    0.915883\n",
       "True     0.084117\n",
       "Name: proportion, dtype: float64"
      ]
     },
     "metadata": {},
     "output_type": "display_data"
    },
    {
     "name": "stdout",
     "output_type": "stream",
     "text": [
      "interested_in_poultry distribution:\n"
     ]
    },
    {
     "data": {
      "text/plain": [
       "False    0.922932\n",
       "True     0.077068\n",
       "Name: proportion, dtype: float64"
      ]
     },
     "metadata": {},
     "output_type": "display_data"
    },
    {
     "name": "stdout",
     "output_type": "stream",
     "text": [
      "interested_in_farm_animals distribution:\n"
     ]
    },
    {
     "data": {
      "text/plain": [
       "False    0.945959\n",
       "True     0.054041\n",
       "Name: proportion, dtype: float64"
      ]
     },
     "metadata": {},
     "output_type": "display_data"
    },
    {
     "name": "stdout",
     "output_type": "stream",
     "text": [
      "interested_in_birds distribution:\n"
     ]
    },
    {
     "data": {
      "text/plain": [
       "False    0.93609\n",
       "True     0.06391\n",
       "Name: proportion, dtype: float64"
      ]
     },
     "metadata": {},
     "output_type": "display_data"
    },
    {
     "name": "stdout",
     "output_type": "stream",
     "text": [
      "interested_in_small_pets distribution:\n"
     ]
    },
    {
     "data": {
      "text/plain": [
       "False    0.909774\n",
       "True     0.090226\n",
       "Name: proportion, dtype: float64"
      ]
     },
     "metadata": {},
     "output_type": "display_data"
    },
    {
     "name": "stdout",
     "output_type": "stream",
     "text": [
      "with_a_baby distribution:\n"
     ]
    },
    {
     "data": {
      "text/plain": [
       "False    0.734962\n",
       "True     0.265038\n",
       "Name: proportion, dtype: float64"
      ]
     },
     "metadata": {},
     "output_type": "display_data"
    },
    {
     "name": "stdout",
     "output_type": "stream",
     "text": [
      "with_a_toddler distribution:\n"
     ]
    },
    {
     "data": {
      "text/plain": [
       "False    0.721335\n",
       "True     0.278665\n",
       "Name: proportion, dtype: float64"
      ]
     },
     "metadata": {},
     "output_type": "display_data"
    },
    {
     "name": "stdout",
     "output_type": "stream",
     "text": [
      "with_a_child distribution:\n"
     ]
    },
    {
     "data": {
      "text/plain": [
       "False    0.604793\n",
       "True     0.395207\n",
       "Name: proportion, dtype: float64"
      ]
     },
     "metadata": {},
     "output_type": "display_data"
    },
    {
     "name": "stdout",
     "output_type": "stream",
     "text": [
      "with_a_teen distribution:\n"
     ]
    },
    {
     "data": {
      "text/plain": [
       "False    0.615602\n",
       "True     0.384398\n",
       "Name: proportion, dtype: float64"
      ]
     },
     "metadata": {},
     "output_type": "display_data"
    },
    {
     "name": "stdout",
     "output_type": "stream",
     "text": [
      "dog_skills distribution:\n"
     ]
    },
    {
     "data": {
      "text/plain": [
       "False    0.842105\n",
       "True     0.157895\n",
       "Name: proportion, dtype: float64"
      ]
     },
     "metadata": {},
     "output_type": "display_data"
    },
    {
     "name": "stdout",
     "output_type": "stream",
     "text": [
      "cat_skills distribution:\n"
     ]
    },
    {
     "data": {
      "text/plain": [
       "False    0.824718\n",
       "True     0.175282\n",
       "Name: proportion, dtype: float64"
      ]
     },
     "metadata": {},
     "output_type": "display_data"
    },
    {
     "name": "stdout",
     "output_type": "stream",
     "text": [
      "can_give_medicine distribution:\n"
     ]
    },
    {
     "data": {
      "text/plain": [
       "False    0.845865\n",
       "True     0.154135\n",
       "Name: proportion, dtype: float64"
      ]
     },
     "metadata": {},
     "output_type": "display_data"
    },
    {
     "name": "stdout",
     "output_type": "stream",
     "text": [
      "big_dog_preferences distribution:\n"
     ]
    },
    {
     "data": {
      "text/plain": [
       "False    0.93656\n",
       "True     0.06344\n",
       "Name: proportion, dtype: float64"
      ]
     },
     "metadata": {},
     "output_type": "display_data"
    },
    {
     "name": "stdout",
     "output_type": "stream",
     "text": [
      "small_dog_preferences distribution:\n"
     ]
    },
    {
     "data": {
      "text/plain": [
       "False    0.925752\n",
       "True     0.074248\n",
       "Name: proportion, dtype: float64"
      ]
     },
     "metadata": {},
     "output_type": "display_data"
    },
    {
     "name": "stdout",
     "output_type": "stream",
     "text": [
      "wish_list_city distribution:\n"
     ]
    },
    {
     "data": {
      "text/plain": [
       "True     0.763158\n",
       "False    0.236842\n",
       "Name: proportion, dtype: float64"
      ]
     },
     "metadata": {},
     "output_type": "display_data"
    },
    {
     "name": "stdout",
     "output_type": "stream",
     "text": [
      "wish_list_beach distribution:\n"
     ]
    },
    {
     "data": {
      "text/plain": [
       "True     0.846335\n",
       "False    0.153665\n",
       "Name: proportion, dtype: float64"
      ]
     },
     "metadata": {},
     "output_type": "display_data"
    },
    {
     "name": "stdout",
     "output_type": "stream",
     "text": [
      "wish_list_mountain distribution:\n"
     ]
    },
    {
     "data": {
      "text/plain": [
       "True     0.806391\n",
       "False    0.193609\n",
       "Name: proportion, dtype: float64"
      ]
     },
     "metadata": {},
     "output_type": "display_data"
    },
    {
     "name": "stdout",
     "output_type": "stream",
     "text": [
      "wish_list_countryside distribution:\n"
     ]
    },
    {
     "data": {
      "text/plain": [
       "True     0.827068\n",
       "False    0.172932\n",
       "Name: proportion, dtype: float64"
      ]
     },
     "metadata": {},
     "output_type": "display_data"
    },
    {
     "name": "stdout",
     "output_type": "stream",
     "text": [
      "pct_complete statistics:\n",
      "count    2128.000000\n",
      "mean       87.733083\n",
      "std         5.424023\n",
      "min        76.000000\n",
      "25%        84.000000\n",
      "50%        84.000000\n",
      "75%        94.000000\n",
      "max       100.000000\n",
      "Name: pct_complete, dtype: float64\n",
      "nb_reviews statistics:\n",
      "count    2128.000000\n",
      "mean        6.298872\n",
      "std         9.052579\n",
      "min         0.000000\n",
      "25%         1.000000\n",
      "50%         3.000000\n",
      "75%         7.250000\n",
      "max        95.000000\n",
      "Name: nb_reviews, dtype: float64\n",
      "nb_5s_reviews statistics:\n",
      "count    2128.000000\n",
      "mean        5.836936\n",
      "std         8.519300\n",
      "min         0.000000\n",
      "25%         1.000000\n",
      "50%         3.000000\n",
      "75%         7.000000\n",
      "max        88.000000\n",
      "Name: nb_5s_reviews, dtype: float64\n",
      "nb_applications statistics:\n",
      "count    2128.000000\n",
      "mean       73.270677\n",
      "std       136.572704\n",
      "min         1.000000\n",
      "25%        13.000000\n",
      "50%        32.000000\n",
      "75%        77.000000\n",
      "max      2288.000000\n",
      "Name: nb_applications, dtype: float64\n",
      "nb_sits_completed statistics:\n",
      "count    2128.000000\n",
      "mean        7.649436\n",
      "std        11.017499\n",
      "min         0.000000\n",
      "25%         2.000000\n",
      "50%         4.000000\n",
      "75%         9.000000\n",
      "max       117.000000\n",
      "Name: nb_sits_completed, dtype: float64\n",
      "nb_domestic_sits statistics:\n",
      "count    2128.000000\n",
      "mean        5.407425\n",
      "std         9.533495\n",
      "min         0.000000\n",
      "25%         1.000000\n",
      "50%         2.000000\n",
      "75%         6.000000\n",
      "max        98.000000\n",
      "Name: nb_domestic_sits, dtype: float64\n",
      "nb_local_sits statistics:\n",
      "count    2128.000000\n",
      "mean        0.565320\n",
      "std         2.475923\n",
      "min         0.000000\n",
      "25%         0.000000\n",
      "50%         0.000000\n",
      "75%         0.000000\n",
      "max        48.000000\n",
      "Name: nb_local_sits, dtype: float64\n",
      "nb_sits_booked statistics:\n",
      "count    2128.000000\n",
      "mean        0.146147\n",
      "std         0.768915\n",
      "min         0.000000\n",
      "25%         0.000000\n",
      "50%         0.000000\n",
      "75%         0.000000\n",
      "max        16.000000\n",
      "Name: nb_sits_booked, dtype: float64\n",
      "years_of_experience statistics:\n",
      "count    2128.000000\n",
      "mean        2.026316\n",
      "std         3.832441\n",
      "min         0.000000\n",
      "25%         0.000000\n",
      "50%         0.000000\n",
      "75%         0.000000\n",
      "max        10.000000\n",
      "Name: years_of_experience, dtype: float64\n",
      "nb_of_sitter_pets statistics:\n",
      "count    2128.000000\n",
      "mean        0.448308\n",
      "std         1.775389\n",
      "min         0.000000\n",
      "25%         0.000000\n",
      "50%         0.000000\n",
      "75%         0.000000\n",
      "max        13.000000\n",
      "Name: nb_of_sitter_pets, dtype: float64\n",
      "daily_minutes_willing_to_walk_dogs statistics:\n",
      "count    2128.000000\n",
      "mean        9.262218\n",
      "std        34.861144\n",
      "min         0.000000\n",
      "25%         0.000000\n",
      "50%         0.000000\n",
      "75%         0.000000\n",
      "max       180.000000\n",
      "Name: daily_minutes_willing_to_walk_dogs, dtype: float64\n",
      "days_since_modified statistics:\n",
      "count    2128.000000\n",
      "mean      510.866071\n",
      "std       345.504812\n",
      "min        51.000000\n",
      "25%       178.000000\n",
      "50%       487.000000\n",
      "75%       845.000000\n",
      "max      1346.000000\n",
      "Name: days_since_modified, dtype: float64\n",
      "five_star_ratio statistics:\n",
      "count    2128.000000\n",
      "mean        0.850953\n",
      "std         0.304464\n",
      "min         0.000000\n",
      "25%         0.875000\n",
      "50%         1.000000\n",
      "75%         1.000000\n",
      "max         1.000000\n",
      "Name: five_star_ratio, dtype: float64\n",
      "-----------------------------------\n",
      "-----------------------------------\n",
      "cluster 2 characteristics:\n",
      "cluster contains 15107 housesitters profiles\n",
      "travelling_as distribution:\n"
     ]
    },
    {
     "data": {
      "text/plain": [
       "F     0.997948\n",
       "MM    0.000530\n",
       "U     0.000463\n",
       "N     0.000331\n",
       "FN    0.000265\n",
       "NN    0.000132\n",
       "FU    0.000132\n",
       "T     0.000066\n",
       "X     0.000066\n",
       "UU    0.000066\n",
       "Name: proportion, dtype: float64"
      ]
     },
     "metadata": {},
     "output_type": "display_data"
    },
    {
     "name": "stdout",
     "output_type": "stream",
     "text": [
      "with_children distribution:\n"
     ]
    },
    {
     "data": {
      "text/plain": [
       "False    1.0\n",
       "Name: proportion, dtype: float64"
      ]
     },
     "metadata": {},
     "output_type": "display_data"
    },
    {
     "name": "stdout",
     "output_type": "stream",
     "text": [
      "sitting_with_another distribution:\n"
     ]
    },
    {
     "data": {
      "text/plain": [
       "False    0.998875\n",
       "True     0.001125\n",
       "Name: proportion, dtype: float64"
      ]
     },
     "metadata": {},
     "output_type": "display_data"
    },
    {
     "name": "stdout",
     "output_type": "stream",
     "text": [
      "occupation_type distribution:\n"
     ]
    },
    {
     "data": {
      "text/plain": [
       "employed                    0.360103\n",
       "self-employed               0.254261\n",
       "working-while-travelling    0.179057\n",
       "retired                     0.116321\n",
       "taking-time-off             0.090258\n",
       "Name: proportion, dtype: float64"
      ]
     },
     "metadata": {},
     "output_type": "display_data"
    },
    {
     "name": "stdout",
     "output_type": "stream",
     "text": [
      "prev_sitting_experience distribution:\n"
     ]
    },
    {
     "data": {
      "text/plain": [
       "True     0.937645\n",
       "False    0.062355\n",
       "Name: proportion, dtype: float64"
      ]
     },
     "metadata": {},
     "output_type": "display_data"
    },
    {
     "name": "stdout",
     "output_type": "stream",
     "text": [
      "other_animals distribution:\n"
     ]
    },
    {
     "data": {
      "text/plain": [
       "True    1.0\n",
       "Name: proportion, dtype: float64"
      ]
     },
     "metadata": {},
     "output_type": "display_data"
    },
    {
     "name": "stdout",
     "output_type": "stream",
     "text": [
      "has_dog_experience distribution:\n"
     ]
    },
    {
     "data": {
      "text/plain": [
       "True     0.957106\n",
       "False    0.042894\n",
       "Name: proportion, dtype: float64"
      ]
     },
     "metadata": {},
     "output_type": "display_data"
    },
    {
     "name": "stdout",
     "output_type": "stream",
     "text": [
      "has_cat_experience distribution:\n"
     ]
    },
    {
     "data": {
      "text/plain": [
       "True     0.961011\n",
       "False    0.038989\n",
       "Name: proportion, dtype: float64"
      ]
     },
     "metadata": {},
     "output_type": "display_data"
    },
    {
     "name": "stdout",
     "output_type": "stream",
     "text": [
      "has_reptile_experience distribution:\n"
     ]
    },
    {
     "data": {
      "text/plain": [
       "False    0.784272\n",
       "True     0.215728\n",
       "Name: proportion, dtype: float64"
      ]
     },
     "metadata": {},
     "output_type": "display_data"
    },
    {
     "name": "stdout",
     "output_type": "stream",
     "text": [
      "has_horse_experience distribution:\n"
     ]
    },
    {
     "data": {
      "text/plain": [
       "False    0.770504\n",
       "True     0.229496\n",
       "Name: proportion, dtype: float64"
      ]
     },
     "metadata": {},
     "output_type": "display_data"
    },
    {
     "name": "stdout",
     "output_type": "stream",
     "text": [
      "has_fish_experience distribution:\n"
     ]
    },
    {
     "data": {
      "text/plain": [
       "True     0.638578\n",
       "False    0.361422\n",
       "Name: proportion, dtype: float64"
      ]
     },
     "metadata": {},
     "output_type": "display_data"
    },
    {
     "name": "stdout",
     "output_type": "stream",
     "text": [
      "has_poultry_experience distribution:\n"
     ]
    },
    {
     "data": {
      "text/plain": [
       "False    0.605547\n",
       "True     0.394453\n",
       "Name: proportion, dtype: float64"
      ]
     },
     "metadata": {},
     "output_type": "display_data"
    },
    {
     "name": "stdout",
     "output_type": "stream",
     "text": [
      "has_farm_animal_experience distribution:\n"
     ]
    },
    {
     "data": {
      "text/plain": [
       "False    0.742834\n",
       "True     0.257166\n",
       "Name: proportion, dtype: float64"
      ]
     },
     "metadata": {},
     "output_type": "display_data"
    },
    {
     "name": "stdout",
     "output_type": "stream",
     "text": [
      "has_bird_experience distribution:\n"
     ]
    },
    {
     "data": {
      "text/plain": [
       "False    0.644668\n",
       "True     0.355332\n",
       "Name: proportion, dtype: float64"
      ]
     },
     "metadata": {},
     "output_type": "display_data"
    },
    {
     "name": "stdout",
     "output_type": "stream",
     "text": [
      "has_small_pet_experience distribution:\n"
     ]
    },
    {
     "data": {
      "text/plain": [
       "True     0.618985\n",
       "False    0.381015\n",
       "Name: proportion, dtype: float64"
      ]
     },
     "metadata": {},
     "output_type": "display_data"
    },
    {
     "name": "stdout",
     "output_type": "stream",
     "text": [
      "prefers_all_countries distribution:\n"
     ]
    },
    {
     "data": {
      "text/plain": [
       "True     0.62984\n",
       "False    0.37016\n",
       "Name: proportion, dtype: float64"
      ]
     },
     "metadata": {},
     "output_type": "display_data"
    },
    {
     "name": "stdout",
     "output_type": "stream",
     "text": [
      "happy_to_meet_in_person distribution:\n"
     ]
    },
    {
     "data": {
      "text/plain": [
       "True     0.995764\n",
       "False    0.004236\n",
       "Name: proportion, dtype: float64"
      ]
     },
     "metadata": {},
     "output_type": "display_data"
    },
    {
     "name": "stdout",
     "output_type": "stream",
     "text": [
      "happy_to_video_call distribution:\n"
     ]
    },
    {
     "data": {
      "text/plain": [
       "True     0.999801\n",
       "False    0.000199\n",
       "Name: proportion, dtype: float64"
      ]
     },
     "metadata": {},
     "output_type": "display_data"
    },
    {
     "name": "stdout",
     "output_type": "stream",
     "text": [
      "interested_in_remote_working distribution:\n"
     ]
    },
    {
     "data": {
      "text/plain": [
       "True     0.964056\n",
       "False    0.035944\n",
       "Name: proportion, dtype: float64"
      ]
     },
     "metadata": {},
     "output_type": "display_data"
    },
    {
     "name": "stdout",
     "output_type": "stream",
     "text": [
      "interested_in_dogs distribution:\n"
     ]
    },
    {
     "data": {
      "text/plain": [
       "False    0.902893\n",
       "True     0.097107\n",
       "Name: proportion, dtype: float64"
      ]
     },
     "metadata": {},
     "output_type": "display_data"
    },
    {
     "name": "stdout",
     "output_type": "stream",
     "text": [
      "interested_in_cats distribution:\n"
     ]
    },
    {
     "data": {
      "text/plain": [
       "False    0.889257\n",
       "True     0.110743\n",
       "Name: proportion, dtype: float64"
      ]
     },
     "metadata": {},
     "output_type": "display_data"
    },
    {
     "name": "stdout",
     "output_type": "stream",
     "text": [
      "interested_in_reptiles distribution:\n"
     ]
    },
    {
     "data": {
      "text/plain": [
       "False    0.957238\n",
       "True     0.042762\n",
       "Name: proportion, dtype: float64"
      ]
     },
     "metadata": {},
     "output_type": "display_data"
    },
    {
     "name": "stdout",
     "output_type": "stream",
     "text": [
      "interested_in_horses distribution:\n"
     ]
    },
    {
     "data": {
      "text/plain": [
       "False    0.968624\n",
       "True     0.031376\n",
       "Name: proportion, dtype: float64"
      ]
     },
     "metadata": {},
     "output_type": "display_data"
    },
    {
     "name": "stdout",
     "output_type": "stream",
     "text": [
      "interested_in_fish distribution:\n"
     ]
    },
    {
     "data": {
      "text/plain": [
       "False    0.915668\n",
       "True     0.084332\n",
       "Name: proportion, dtype: float64"
      ]
     },
     "metadata": {},
     "output_type": "display_data"
    },
    {
     "name": "stdout",
     "output_type": "stream",
     "text": [
      "interested_in_poultry distribution:\n"
     ]
    },
    {
     "data": {
      "text/plain": [
       "False    0.938638\n",
       "True     0.061362\n",
       "Name: proportion, dtype: float64"
      ]
     },
     "metadata": {},
     "output_type": "display_data"
    },
    {
     "name": "stdout",
     "output_type": "stream",
     "text": [
      "interested_in_farm_animals distribution:\n"
     ]
    },
    {
     "data": {
      "text/plain": [
       "False    0.962931\n",
       "True     0.037069\n",
       "Name: proportion, dtype: float64"
      ]
     },
     "metadata": {},
     "output_type": "display_data"
    },
    {
     "name": "stdout",
     "output_type": "stream",
     "text": [
      "interested_in_birds distribution:\n"
     ]
    },
    {
     "data": {
      "text/plain": [
       "False    0.940888\n",
       "True     0.059112\n",
       "Name: proportion, dtype: float64"
      ]
     },
     "metadata": {},
     "output_type": "display_data"
    },
    {
     "name": "stdout",
     "output_type": "stream",
     "text": [
      "interested_in_small_pets distribution:\n"
     ]
    },
    {
     "data": {
      "text/plain": [
       "False    0.912094\n",
       "True     0.087906\n",
       "Name: proportion, dtype: float64"
      ]
     },
     "metadata": {},
     "output_type": "display_data"
    },
    {
     "name": "stdout",
     "output_type": "stream",
     "text": [
      "with_a_baby distribution:\n"
     ]
    },
    {
     "data": {
      "text/plain": [
       "False    1.0\n",
       "Name: proportion, dtype: float64"
      ]
     },
     "metadata": {},
     "output_type": "display_data"
    },
    {
     "name": "stdout",
     "output_type": "stream",
     "text": [
      "with_a_toddler distribution:\n"
     ]
    },
    {
     "data": {
      "text/plain": [
       "False    1.0\n",
       "Name: proportion, dtype: float64"
      ]
     },
     "metadata": {},
     "output_type": "display_data"
    },
    {
     "name": "stdout",
     "output_type": "stream",
     "text": [
      "with_a_child distribution:\n"
     ]
    },
    {
     "data": {
      "text/plain": [
       "False    1.0\n",
       "Name: proportion, dtype: float64"
      ]
     },
     "metadata": {},
     "output_type": "display_data"
    },
    {
     "name": "stdout",
     "output_type": "stream",
     "text": [
      "with_a_teen distribution:\n"
     ]
    },
    {
     "data": {
      "text/plain": [
       "False    1.0\n",
       "Name: proportion, dtype: float64"
      ]
     },
     "metadata": {},
     "output_type": "display_data"
    },
    {
     "name": "stdout",
     "output_type": "stream",
     "text": [
      "dog_skills distribution:\n"
     ]
    },
    {
     "data": {
      "text/plain": [
       "False    0.841663\n",
       "True     0.158337\n",
       "Name: proportion, dtype: float64"
      ]
     },
     "metadata": {},
     "output_type": "display_data"
    },
    {
     "name": "stdout",
     "output_type": "stream",
     "text": [
      "cat_skills distribution:\n"
     ]
    },
    {
     "data": {
      "text/plain": [
       "False    0.818561\n",
       "True     0.181439\n",
       "Name: proportion, dtype: float64"
      ]
     },
     "metadata": {},
     "output_type": "display_data"
    },
    {
     "name": "stdout",
     "output_type": "stream",
     "text": [
      "can_give_medicine distribution:\n"
     ]
    },
    {
     "data": {
      "text/plain": [
       "False    0.842523\n",
       "True     0.157477\n",
       "Name: proportion, dtype: float64"
      ]
     },
     "metadata": {},
     "output_type": "display_data"
    },
    {
     "name": "stdout",
     "output_type": "stream",
     "text": [
      "big_dog_preferences distribution:\n"
     ]
    },
    {
     "data": {
      "text/plain": [
       "False    0.940756\n",
       "True     0.059244\n",
       "Name: proportion, dtype: float64"
      ]
     },
     "metadata": {},
     "output_type": "display_data"
    },
    {
     "name": "stdout",
     "output_type": "stream",
     "text": [
      "small_dog_preferences distribution:\n"
     ]
    },
    {
     "data": {
      "text/plain": [
       "False    0.922817\n",
       "True     0.077183\n",
       "Name: proportion, dtype: float64"
      ]
     },
     "metadata": {},
     "output_type": "display_data"
    },
    {
     "name": "stdout",
     "output_type": "stream",
     "text": [
      "wish_list_city distribution:\n"
     ]
    },
    {
     "data": {
      "text/plain": [
       "True     0.796783\n",
       "False    0.203217\n",
       "Name: proportion, dtype: float64"
      ]
     },
     "metadata": {},
     "output_type": "display_data"
    },
    {
     "name": "stdout",
     "output_type": "stream",
     "text": [
      "wish_list_beach distribution:\n"
     ]
    },
    {
     "data": {
      "text/plain": [
       "True     0.821937\n",
       "False    0.178063\n",
       "Name: proportion, dtype: float64"
      ]
     },
     "metadata": {},
     "output_type": "display_data"
    },
    {
     "name": "stdout",
     "output_type": "stream",
     "text": [
      "wish_list_mountain distribution:\n"
     ]
    },
    {
     "data": {
      "text/plain": [
       "True     0.748792\n",
       "False    0.251208\n",
       "Name: proportion, dtype: float64"
      ]
     },
     "metadata": {},
     "output_type": "display_data"
    },
    {
     "name": "stdout",
     "output_type": "stream",
     "text": [
      "wish_list_countryside distribution:\n"
     ]
    },
    {
     "data": {
      "text/plain": [
       "True     0.75753\n",
       "False    0.24247\n",
       "Name: proportion, dtype: float64"
      ]
     },
     "metadata": {},
     "output_type": "display_data"
    },
    {
     "name": "stdout",
     "output_type": "stream",
     "text": [
      "pct_complete statistics:\n",
      "count    15107.000000\n",
      "mean        87.780499\n",
      "std          5.379397\n",
      "min         76.000000\n",
      "25%         84.000000\n",
      "50%         84.000000\n",
      "75%         94.000000\n",
      "max        100.000000\n",
      "Name: pct_complete, dtype: float64\n",
      "nb_reviews statistics:\n",
      "count    15107.000000\n",
      "mean         8.215728\n",
      "std         11.138804\n",
      "min          0.000000\n",
      "25%          1.000000\n",
      "50%          4.000000\n",
      "75%         10.000000\n",
      "max        135.000000\n",
      "Name: nb_reviews, dtype: float64\n",
      "nb_5s_reviews statistics:\n",
      "count    15107.000000\n",
      "mean         7.585623\n",
      "std         10.445150\n",
      "min          0.000000\n",
      "25%          1.000000\n",
      "50%          4.000000\n",
      "75%         10.000000\n",
      "max        127.000000\n",
      "Name: nb_5s_reviews, dtype: float64\n",
      "nb_applications statistics:\n",
      "count    15107.000000\n",
      "mean        83.909976\n",
      "std        145.996807\n",
      "min          1.000000\n",
      "25%         17.000000\n",
      "50%         40.000000\n",
      "75%         95.000000\n",
      "max       4233.000000\n",
      "Name: nb_applications, dtype: float64\n",
      "nb_sits_completed statistics:\n",
      "count    15107.000000\n",
      "mean        10.163169\n",
      "std         13.624698\n",
      "min          0.000000\n",
      "25%          2.000000\n",
      "50%          5.000000\n",
      "75%         13.000000\n",
      "max        151.000000\n",
      "Name: nb_sits_completed, dtype: float64\n",
      "nb_domestic_sits statistics:\n",
      "count    15107.000000\n",
      "mean         7.398358\n",
      "std         11.740499\n",
      "min          0.000000\n",
      "25%          1.000000\n",
      "50%          3.000000\n",
      "75%          9.000000\n",
      "max        149.000000\n",
      "Name: nb_domestic_sits, dtype: float64\n",
      "nb_local_sits statistics:\n",
      "count    15107.000000\n",
      "mean         1.359833\n",
      "std          3.975930\n",
      "min          0.000000\n",
      "25%          0.000000\n",
      "50%          0.000000\n",
      "75%          1.000000\n",
      "max         83.000000\n",
      "Name: nb_local_sits, dtype: float64\n",
      "nb_sits_booked statistics:\n",
      "count    15107.00000\n",
      "mean         0.19673\n",
      "std          0.84356\n",
      "min          0.00000\n",
      "25%          0.00000\n",
      "50%          0.00000\n",
      "75%          0.00000\n",
      "max         22.00000\n",
      "Name: nb_sits_booked, dtype: float64\n",
      "years_of_experience statistics:\n",
      "count    15107.000000\n",
      "mean         2.024691\n",
      "std          3.818154\n",
      "min          0.000000\n",
      "25%          0.000000\n",
      "50%          0.000000\n",
      "75%          0.000000\n",
      "max         10.000000\n",
      "Name: years_of_experience, dtype: float64\n",
      "nb_of_sitter_pets statistics:\n",
      "count    15107.000000\n",
      "mean         0.461045\n",
      "std          1.828613\n",
      "min          0.000000\n",
      "25%          0.000000\n",
      "50%          0.000000\n",
      "75%          0.000000\n",
      "max         15.000000\n",
      "Name: nb_of_sitter_pets, dtype: float64\n",
      "daily_minutes_willing_to_walk_dogs statistics:\n",
      "count    15107.000000\n",
      "mean         9.184484\n",
      "std         34.119160\n",
      "min          0.000000\n",
      "25%          0.000000\n",
      "50%          0.000000\n",
      "75%          0.000000\n",
      "max        180.000000\n",
      "Name: daily_minutes_willing_to_walk_dogs, dtype: float64\n",
      "days_since_modified statistics:\n",
      "count    15107.000000\n",
      "mean       500.028464\n",
      "std        343.199036\n",
      "min         51.000000\n",
      "25%        155.000000\n",
      "50%        487.000000\n",
      "75%        821.000000\n",
      "max       1758.000000\n",
      "Name: days_since_modified, dtype: float64\n",
      "five_star_ratio statistics:\n",
      "count    15107.000000\n",
      "mean         0.856841\n",
      "std          0.283987\n",
      "min          0.000000\n",
      "25%          0.862069\n",
      "50%          1.000000\n",
      "75%          1.000000\n",
      "max          1.000000\n",
      "Name: five_star_ratio, dtype: float64\n",
      "-----------------------------------\n",
      "-----------------------------------\n",
      "cluster 3 characteristics:\n",
      "cluster contains 2538 housesitters profiles\n",
      "travelling_as distribution:\n"
     ]
    },
    {
     "data": {
      "text/plain": [
       "M     0.982664\n",
       "MM    0.007880\n",
       "FX    0.002364\n",
       "N     0.001970\n",
       "U     0.001182\n",
       "FU    0.000788\n",
       "NN    0.000788\n",
       "FN    0.000394\n",
       "T     0.000394\n",
       "X     0.000394\n",
       "MN    0.000394\n",
       "UU    0.000394\n",
       "MX    0.000394\n",
       "Name: proportion, dtype: float64"
      ]
     },
     "metadata": {},
     "output_type": "display_data"
    },
    {
     "name": "stdout",
     "output_type": "stream",
     "text": [
      "with_children distribution:\n"
     ]
    },
    {
     "data": {
      "text/plain": [
       "False    1.0\n",
       "Name: proportion, dtype: float64"
      ]
     },
     "metadata": {},
     "output_type": "display_data"
    },
    {
     "name": "stdout",
     "output_type": "stream",
     "text": [
      "sitting_with_another distribution:\n"
     ]
    },
    {
     "data": {
      "text/plain": [
       "False    0.986604\n",
       "True     0.013396\n",
       "Name: proportion, dtype: float64"
      ]
     },
     "metadata": {},
     "output_type": "display_data"
    },
    {
     "name": "stdout",
     "output_type": "stream",
     "text": [
      "occupation_type distribution:\n"
     ]
    },
    {
     "data": {
      "text/plain": [
       "employed                    0.334520\n",
       "self-employed               0.265322\n",
       "working-while-travelling    0.192171\n",
       "retired                     0.134440\n",
       "taking-time-off             0.073547\n",
       "Name: proportion, dtype: float64"
      ]
     },
     "metadata": {},
     "output_type": "display_data"
    },
    {
     "name": "stdout",
     "output_type": "stream",
     "text": [
      "prev_sitting_experience distribution:\n"
     ]
    },
    {
     "data": {
      "text/plain": [
       "True     0.927502\n",
       "False    0.072498\n",
       "Name: proportion, dtype: float64"
      ]
     },
     "metadata": {},
     "output_type": "display_data"
    },
    {
     "name": "stdout",
     "output_type": "stream",
     "text": [
      "other_animals distribution:\n"
     ]
    },
    {
     "data": {
      "text/plain": [
       "True    1.0\n",
       "Name: proportion, dtype: float64"
      ]
     },
     "metadata": {},
     "output_type": "display_data"
    },
    {
     "name": "stdout",
     "output_type": "stream",
     "text": [
      "has_dog_experience distribution:\n"
     ]
    },
    {
     "data": {
      "text/plain": [
       "True     0.965327\n",
       "False    0.034673\n",
       "Name: proportion, dtype: float64"
      ]
     },
     "metadata": {},
     "output_type": "display_data"
    },
    {
     "name": "stdout",
     "output_type": "stream",
     "text": [
      "has_cat_experience distribution:\n"
     ]
    },
    {
     "data": {
      "text/plain": [
       "True     0.958235\n",
       "False    0.041765\n",
       "Name: proportion, dtype: float64"
      ]
     },
     "metadata": {},
     "output_type": "display_data"
    },
    {
     "name": "stdout",
     "output_type": "stream",
     "text": [
      "has_reptile_experience distribution:\n"
     ]
    },
    {
     "data": {
      "text/plain": [
       "False    0.743893\n",
       "True     0.256107\n",
       "Name: proportion, dtype: float64"
      ]
     },
     "metadata": {},
     "output_type": "display_data"
    },
    {
     "name": "stdout",
     "output_type": "stream",
     "text": [
      "has_horse_experience distribution:\n"
     ]
    },
    {
     "data": {
      "text/plain": [
       "False    0.802206\n",
       "True     0.197794\n",
       "Name: proportion, dtype: float64"
      ]
     },
     "metadata": {},
     "output_type": "display_data"
    },
    {
     "name": "stdout",
     "output_type": "stream",
     "text": [
      "has_fish_experience distribution:\n"
     ]
    },
    {
     "data": {
      "text/plain": [
       "True     0.62766\n",
       "False    0.37234\n",
       "Name: proportion, dtype: float64"
      ]
     },
     "metadata": {},
     "output_type": "display_data"
    },
    {
     "name": "stdout",
     "output_type": "stream",
     "text": [
      "has_poultry_experience distribution:\n"
     ]
    },
    {
     "data": {
      "text/plain": [
       "False    0.600079\n",
       "True     0.399921\n",
       "Name: proportion, dtype: float64"
      ]
     },
     "metadata": {},
     "output_type": "display_data"
    },
    {
     "name": "stdout",
     "output_type": "stream",
     "text": [
      "has_farm_animal_experience distribution:\n"
     ]
    },
    {
     "data": {
      "text/plain": [
       "False    0.724192\n",
       "True     0.275808\n",
       "Name: proportion, dtype: float64"
      ]
     },
     "metadata": {},
     "output_type": "display_data"
    },
    {
     "name": "stdout",
     "output_type": "stream",
     "text": [
      "has_bird_experience distribution:\n"
     ]
    },
    {
     "data": {
      "text/plain": [
       "False    0.631994\n",
       "True     0.368006\n",
       "Name: proportion, dtype: float64"
      ]
     },
     "metadata": {},
     "output_type": "display_data"
    },
    {
     "name": "stdout",
     "output_type": "stream",
     "text": [
      "has_small_pet_experience distribution:\n"
     ]
    },
    {
     "data": {
      "text/plain": [
       "True     0.58747\n",
       "False    0.41253\n",
       "Name: proportion, dtype: float64"
      ]
     },
     "metadata": {},
     "output_type": "display_data"
    },
    {
     "name": "stdout",
     "output_type": "stream",
     "text": [
      "prefers_all_countries distribution:\n"
     ]
    },
    {
     "data": {
      "text/plain": [
       "True     0.62569\n",
       "False    0.37431\n",
       "Name: proportion, dtype: float64"
      ]
     },
     "metadata": {},
     "output_type": "display_data"
    },
    {
     "name": "stdout",
     "output_type": "stream",
     "text": [
      "happy_to_meet_in_person distribution:\n"
     ]
    },
    {
     "data": {
      "text/plain": [
       "True     0.999212\n",
       "False    0.000788\n",
       "Name: proportion, dtype: float64"
      ]
     },
     "metadata": {},
     "output_type": "display_data"
    },
    {
     "name": "stdout",
     "output_type": "stream",
     "text": [
      "happy_to_video_call distribution:\n"
     ]
    },
    {
     "data": {
      "text/plain": [
       "True     0.999212\n",
       "False    0.000788\n",
       "Name: proportion, dtype: float64"
      ]
     },
     "metadata": {},
     "output_type": "display_data"
    },
    {
     "name": "stdout",
     "output_type": "stream",
     "text": [
      "interested_in_remote_working distribution:\n"
     ]
    },
    {
     "data": {
      "text/plain": [
       "True     0.973995\n",
       "False    0.026005\n",
       "Name: proportion, dtype: float64"
      ]
     },
     "metadata": {},
     "output_type": "display_data"
    },
    {
     "name": "stdout",
     "output_type": "stream",
     "text": [
      "interested_in_dogs distribution:\n"
     ]
    },
    {
     "data": {
      "text/plain": [
       "False    0.92435\n",
       "True     0.07565\n",
       "Name: proportion, dtype: float64"
      ]
     },
     "metadata": {},
     "output_type": "display_data"
    },
    {
     "name": "stdout",
     "output_type": "stream",
     "text": [
      "interested_in_cats distribution:\n"
     ]
    },
    {
     "data": {
      "text/plain": [
       "False    0.913712\n",
       "True     0.086288\n",
       "Name: proportion, dtype: float64"
      ]
     },
     "metadata": {},
     "output_type": "display_data"
    },
    {
     "name": "stdout",
     "output_type": "stream",
     "text": [
      "interested_in_reptiles distribution:\n"
     ]
    },
    {
     "data": {
      "text/plain": [
       "False    0.951143\n",
       "True     0.048857\n",
       "Name: proportion, dtype: float64"
      ]
     },
     "metadata": {},
     "output_type": "display_data"
    },
    {
     "name": "stdout",
     "output_type": "stream",
     "text": [
      "interested_in_horses distribution:\n"
     ]
    },
    {
     "data": {
      "text/plain": [
       "False    0.970055\n",
       "True     0.029945\n",
       "Name: proportion, dtype: float64"
      ]
     },
     "metadata": {},
     "output_type": "display_data"
    },
    {
     "name": "stdout",
     "output_type": "stream",
     "text": [
      "interested_in_fish distribution:\n"
     ]
    },
    {
     "data": {
      "text/plain": [
       "False    0.931442\n",
       "True     0.068558\n",
       "Name: proportion, dtype: float64"
      ]
     },
     "metadata": {},
     "output_type": "display_data"
    },
    {
     "name": "stdout",
     "output_type": "stream",
     "text": [
      "interested_in_poultry distribution:\n"
     ]
    },
    {
     "data": {
      "text/plain": [
       "False    0.947991\n",
       "True     0.052009\n",
       "Name: proportion, dtype: float64"
      ]
     },
     "metadata": {},
     "output_type": "display_data"
    },
    {
     "name": "stdout",
     "output_type": "stream",
     "text": [
      "interested_in_farm_animals distribution:\n"
     ]
    },
    {
     "data": {
      "text/plain": [
       "False    0.961781\n",
       "True     0.038219\n",
       "Name: proportion, dtype: float64"
      ]
     },
     "metadata": {},
     "output_type": "display_data"
    },
    {
     "name": "stdout",
     "output_type": "stream",
     "text": [
      "interested_in_birds distribution:\n"
     ]
    },
    {
     "data": {
      "text/plain": [
       "False    0.948779\n",
       "True     0.051221\n",
       "Name: proportion, dtype: float64"
      ]
     },
     "metadata": {},
     "output_type": "display_data"
    },
    {
     "name": "stdout",
     "output_type": "stream",
     "text": [
      "interested_in_small_pets distribution:\n"
     ]
    },
    {
     "data": {
      "text/plain": [
       "False    0.931048\n",
       "True     0.068952\n",
       "Name: proportion, dtype: float64"
      ]
     },
     "metadata": {},
     "output_type": "display_data"
    },
    {
     "name": "stdout",
     "output_type": "stream",
     "text": [
      "with_a_baby distribution:\n"
     ]
    },
    {
     "data": {
      "text/plain": [
       "False    1.0\n",
       "Name: proportion, dtype: float64"
      ]
     },
     "metadata": {},
     "output_type": "display_data"
    },
    {
     "name": "stdout",
     "output_type": "stream",
     "text": [
      "with_a_toddler distribution:\n"
     ]
    },
    {
     "data": {
      "text/plain": [
       "False    1.0\n",
       "Name: proportion, dtype: float64"
      ]
     },
     "metadata": {},
     "output_type": "display_data"
    },
    {
     "name": "stdout",
     "output_type": "stream",
     "text": [
      "with_a_child distribution:\n"
     ]
    },
    {
     "data": {
      "text/plain": [
       "False    1.0\n",
       "Name: proportion, dtype: float64"
      ]
     },
     "metadata": {},
     "output_type": "display_data"
    },
    {
     "name": "stdout",
     "output_type": "stream",
     "text": [
      "with_a_teen distribution:\n"
     ]
    },
    {
     "data": {
      "text/plain": [
       "False    1.0\n",
       "Name: proportion, dtype: float64"
      ]
     },
     "metadata": {},
     "output_type": "display_data"
    },
    {
     "name": "stdout",
     "output_type": "stream",
     "text": [
      "dog_skills distribution:\n"
     ]
    },
    {
     "data": {
      "text/plain": [
       "False    0.853428\n",
       "True     0.146572\n",
       "Name: proportion, dtype: float64"
      ]
     },
     "metadata": {},
     "output_type": "display_data"
    },
    {
     "name": "stdout",
     "output_type": "stream",
     "text": [
      "cat_skills distribution:\n"
     ]
    },
    {
     "data": {
      "text/plain": [
       "False    0.835303\n",
       "True     0.164697\n",
       "Name: proportion, dtype: float64"
      ]
     },
     "metadata": {},
     "output_type": "display_data"
    },
    {
     "name": "stdout",
     "output_type": "stream",
     "text": [
      "can_give_medicine distribution:\n"
     ]
    },
    {
     "data": {
      "text/plain": [
       "False    0.86052\n",
       "True     0.13948\n",
       "Name: proportion, dtype: float64"
      ]
     },
     "metadata": {},
     "output_type": "display_data"
    },
    {
     "name": "stdout",
     "output_type": "stream",
     "text": [
      "big_dog_preferences distribution:\n"
     ]
    },
    {
     "data": {
      "text/plain": [
       "False    0.943656\n",
       "True     0.056344\n",
       "Name: proportion, dtype: float64"
      ]
     },
     "metadata": {},
     "output_type": "display_data"
    },
    {
     "name": "stdout",
     "output_type": "stream",
     "text": [
      "small_dog_preferences distribution:\n"
     ]
    },
    {
     "data": {
      "text/plain": [
       "False    0.940898\n",
       "True     0.059102\n",
       "Name: proportion, dtype: float64"
      ]
     },
     "metadata": {},
     "output_type": "display_data"
    },
    {
     "name": "stdout",
     "output_type": "stream",
     "text": [
      "wish_list_city distribution:\n"
     ]
    },
    {
     "data": {
      "text/plain": [
       "True     0.815209\n",
       "False    0.184791\n",
       "Name: proportion, dtype: float64"
      ]
     },
     "metadata": {},
     "output_type": "display_data"
    },
    {
     "name": "stdout",
     "output_type": "stream",
     "text": [
      "wish_list_beach distribution:\n"
     ]
    },
    {
     "data": {
      "text/plain": [
       "True     0.803783\n",
       "False    0.196217\n",
       "Name: proportion, dtype: float64"
      ]
     },
     "metadata": {},
     "output_type": "display_data"
    },
    {
     "name": "stdout",
     "output_type": "stream",
     "text": [
      "wish_list_mountain distribution:\n"
     ]
    },
    {
     "data": {
      "text/plain": [
       "True     0.782506\n",
       "False    0.217494\n",
       "Name: proportion, dtype: float64"
      ]
     },
     "metadata": {},
     "output_type": "display_data"
    },
    {
     "name": "stdout",
     "output_type": "stream",
     "text": [
      "wish_list_countryside distribution:\n"
     ]
    },
    {
     "data": {
      "text/plain": [
       "True     0.773838\n",
       "False    0.226162\n",
       "Name: proportion, dtype: float64"
      ]
     },
     "metadata": {},
     "output_type": "display_data"
    },
    {
     "name": "stdout",
     "output_type": "stream",
     "text": [
      "pct_complete statistics:\n",
      "count    2538.000000\n",
      "mean       87.439716\n",
      "std         5.452749\n",
      "min        76.000000\n",
      "25%        84.000000\n",
      "50%        84.000000\n",
      "75%        94.000000\n",
      "max       100.000000\n",
      "Name: pct_complete, dtype: float64\n",
      "nb_reviews statistics:\n",
      "count    2538.000000\n",
      "mean        9.912136\n",
      "std        14.220813\n",
      "min         0.000000\n",
      "25%         1.000000\n",
      "50%         4.000000\n",
      "75%        12.000000\n",
      "max       149.000000\n",
      "Name: nb_reviews, dtype: float64\n",
      "nb_5s_reviews statistics:\n",
      "count    2538.000000\n",
      "mean        8.955477\n",
      "std        13.102669\n",
      "min         0.000000\n",
      "25%         1.000000\n",
      "50%         4.000000\n",
      "75%        11.000000\n",
      "max       143.000000\n",
      "Name: nb_5s_reviews, dtype: float64\n",
      "nb_applications statistics:\n",
      "count    2538.000000\n",
      "mean      104.122537\n",
      "std       203.943121\n",
      "min         1.000000\n",
      "25%        14.250000\n",
      "50%        41.000000\n",
      "75%       109.000000\n",
      "max      3826.000000\n",
      "Name: nb_applications, dtype: float64\n",
      "nb_sits_completed statistics:\n",
      "count    2538.000000\n",
      "mean       12.176517\n",
      "std        17.346306\n",
      "min         0.000000\n",
      "25%         2.000000\n",
      "50%         5.000000\n",
      "75%        15.000000\n",
      "max       194.000000\n",
      "Name: nb_sits_completed, dtype: float64\n",
      "nb_domestic_sits statistics:\n",
      "count    2538.000000\n",
      "mean        9.014972\n",
      "std        14.891507\n",
      "min         0.000000\n",
      "25%         1.000000\n",
      "50%         3.000000\n",
      "75%        10.000000\n",
      "max       188.000000\n",
      "Name: nb_domestic_sits, dtype: float64\n",
      "nb_local_sits statistics:\n",
      "count    2538.000000\n",
      "mean        1.519307\n",
      "std         4.307438\n",
      "min         0.000000\n",
      "25%         0.000000\n",
      "50%         0.000000\n",
      "75%         1.000000\n",
      "max        59.000000\n",
      "Name: nb_local_sits, dtype: float64\n",
      "nb_sits_booked statistics:\n",
      "count    2538.000000\n",
      "mean        0.267928\n",
      "std         1.136663\n",
      "min         0.000000\n",
      "25%         0.000000\n",
      "50%         0.000000\n",
      "75%         0.000000\n",
      "max        26.000000\n",
      "Name: nb_sits_booked, dtype: float64\n",
      "years_of_experience statistics:\n",
      "count    2538.000000\n",
      "mean        1.679275\n",
      "std         3.502290\n",
      "min         0.000000\n",
      "25%         0.000000\n",
      "50%         0.000000\n",
      "75%         0.000000\n",
      "max        10.000000\n",
      "Name: years_of_experience, dtype: float64\n",
      "nb_of_sitter_pets statistics:\n",
      "count    2538.000000\n",
      "mean        0.350276\n",
      "std         1.594186\n",
      "min         0.000000\n",
      "25%         0.000000\n",
      "50%         0.000000\n",
      "75%         0.000000\n",
      "max        11.000000\n",
      "Name: nb_of_sitter_pets, dtype: float64\n",
      "daily_minutes_willing_to_walk_dogs statistics:\n",
      "count    2538.000000\n",
      "mean        7.813239\n",
      "std        32.288629\n",
      "min         0.000000\n",
      "25%         0.000000\n",
      "50%         0.000000\n",
      "75%         0.000000\n",
      "max       180.000000\n",
      "Name: daily_minutes_willing_to_walk_dogs, dtype: float64\n",
      "days_since_modified statistics:\n",
      "count    2538.000000\n",
      "mean      516.329393\n",
      "std       350.609402\n",
      "min        51.000000\n",
      "25%       149.000000\n",
      "50%       537.000000\n",
      "75%       835.000000\n",
      "max      1828.000000\n",
      "Name: days_since_modified, dtype: float64\n",
      "five_star_ratio statistics:\n",
      "count    2538.000000\n",
      "mean        0.838670\n",
      "std         0.288244\n",
      "min         0.000000\n",
      "25%         0.829888\n",
      "50%         1.000000\n",
      "75%         1.000000\n",
      "max         1.000000\n",
      "Name: five_star_ratio, dtype: float64\n",
      "-----------------------------------\n",
      "-----------------------------------\n",
      "cluster 4 characteristics:\n",
      "cluster contains 1301 housesitters profiles\n",
      "travelling_as distribution:\n"
     ]
    },
    {
     "data": {
      "text/plain": [
       "FF    0.868563\n",
       "MM    0.044581\n",
       "N     0.028440\n",
       "X     0.009224\n",
       "U     0.008455\n",
       "FN    0.007686\n",
       "FX    0.006149\n",
       "FU    0.005380\n",
       "MX    0.004612\n",
       "T     0.003843\n",
       "NN    0.003075\n",
       "UU    0.003075\n",
       "MN    0.002306\n",
       "MU    0.001537\n",
       "NU    0.001537\n",
       "FT    0.000769\n",
       "MT    0.000769\n",
       "Name: proportion, dtype: float64"
      ]
     },
     "metadata": {},
     "output_type": "display_data"
    },
    {
     "name": "stdout",
     "output_type": "stream",
     "text": [
      "with_children distribution:\n"
     ]
    },
    {
     "data": {
      "text/plain": [
       "False    1.0\n",
       "Name: proportion, dtype: float64"
      ]
     },
     "metadata": {},
     "output_type": "display_data"
    },
    {
     "name": "stdout",
     "output_type": "stream",
     "text": [
      "sitting_with_another distribution:\n"
     ]
    },
    {
     "data": {
      "text/plain": [
       "True     0.942352\n",
       "False    0.057648\n",
       "Name: proportion, dtype: float64"
      ]
     },
     "metadata": {},
     "output_type": "display_data"
    },
    {
     "name": "stdout",
     "output_type": "stream",
     "text": [
      "occupation_type distribution:\n"
     ]
    },
    {
     "data": {
      "text/plain": [
       "employed                    0.422958\n",
       "working-while-travelling    0.197997\n",
       "self-employed               0.186441\n",
       "taking-time-off             0.109399\n",
       "retired                     0.083205\n",
       "Name: proportion, dtype: float64"
      ]
     },
     "metadata": {},
     "output_type": "display_data"
    },
    {
     "name": "stdout",
     "output_type": "stream",
     "text": [
      "prev_sitting_experience distribution:\n"
     ]
    },
    {
     "data": {
      "text/plain": [
       "True     0.933128\n",
       "False    0.066872\n",
       "Name: proportion, dtype: float64"
      ]
     },
     "metadata": {},
     "output_type": "display_data"
    },
    {
     "name": "stdout",
     "output_type": "stream",
     "text": [
      "other_animals distribution:\n"
     ]
    },
    {
     "data": {
      "text/plain": [
       "True    1.0\n",
       "Name: proportion, dtype: float64"
      ]
     },
     "metadata": {},
     "output_type": "display_data"
    },
    {
     "name": "stdout",
     "output_type": "stream",
     "text": [
      "has_dog_experience distribution:\n"
     ]
    },
    {
     "data": {
      "text/plain": [
       "True     0.976172\n",
       "False    0.023828\n",
       "Name: proportion, dtype: float64"
      ]
     },
     "metadata": {},
     "output_type": "display_data"
    },
    {
     "name": "stdout",
     "output_type": "stream",
     "text": [
      "has_cat_experience distribution:\n"
     ]
    },
    {
     "data": {
      "text/plain": [
       "True     0.956956\n",
       "False    0.043044\n",
       "Name: proportion, dtype: float64"
      ]
     },
     "metadata": {},
     "output_type": "display_data"
    },
    {
     "name": "stdout",
     "output_type": "stream",
     "text": [
      "has_reptile_experience distribution:\n"
     ]
    },
    {
     "data": {
      "text/plain": [
       "False    0.764796\n",
       "True     0.235204\n",
       "Name: proportion, dtype: float64"
      ]
     },
     "metadata": {},
     "output_type": "display_data"
    },
    {
     "name": "stdout",
     "output_type": "stream",
     "text": [
      "has_horse_experience distribution:\n"
     ]
    },
    {
     "data": {
      "text/plain": [
       "False    0.767871\n",
       "True     0.232129\n",
       "Name: proportion, dtype: float64"
      ]
     },
     "metadata": {},
     "output_type": "display_data"
    },
    {
     "name": "stdout",
     "output_type": "stream",
     "text": [
      "has_fish_experience distribution:\n"
     ]
    },
    {
     "data": {
      "text/plain": [
       "True     0.634896\n",
       "False    0.365104\n",
       "Name: proportion, dtype: float64"
      ]
     },
     "metadata": {},
     "output_type": "display_data"
    },
    {
     "name": "stdout",
     "output_type": "stream",
     "text": [
      "has_poultry_experience distribution:\n"
     ]
    },
    {
     "data": {
      "text/plain": [
       "False    0.58186\n",
       "True     0.41814\n",
       "Name: proportion, dtype: float64"
      ]
     },
     "metadata": {},
     "output_type": "display_data"
    },
    {
     "name": "stdout",
     "output_type": "stream",
     "text": [
      "has_farm_animal_experience distribution:\n"
     ]
    },
    {
     "data": {
      "text/plain": [
       "False    0.71176\n",
       "True     0.28824\n",
       "Name: proportion, dtype: float64"
      ]
     },
     "metadata": {},
     "output_type": "display_data"
    },
    {
     "name": "stdout",
     "output_type": "stream",
     "text": [
      "has_bird_experience distribution:\n"
     ]
    },
    {
     "data": {
      "text/plain": [
       "False    0.653344\n",
       "True     0.346656\n",
       "Name: proportion, dtype: float64"
      ]
     },
     "metadata": {},
     "output_type": "display_data"
    },
    {
     "name": "stdout",
     "output_type": "stream",
     "text": [
      "has_small_pet_experience distribution:\n"
     ]
    },
    {
     "data": {
      "text/plain": [
       "True     0.650269\n",
       "False    0.349731\n",
       "Name: proportion, dtype: float64"
      ]
     },
     "metadata": {},
     "output_type": "display_data"
    },
    {
     "name": "stdout",
     "output_type": "stream",
     "text": [
      "prefers_all_countries distribution:\n"
     ]
    },
    {
     "data": {
      "text/plain": [
       "True     0.650269\n",
       "False    0.349731\n",
       "Name: proportion, dtype: float64"
      ]
     },
     "metadata": {},
     "output_type": "display_data"
    },
    {
     "name": "stdout",
     "output_type": "stream",
     "text": [
      "happy_to_meet_in_person distribution:\n"
     ]
    },
    {
     "data": {
      "text/plain": [
       "True     0.995388\n",
       "False    0.004612\n",
       "Name: proportion, dtype: float64"
      ]
     },
     "metadata": {},
     "output_type": "display_data"
    },
    {
     "name": "stdout",
     "output_type": "stream",
     "text": [
      "happy_to_video_call distribution:\n"
     ]
    },
    {
     "data": {
      "text/plain": [
       "True    1.0\n",
       "Name: proportion, dtype: float64"
      ]
     },
     "metadata": {},
     "output_type": "display_data"
    },
    {
     "name": "stdout",
     "output_type": "stream",
     "text": [
      "interested_in_remote_working distribution:\n"
     ]
    },
    {
     "data": {
      "text/plain": [
       "True     0.973098\n",
       "False    0.026902\n",
       "Name: proportion, dtype: float64"
      ]
     },
     "metadata": {},
     "output_type": "display_data"
    },
    {
     "name": "stdout",
     "output_type": "stream",
     "text": [
      "interested_in_dogs distribution:\n"
     ]
    },
    {
     "data": {
      "text/plain": [
       "False    0.928517\n",
       "True     0.071483\n",
       "Name: proportion, dtype: float64"
      ]
     },
     "metadata": {},
     "output_type": "display_data"
    },
    {
     "name": "stdout",
     "output_type": "stream",
     "text": [
      "interested_in_cats distribution:\n"
     ]
    },
    {
     "data": {
      "text/plain": [
       "False    0.92083\n",
       "True     0.07917\n",
       "Name: proportion, dtype: float64"
      ]
     },
     "metadata": {},
     "output_type": "display_data"
    },
    {
     "name": "stdout",
     "output_type": "stream",
     "text": [
      "interested_in_reptiles distribution:\n"
     ]
    },
    {
     "data": {
      "text/plain": [
       "False    0.966949\n",
       "True     0.033051\n",
       "Name: proportion, dtype: float64"
      ]
     },
     "metadata": {},
     "output_type": "display_data"
    },
    {
     "name": "stdout",
     "output_type": "stream",
     "text": [
      "interested_in_horses distribution:\n"
     ]
    },
    {
     "data": {
      "text/plain": [
       "False    0.970792\n",
       "True     0.029208\n",
       "Name: proportion, dtype: float64"
      ]
     },
     "metadata": {},
     "output_type": "display_data"
    },
    {
     "name": "stdout",
     "output_type": "stream",
     "text": [
      "interested_in_fish distribution:\n"
     ]
    },
    {
     "data": {
      "text/plain": [
       "False    0.939277\n",
       "True     0.060723\n",
       "Name: proportion, dtype: float64"
      ]
     },
     "metadata": {},
     "output_type": "display_data"
    },
    {
     "name": "stdout",
     "output_type": "stream",
     "text": [
      "interested_in_poultry distribution:\n"
     ]
    },
    {
     "data": {
      "text/plain": [
       "False    0.948501\n",
       "True     0.051499\n",
       "Name: proportion, dtype: float64"
      ]
     },
     "metadata": {},
     "output_type": "display_data"
    },
    {
     "name": "stdout",
     "output_type": "stream",
     "text": [
      "interested_in_farm_animals distribution:\n"
     ]
    },
    {
     "data": {
      "text/plain": [
       "False    0.963105\n",
       "True     0.036895\n",
       "Name: proportion, dtype: float64"
      ]
     },
     "metadata": {},
     "output_type": "display_data"
    },
    {
     "name": "stdout",
     "output_type": "stream",
     "text": [
      "interested_in_birds distribution:\n"
     ]
    },
    {
     "data": {
      "text/plain": [
       "False    0.956956\n",
       "True     0.043044\n",
       "Name: proportion, dtype: float64"
      ]
     },
     "metadata": {},
     "output_type": "display_data"
    },
    {
     "name": "stdout",
     "output_type": "stream",
     "text": [
      "interested_in_small_pets distribution:\n"
     ]
    },
    {
     "data": {
      "text/plain": [
       "False    0.936203\n",
       "True     0.063797\n",
       "Name: proportion, dtype: float64"
      ]
     },
     "metadata": {},
     "output_type": "display_data"
    },
    {
     "name": "stdout",
     "output_type": "stream",
     "text": [
      "with_a_baby distribution:\n"
     ]
    },
    {
     "data": {
      "text/plain": [
       "False    1.0\n",
       "Name: proportion, dtype: float64"
      ]
     },
     "metadata": {},
     "output_type": "display_data"
    },
    {
     "name": "stdout",
     "output_type": "stream",
     "text": [
      "with_a_toddler distribution:\n"
     ]
    },
    {
     "data": {
      "text/plain": [
       "False    1.0\n",
       "Name: proportion, dtype: float64"
      ]
     },
     "metadata": {},
     "output_type": "display_data"
    },
    {
     "name": "stdout",
     "output_type": "stream",
     "text": [
      "with_a_child distribution:\n"
     ]
    },
    {
     "data": {
      "text/plain": [
       "False    1.0\n",
       "Name: proportion, dtype: float64"
      ]
     },
     "metadata": {},
     "output_type": "display_data"
    },
    {
     "name": "stdout",
     "output_type": "stream",
     "text": [
      "with_a_teen distribution:\n"
     ]
    },
    {
     "data": {
      "text/plain": [
       "False    1.0\n",
       "Name: proportion, dtype: float64"
      ]
     },
     "metadata": {},
     "output_type": "display_data"
    },
    {
     "name": "stdout",
     "output_type": "stream",
     "text": [
      "dog_skills distribution:\n"
     ]
    },
    {
     "data": {
      "text/plain": [
       "False    0.861645\n",
       "True     0.138355\n",
       "Name: proportion, dtype: float64"
      ]
     },
     "metadata": {},
     "output_type": "display_data"
    },
    {
     "name": "stdout",
     "output_type": "stream",
     "text": [
      "cat_skills distribution:\n"
     ]
    },
    {
     "data": {
      "text/plain": [
       "False    0.850115\n",
       "True     0.149885\n",
       "Name: proportion, dtype: float64"
      ]
     },
     "metadata": {},
     "output_type": "display_data"
    },
    {
     "name": "stdout",
     "output_type": "stream",
     "text": [
      "can_give_medicine distribution:\n"
     ]
    },
    {
     "data": {
      "text/plain": [
       "False    0.863951\n",
       "True     0.136049\n",
       "Name: proportion, dtype: float64"
      ]
     },
     "metadata": {},
     "output_type": "display_data"
    },
    {
     "name": "stdout",
     "output_type": "stream",
     "text": [
      "big_dog_preferences distribution:\n"
     ]
    },
    {
     "data": {
      "text/plain": [
       "False    0.955419\n",
       "True     0.044581\n",
       "Name: proportion, dtype: float64"
      ]
     },
     "metadata": {},
     "output_type": "display_data"
    },
    {
     "name": "stdout",
     "output_type": "stream",
     "text": [
      "small_dog_preferences distribution:\n"
     ]
    },
    {
     "data": {
      "text/plain": [
       "False    0.944658\n",
       "True     0.055342\n",
       "Name: proportion, dtype: float64"
      ]
     },
     "metadata": {},
     "output_type": "display_data"
    },
    {
     "name": "stdout",
     "output_type": "stream",
     "text": [
      "wish_list_city distribution:\n"
     ]
    },
    {
     "data": {
      "text/plain": [
       "True     0.830899\n",
       "False    0.169101\n",
       "Name: proportion, dtype: float64"
      ]
     },
     "metadata": {},
     "output_type": "display_data"
    },
    {
     "name": "stdout",
     "output_type": "stream",
     "text": [
      "wish_list_beach distribution:\n"
     ]
    },
    {
     "data": {
      "text/plain": [
       "True     0.827056\n",
       "False    0.172944\n",
       "Name: proportion, dtype: float64"
      ]
     },
     "metadata": {},
     "output_type": "display_data"
    },
    {
     "name": "stdout",
     "output_type": "stream",
     "text": [
      "wish_list_mountain distribution:\n"
     ]
    },
    {
     "data": {
      "text/plain": [
       "True     0.764796\n",
       "False    0.235204\n",
       "Name: proportion, dtype: float64"
      ]
     },
     "metadata": {},
     "output_type": "display_data"
    },
    {
     "name": "stdout",
     "output_type": "stream",
     "text": [
      "wish_list_countryside distribution:\n"
     ]
    },
    {
     "data": {
      "text/plain": [
       "True     0.781706\n",
       "False    0.218294\n",
       "Name: proportion, dtype: float64"
      ]
     },
     "metadata": {},
     "output_type": "display_data"
    },
    {
     "name": "stdout",
     "output_type": "stream",
     "text": [
      "pct_complete statistics:\n",
      "count    1301.000000\n",
      "mean       87.154497\n",
      "std         5.078306\n",
      "min        76.000000\n",
      "25%        84.000000\n",
      "50%        84.000000\n",
      "75%        94.000000\n",
      "max       100.000000\n",
      "Name: pct_complete, dtype: float64\n",
      "nb_reviews statistics:\n",
      "count    1301.000000\n",
      "mean        6.021522\n",
      "std        10.427530\n",
      "min         0.000000\n",
      "25%         1.000000\n",
      "50%         2.000000\n",
      "75%         7.000000\n",
      "max       158.000000\n",
      "Name: nb_reviews, dtype: float64\n",
      "nb_5s_reviews statistics:\n",
      "count    1301.000000\n",
      "mean        5.639508\n",
      "std         9.876777\n",
      "min         0.000000\n",
      "25%         1.000000\n",
      "50%         2.000000\n",
      "75%         6.000000\n",
      "max       158.000000\n",
      "Name: nb_5s_reviews, dtype: float64\n",
      "nb_applications statistics:\n",
      "count    1301.000000\n",
      "mean       62.533436\n",
      "std       170.305937\n",
      "min         1.000000\n",
      "25%        12.000000\n",
      "50%        28.000000\n",
      "75%        70.000000\n",
      "max      5388.000000\n",
      "Name: nb_applications, dtype: float64\n",
      "nb_sits_completed statistics:\n",
      "count    1301.000000\n",
      "mean        7.179862\n",
      "std        12.024843\n",
      "min         0.000000\n",
      "25%         1.000000\n",
      "50%         3.000000\n",
      "75%         9.000000\n",
      "max       190.000000\n",
      "Name: nb_sits_completed, dtype: float64\n",
      "nb_domestic_sits statistics:\n",
      "count    1301.000000\n",
      "mean        4.889316\n",
      "std         8.848123\n",
      "min         0.000000\n",
      "25%         1.000000\n",
      "50%         2.000000\n",
      "75%         6.000000\n",
      "max       146.000000\n",
      "Name: nb_domestic_sits, dtype: float64\n",
      "nb_local_sits statistics:\n",
      "count    1301.000000\n",
      "mean        0.761722\n",
      "std         2.350472\n",
      "min         0.000000\n",
      "25%         0.000000\n",
      "50%         0.000000\n",
      "75%         1.000000\n",
      "max        38.000000\n",
      "Name: nb_local_sits, dtype: float64\n",
      "nb_sits_booked statistics:\n",
      "count    1301.000000\n",
      "mean        0.136818\n",
      "std         0.673479\n",
      "min         0.000000\n",
      "25%         0.000000\n",
      "50%         0.000000\n",
      "75%         0.000000\n",
      "max        12.000000\n",
      "Name: nb_sits_booked, dtype: float64\n",
      "years_of_experience statistics:\n",
      "count    1301.000000\n",
      "mean        1.697156\n",
      "std         3.579716\n",
      "min         0.000000\n",
      "25%         0.000000\n",
      "50%         0.000000\n",
      "75%         0.000000\n",
      "max        10.000000\n",
      "Name: years_of_experience, dtype: float64\n",
      "nb_of_sitter_pets statistics:\n",
      "count    1301.000000\n",
      "mean        0.462721\n",
      "std         1.826186\n",
      "min         0.000000\n",
      "25%         0.000000\n",
      "50%         0.000000\n",
      "75%         0.000000\n",
      "max        10.000000\n",
      "Name: nb_of_sitter_pets, dtype: float64\n",
      "daily_minutes_willing_to_walk_dogs statistics:\n",
      "count    1301.000000\n",
      "mean        6.986933\n",
      "std        30.734455\n",
      "min         0.000000\n",
      "25%         0.000000\n",
      "50%         0.000000\n",
      "75%         0.000000\n",
      "max       180.000000\n",
      "Name: daily_minutes_willing_to_walk_dogs, dtype: float64\n",
      "days_since_modified statistics:\n",
      "count    1301.000000\n",
      "mean      569.592621\n",
      "std       332.891851\n",
      "min        51.000000\n",
      "25%       223.000000\n",
      "50%       624.000000\n",
      "75%       852.000000\n",
      "max      1649.000000\n",
      "Name: days_since_modified, dtype: float64\n",
      "five_star_ratio statistics:\n",
      "count    1301.000000\n",
      "mean        0.848321\n",
      "std         0.313631\n",
      "min         0.000000\n",
      "25%         0.890909\n",
      "50%         1.000000\n",
      "75%         1.000000\n",
      "max         1.000000\n",
      "Name: five_star_ratio, dtype: float64\n",
      "-----------------------------------\n"
     ]
    }
   ],
   "source": [
    "# cluster characteristics\n",
    "display(profiles_df['cluster'].value_counts())\n",
    "\n",
    "for cluster in range(optimal_n_clusters):\n",
    "    print('-----------------------------------')\n",
    "    print(f\"cluster {cluster} characteristics:\")\n",
    "    cluster_data = profiles_df[profiles_df['cluster'] == cluster]\n",
    "    print(f'cluster contains {len(cluster_data)} housesitters profiles')\n",
    "    \n",
    "    # feature distribution for categorical features\n",
    "    for cat_col in categorical_features:\n",
    "        if cat_col in profiles_df.columns:\n",
    "            print(f\"{cat_col} distribution:\")\n",
    "            # back to original categories\n",
    "            original_values = encoders[cat_col].inverse_transform(cluster_data[cat_col].astype(int))\n",
    "            value_distribution = pd.Series(original_values).value_counts(normalize=True)\n",
    "            value_counts       = pd.Series(original_values).value_counts(normalize=False)\n",
    "            # display(value_counts)\n",
    "            display(value_distribution)\n",
    "    \n",
    "    # For numerical features, show summary statistics\n",
    "    for num_col in numerical_features:\n",
    "        if num_col in profiles_df.columns:\n",
    "            print(f\"{num_col} statistics:\")\n",
    "            print(cluster_data[num_col].describe())\n",
    "    print('-----------------------------------')\n"
   ]
  },
  {
   "cell_type": "code",
   "execution_count": null,
   "id": "14d014c6-a997-4575-bbb4-66b5ff564c9d",
   "metadata": {},
   "outputs": [],
   "source": [
    "def calculate_feature_importance(data, cluster_labels, n_clusters=5):\n",
    "    importances = {}\n",
    "    \n",
    "    for cluster in range(n_clusters):\n",
    "        cluster_data = data[cluster_labels == cluster]\n",
    "        cluster_size = len(cluster_data)\n",
    "        total_size = len(data)\n",
    "        \n",
    "        feature_importances = {}\n",
    "        \n",
    "        for feature in data.columns:\n",
    "            # For categorical features, look at each category\n",
    "            if data[feature].dtype == 'object' or data[feature].dtype == 'bool':\n",
    "                for category in data[feature].unique():\n",
    "                    # Proportion in cluster with this category\n",
    "                    prop_in_cluster = (cluster_data[feature] == category).mean()\n",
    "                    # Proportion in overall dataset with this category\n",
    "                    prop_overall = (data[feature] == category).mean()\n",
    "                    \n",
    "                    # Avoid division by zero\n",
    "                    if prop_overall > 0:\n",
    "                        # Lift/importance score\n",
    "                        importance = prop_in_cluster / prop_overall\n",
    "                        feature_importances[f\"{feature}_{category}\"] = importance\n",
    "            \n",
    "        # Sort by importance (descending)\n",
    "        sorted_importances = dict(sorted(feature_importances.items(), \n",
    "                                        key=lambda x: abs(x[1]-1), \n",
    "                                        reverse=True))\n",
    "        importances[f\"Cluster_{cluster}\"] = sorted_importances\n",
    "    \n",
    "    return importances\n"
   ]
  },
  {
   "cell_type": "code",
   "execution_count": null,
   "id": "9016b098-d37e-4185-97f7-0d7bf1d706c8",
   "metadata": {},
   "outputs": [],
   "source": []
  },
  {
   "cell_type": "code",
   "execution_count": null,
   "id": "04c3c67e-edb3-4795-9ace-c743c97e9f5d",
   "metadata": {},
   "outputs": [],
   "source": []
  },
  {
   "cell_type": "code",
   "execution_count": null,
   "id": "bbd51918-aa2a-4206-bbd3-548759ddaf52",
   "metadata": {},
   "outputs": [],
   "source": []
  },
  {
   "cell_type": "code",
   "execution_count": 89,
   "id": "6eb80442-35d2-4ac1-bf84-2accae94591b",
   "metadata": {},
   "outputs": [],
   "source": [
    "import umap.umap_ as umap\n",
    "reducer = umap.UMAP()"
   ]
  },
  {
   "cell_type": "code",
   "execution_count": null,
   "id": "774d6c76-f58a-4a30-8fed-7e0d244aa997",
   "metadata": {},
   "outputs": [],
   "source": []
  },
  {
   "cell_type": "code",
   "execution_count": null,
   "id": "5a0a43bf-481e-4f41-886d-4f3236bad1bd",
   "metadata": {},
   "outputs": [],
   "source": []
  },
  {
   "cell_type": "code",
   "execution_count": null,
   "id": "ea301cf4-e1b0-49d0-9762-6e50753001d7",
   "metadata": {},
   "outputs": [],
   "source": []
  },
  {
   "cell_type": "code",
   "execution_count": null,
   "id": "941aae3d-86dd-4e6a-87f8-d061a2e3dc7a",
   "metadata": {},
   "outputs": [],
   "source": []
  },
  {
   "cell_type": "code",
   "execution_count": null,
   "id": "bce117fa-a264-4d81-9312-b74a173afcd2",
   "metadata": {},
   "outputs": [],
   "source": []
  },
  {
   "cell_type": "code",
   "execution_count": null,
   "id": "8ac7591c-78b5-412a-9570-ea3d6bcd6fe1",
   "metadata": {},
   "outputs": [],
   "source": []
  },
  {
   "cell_type": "markdown",
   "id": "7ef8fc3f-5a93-499a-9548-a5022c3bae22",
   "metadata": {},
   "source": [
    "- NTF: number of dims in which the first value is True, second is False = 2.\n",
    "- NFT: number of dims in which the first value is False, second is True = 1.\n",
    "- NNEQ : number of non-equal dimensions, NNEQ = NTF + NFT = 3.\n",
    "- NTT : number of dims in which both values are True = 0.\n",
    "- NNZ : number of nonzero dimensions, NNZ = NTF + NFT + NTT = 3.\n",
    "- DiceDistance = NNEQ / (NTT + NNZ) = 3/3 = 1"
   ]
  },
  {
   "cell_type": "code",
   "execution_count": null,
   "id": "b91749e7-83ac-4854-8e4a-db9689e59536",
   "metadata": {},
   "outputs": [],
   "source": []
  },
  {
   "cell_type": "code",
   "execution_count": null,
   "id": "d5c5f879-1bad-4175-bb60-8d340fabafa9",
   "metadata": {},
   "outputs": [],
   "source": []
  },
  {
   "cell_type": "code",
   "execution_count": null,
   "id": "bfb0a324-3ea6-4284-99b4-d317fda942a8",
   "metadata": {},
   "outputs": [],
   "source": []
  },
  {
   "cell_type": "code",
   "execution_count": null,
   "id": "2cb12ca2-0ecd-4e2f-b767-f5cb7a5fcb05",
   "metadata": {},
   "outputs": [],
   "source": []
  }
 ],
 "metadata": {
  "kernelspec": {
   "display_name": "Python 3 (ipykernel)",
   "language": "python",
   "name": "python3"
  },
  "language_info": {
   "codemirror_mode": {
    "name": "ipython",
    "version": 3
   },
   "file_extension": ".py",
   "mimetype": "text/x-python",
   "name": "python",
   "nbconvert_exporter": "python",
   "pygments_lexer": "ipython3",
   "version": "3.8.18"
  }
 },
 "nbformat": 4,
 "nbformat_minor": 5
}
