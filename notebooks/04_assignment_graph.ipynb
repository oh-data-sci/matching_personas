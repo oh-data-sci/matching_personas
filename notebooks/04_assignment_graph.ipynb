{
 "cells": [
  {
   "cell_type": "markdown",
   "id": "7805fb65-148e-4cf5-bddf-d06b5c8e9357",
   "metadata": {},
   "source": [
    "assignment graph\n",
    "===\n",
    "# introduction\n",
    "now it is time to represent the assignment data as a graph. a graph is a collection of \n",
    "- nodes (entities)\n",
    "- vertices (connections between nodes)\n",
    "\n",
    "the nodes are customers. they are of one of two types: \n",
    "- sitters\n",
    "- homes\n",
    "\n",
    "each type of node has its own set of node properties. e.g. sitters (from the profiles table) have the properties of: \n",
    "- gender\n",
    "- occupation\n",
    "- location\n",
    "- experiences\n",
    "- interests+preferences\n",
    "- reviews\n",
    "- skills\n",
    "- etc. \n",
    "\n",
    "homes have their own properties from the listings table:\n",
    "- location\n",
    "- type\n",
    "- number of pets\n",
    "- number of kinds of pets\n",
    "- number of repeat sitters\n",
    "- kind of pets\n",
    "- size of largest pet\n",
    "- size of smallest pet\n",
    "- car or no car\n",
    "- accessibility\n",
    "- wifi/remote work friendly\n",
    "- local attractions\n",
    "- photos\n",
    "- etc\n",
    "\n",
    "the vertices connect homes and sitters. though these connections can either be a sitter application or a homeowner invite, for our purposes, they are of a single type and all have the same properties:\n",
    "- date created (earliest date in case of repeated connection)\n",
    "- was application/invite a success?\n",
    "- was it cancelled?\n",
    "- was it declined?\n",
    "- length of stay\n",
    "\n",
    "ultimately, though what really matters for community detection purposes is the weight of the vertex, a unidimensional measure of the strenght of the connection between the customer nodes.\n",
    "\n",
    "let us now build this graph, starting with the nodes. we will pull the data from the previous data preparation stage \n",
    "\n",
    "we first pull in the python graph library, `networkx` "
   ]
  },
  {
   "cell_type": "code",
   "execution_count": 2,
   "id": "28c51746-17bc-4deb-b243-a39919967fac",
   "metadata": {},
   "outputs": [],
   "source": [
    "import networkx as nx\n",
    "import pandas as pd\n",
    "\n",
    "datafolder = '../data/'"
   ]
  },
  {
   "cell_type": "code",
   "execution_count": null,
   "id": "8a8bfddf-59c2-4001-bfb9-02a581ce33f0",
   "metadata": {},
   "outputs": [],
   "source": [
    "# read the sitter listing\n",
    "pd.read_parquet(datafolder+'sitter.parquet')"
   ]
  },
  {
   "cell_type": "code",
   "execution_count": null,
   "id": "3cc60c5f-e5b8-4cc0-b5f4-fc1569cfe673",
   "metadata": {},
   "outputs": [],
   "source": []
  },
  {
   "cell_type": "code",
   "execution_count": null,
   "id": "55497b35-9d5c-4809-93a3-93d8e87a01c5",
   "metadata": {},
   "outputs": [],
   "source": []
  },
  {
   "cell_type": "code",
   "execution_count": null,
   "id": "4462490f-7ce4-4ee0-9570-cb9f2552fed2",
   "metadata": {},
   "outputs": [],
   "source": [
    "# initialise the graph\n",
    "G = nx.Graph()\n",
    "# add each customer node, first the \n"
   ]
  }
 ],
 "metadata": {
  "kernelspec": {
   "display_name": "Python 3 (ipykernel)",
   "language": "python",
   "name": "python3"
  },
  "language_info": {
   "codemirror_mode": {
    "name": "ipython",
    "version": 3
   },
   "file_extension": ".py",
   "mimetype": "text/x-python",
   "name": "python",
   "nbconvert_exporter": "python",
   "pygments_lexer": "ipython3",
   "version": "3.8.18"
  }
 },
 "nbformat": 4,
 "nbformat_minor": 5
}
